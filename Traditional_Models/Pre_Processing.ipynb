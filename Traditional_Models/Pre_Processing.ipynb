{
  "nbformat": 4,
  "nbformat_minor": 0,
  "metadata": {
    "colab": {
      "provenance": []
    },
    "kernelspec": {
      "name": "python3",
      "display_name": "Python 3"
    },
    "language_info": {
      "name": "python"
    }
  },
  "cells": [
    {
      "cell_type": "code",
      "execution_count": 1,
      "metadata": {
        "id": "Q1dGdWXCXFmb"
      },
      "outputs": [],
      "source": [
        "## Importing Libraries\n",
        "\n",
        "import matplotlib.pyplot as plt\n",
        "import nltk\n",
        "import numpy as np\n",
        "import pandas as pd\n",
        "import seaborn as sns\n",
        "import re\n",
        "from nltk.corpus import stopwords\n",
        "from nltk.stem import WordNetLemmatizer\n",
        "from sklearn.feature_extraction.text import CountVectorizer\n",
        "import matplotlib.pyplot as plt\n",
        "import seaborn as sns\n",
        "%matplotlib notebook\n",
        "%matplotlib inline\n",
        "from sklearn.linear_model import LogisticRegression\n",
        "import sklearn.model_selection\n",
        "import sklearn.preprocessing as preproc\n",
        "from sklearn.feature_extraction import text\n",
        "import pickle\n",
        "import warnings\n",
        "warnings.filterwarnings(\"ignore\")"
      ]
    },
    {
      "cell_type": "code",
      "source": [
        "del df"
      ],
      "metadata": {
        "colab": {
          "base_uri": "https://localhost:8080/",
          "height": 166
        },
        "id": "XbGwMKVdgL7J",
        "outputId": "7702081a-2f96-46d4-9e4b-44e74c1f6c56"
      },
      "execution_count": 3,
      "outputs": [
        {
          "output_type": "error",
          "ename": "NameError",
          "evalue": "ignored",
          "traceback": [
            "\u001b[0;31m---------------------------------------------------------------------------\u001b[0m",
            "\u001b[0;31mNameError\u001b[0m                                 Traceback (most recent call last)",
            "\u001b[0;32m<ipython-input-3-b7ec48e0f2bf>\u001b[0m in \u001b[0;36m<module>\u001b[0;34m\u001b[0m\n\u001b[0;32m----> 1\u001b[0;31m \u001b[0;32mdel\u001b[0m \u001b[0mdf\u001b[0m\u001b[0;34m\u001b[0m\u001b[0;34m\u001b[0m\u001b[0m\n\u001b[0m",
            "\u001b[0;31mNameError\u001b[0m: name 'df' is not defined"
          ]
        }
      ]
    },
    {
      "cell_type": "code",
      "source": [
        "from google.colab import files\n",
        "uploaded = files.upload()"
      ],
      "metadata": {
        "colab": {
          "base_uri": "https://localhost:8080/",
          "height": 71
        },
        "id": "Bu6NXwIzXJwB",
        "outputId": "6e34f9b2-cdb0-48df-c200-8333eebbb59a"
      },
      "execution_count": 4,
      "outputs": [
        {
          "output_type": "display_data",
          "data": {
            "text/plain": [
              "<IPython.core.display.HTML object>"
            ],
            "text/html": [
              "\n",
              "     <input type=\"file\" id=\"files-80a00318-1be4-4abe-a2e7-8f231bb5a6cb\" name=\"files[]\" multiple disabled\n",
              "        style=\"border:none\" />\n",
              "     <output id=\"result-80a00318-1be4-4abe-a2e7-8f231bb5a6cb\">\n",
              "      Upload widget is only available when the cell has been executed in the\n",
              "      current browser session. Please rerun this cell to enable.\n",
              "      </output>\n",
              "      <script>// Copyright 2017 Google LLC\n",
              "//\n",
              "// Licensed under the Apache License, Version 2.0 (the \"License\");\n",
              "// you may not use this file except in compliance with the License.\n",
              "// You may obtain a copy of the License at\n",
              "//\n",
              "//      http://www.apache.org/licenses/LICENSE-2.0\n",
              "//\n",
              "// Unless required by applicable law or agreed to in writing, software\n",
              "// distributed under the License is distributed on an \"AS IS\" BASIS,\n",
              "// WITHOUT WARRANTIES OR CONDITIONS OF ANY KIND, either express or implied.\n",
              "// See the License for the specific language governing permissions and\n",
              "// limitations under the License.\n",
              "\n",
              "/**\n",
              " * @fileoverview Helpers for google.colab Python module.\n",
              " */\n",
              "(function(scope) {\n",
              "function span(text, styleAttributes = {}) {\n",
              "  const element = document.createElement('span');\n",
              "  element.textContent = text;\n",
              "  for (const key of Object.keys(styleAttributes)) {\n",
              "    element.style[key] = styleAttributes[key];\n",
              "  }\n",
              "  return element;\n",
              "}\n",
              "\n",
              "// Max number of bytes which will be uploaded at a time.\n",
              "const MAX_PAYLOAD_SIZE = 100 * 1024;\n",
              "\n",
              "function _uploadFiles(inputId, outputId) {\n",
              "  const steps = uploadFilesStep(inputId, outputId);\n",
              "  const outputElement = document.getElementById(outputId);\n",
              "  // Cache steps on the outputElement to make it available for the next call\n",
              "  // to uploadFilesContinue from Python.\n",
              "  outputElement.steps = steps;\n",
              "\n",
              "  return _uploadFilesContinue(outputId);\n",
              "}\n",
              "\n",
              "// This is roughly an async generator (not supported in the browser yet),\n",
              "// where there are multiple asynchronous steps and the Python side is going\n",
              "// to poll for completion of each step.\n",
              "// This uses a Promise to block the python side on completion of each step,\n",
              "// then passes the result of the previous step as the input to the next step.\n",
              "function _uploadFilesContinue(outputId) {\n",
              "  const outputElement = document.getElementById(outputId);\n",
              "  const steps = outputElement.steps;\n",
              "\n",
              "  const next = steps.next(outputElement.lastPromiseValue);\n",
              "  return Promise.resolve(next.value.promise).then((value) => {\n",
              "    // Cache the last promise value to make it available to the next\n",
              "    // step of the generator.\n",
              "    outputElement.lastPromiseValue = value;\n",
              "    return next.value.response;\n",
              "  });\n",
              "}\n",
              "\n",
              "/**\n",
              " * Generator function which is called between each async step of the upload\n",
              " * process.\n",
              " * @param {string} inputId Element ID of the input file picker element.\n",
              " * @param {string} outputId Element ID of the output display.\n",
              " * @return {!Iterable<!Object>} Iterable of next steps.\n",
              " */\n",
              "function* uploadFilesStep(inputId, outputId) {\n",
              "  const inputElement = document.getElementById(inputId);\n",
              "  inputElement.disabled = false;\n",
              "\n",
              "  const outputElement = document.getElementById(outputId);\n",
              "  outputElement.innerHTML = '';\n",
              "\n",
              "  const pickedPromise = new Promise((resolve) => {\n",
              "    inputElement.addEventListener('change', (e) => {\n",
              "      resolve(e.target.files);\n",
              "    });\n",
              "  });\n",
              "\n",
              "  const cancel = document.createElement('button');\n",
              "  inputElement.parentElement.appendChild(cancel);\n",
              "  cancel.textContent = 'Cancel upload';\n",
              "  const cancelPromise = new Promise((resolve) => {\n",
              "    cancel.onclick = () => {\n",
              "      resolve(null);\n",
              "    };\n",
              "  });\n",
              "\n",
              "  // Wait for the user to pick the files.\n",
              "  const files = yield {\n",
              "    promise: Promise.race([pickedPromise, cancelPromise]),\n",
              "    response: {\n",
              "      action: 'starting',\n",
              "    }\n",
              "  };\n",
              "\n",
              "  cancel.remove();\n",
              "\n",
              "  // Disable the input element since further picks are not allowed.\n",
              "  inputElement.disabled = true;\n",
              "\n",
              "  if (!files) {\n",
              "    return {\n",
              "      response: {\n",
              "        action: 'complete',\n",
              "      }\n",
              "    };\n",
              "  }\n",
              "\n",
              "  for (const file of files) {\n",
              "    const li = document.createElement('li');\n",
              "    li.append(span(file.name, {fontWeight: 'bold'}));\n",
              "    li.append(span(\n",
              "        `(${file.type || 'n/a'}) - ${file.size} bytes, ` +\n",
              "        `last modified: ${\n",
              "            file.lastModifiedDate ? file.lastModifiedDate.toLocaleDateString() :\n",
              "                                    'n/a'} - `));\n",
              "    const percent = span('0% done');\n",
              "    li.appendChild(percent);\n",
              "\n",
              "    outputElement.appendChild(li);\n",
              "\n",
              "    const fileDataPromise = new Promise((resolve) => {\n",
              "      const reader = new FileReader();\n",
              "      reader.onload = (e) => {\n",
              "        resolve(e.target.result);\n",
              "      };\n",
              "      reader.readAsArrayBuffer(file);\n",
              "    });\n",
              "    // Wait for the data to be ready.\n",
              "    let fileData = yield {\n",
              "      promise: fileDataPromise,\n",
              "      response: {\n",
              "        action: 'continue',\n",
              "      }\n",
              "    };\n",
              "\n",
              "    // Use a chunked sending to avoid message size limits. See b/62115660.\n",
              "    let position = 0;\n",
              "    do {\n",
              "      const length = Math.min(fileData.byteLength - position, MAX_PAYLOAD_SIZE);\n",
              "      const chunk = new Uint8Array(fileData, position, length);\n",
              "      position += length;\n",
              "\n",
              "      const base64 = btoa(String.fromCharCode.apply(null, chunk));\n",
              "      yield {\n",
              "        response: {\n",
              "          action: 'append',\n",
              "          file: file.name,\n",
              "          data: base64,\n",
              "        },\n",
              "      };\n",
              "\n",
              "      let percentDone = fileData.byteLength === 0 ?\n",
              "          100 :\n",
              "          Math.round((position / fileData.byteLength) * 100);\n",
              "      percent.textContent = `${percentDone}% done`;\n",
              "\n",
              "    } while (position < fileData.byteLength);\n",
              "  }\n",
              "\n",
              "  // All done.\n",
              "  yield {\n",
              "    response: {\n",
              "      action: 'complete',\n",
              "    }\n",
              "  };\n",
              "}\n",
              "\n",
              "scope.google = scope.google || {};\n",
              "scope.google.colab = scope.google.colab || {};\n",
              "scope.google.colab._files = {\n",
              "  _uploadFiles,\n",
              "  _uploadFilesContinue,\n",
              "};\n",
              "})(self);\n",
              "</script> "
            ]
          },
          "metadata": {}
        },
        {
          "output_type": "stream",
          "name": "stdout",
          "text": [
            "Saving Final_Dataset_V2.xlsx to Final_Dataset_V2 (1).xlsx\n"
          ]
        }
      ]
    },
    {
      "cell_type": "code",
      "source": [
        "df = pd.read_excel('Final_Dataset_V2.xlsx')"
      ],
      "metadata": {
        "id": "sCw_zGwBXPCB"
      },
      "execution_count": 5,
      "outputs": []
    },
    {
      "cell_type": "code",
      "source": [
        "df.head()"
      ],
      "metadata": {
        "colab": {
          "base_uri": "https://localhost:8080/",
          "height": 206
        },
        "id": "6ko9brvuXgYP",
        "outputId": "eb945ff6-799c-4f02-a368-ac77fa058332"
      },
      "execution_count": 6,
      "outputs": [
        {
          "output_type": "execute_result",
          "data": {
            "text/plain": [
              "                                              review  rating\n",
              "0  Lost in Hartsfield I swear I hate ATL airport ...       1\n",
              "1                         Atlanta airport trash ðŸ˜«       1\n",
              "2  flight got fucking canceled, might have to spe...       1\n",
              "3  Disgusting.  Took one bite, spit it out and th...       1\n",
              "4  donâ€™t ever get lost in Atlanta airport the e...       1"
            ],
            "text/html": [
              "\n",
              "  <div id=\"df-051ccdad-25fc-4ab3-80b4-6f4bdc67c09f\">\n",
              "    <div class=\"colab-df-container\">\n",
              "      <div>\n",
              "<style scoped>\n",
              "    .dataframe tbody tr th:only-of-type {\n",
              "        vertical-align: middle;\n",
              "    }\n",
              "\n",
              "    .dataframe tbody tr th {\n",
              "        vertical-align: top;\n",
              "    }\n",
              "\n",
              "    .dataframe thead th {\n",
              "        text-align: right;\n",
              "    }\n",
              "</style>\n",
              "<table border=\"1\" class=\"dataframe\">\n",
              "  <thead>\n",
              "    <tr style=\"text-align: right;\">\n",
              "      <th></th>\n",
              "      <th>review</th>\n",
              "      <th>rating</th>\n",
              "    </tr>\n",
              "  </thead>\n",
              "  <tbody>\n",
              "    <tr>\n",
              "      <th>0</th>\n",
              "      <td>Lost in Hartsfield I swear I hate ATL airport ...</td>\n",
              "      <td>1</td>\n",
              "    </tr>\n",
              "    <tr>\n",
              "      <th>1</th>\n",
              "      <td>Atlanta airport trash ðŸ˜«</td>\n",
              "      <td>1</td>\n",
              "    </tr>\n",
              "    <tr>\n",
              "      <th>2</th>\n",
              "      <td>flight got fucking canceled, might have to spe...</td>\n",
              "      <td>1</td>\n",
              "    </tr>\n",
              "    <tr>\n",
              "      <th>3</th>\n",
              "      <td>Disgusting.  Took one bite, spit it out and th...</td>\n",
              "      <td>1</td>\n",
              "    </tr>\n",
              "    <tr>\n",
              "      <th>4</th>\n",
              "      <td>donâ€™t ever get lost in Atlanta airport the e...</td>\n",
              "      <td>1</td>\n",
              "    </tr>\n",
              "  </tbody>\n",
              "</table>\n",
              "</div>\n",
              "      <button class=\"colab-df-convert\" onclick=\"convertToInteractive('df-051ccdad-25fc-4ab3-80b4-6f4bdc67c09f')\"\n",
              "              title=\"Convert this dataframe to an interactive table.\"\n",
              "              style=\"display:none;\">\n",
              "        \n",
              "  <svg xmlns=\"http://www.w3.org/2000/svg\" height=\"24px\"viewBox=\"0 0 24 24\"\n",
              "       width=\"24px\">\n",
              "    <path d=\"M0 0h24v24H0V0z\" fill=\"none\"/>\n",
              "    <path d=\"M18.56 5.44l.94 2.06.94-2.06 2.06-.94-2.06-.94-.94-2.06-.94 2.06-2.06.94zm-11 1L8.5 8.5l.94-2.06 2.06-.94-2.06-.94L8.5 2.5l-.94 2.06-2.06.94zm10 10l.94 2.06.94-2.06 2.06-.94-2.06-.94-.94-2.06-.94 2.06-2.06.94z\"/><path d=\"M17.41 7.96l-1.37-1.37c-.4-.4-.92-.59-1.43-.59-.52 0-1.04.2-1.43.59L10.3 9.45l-7.72 7.72c-.78.78-.78 2.05 0 2.83L4 21.41c.39.39.9.59 1.41.59.51 0 1.02-.2 1.41-.59l7.78-7.78 2.81-2.81c.8-.78.8-2.07 0-2.86zM5.41 20L4 18.59l7.72-7.72 1.47 1.35L5.41 20z\"/>\n",
              "  </svg>\n",
              "      </button>\n",
              "      \n",
              "  <style>\n",
              "    .colab-df-container {\n",
              "      display:flex;\n",
              "      flex-wrap:wrap;\n",
              "      gap: 12px;\n",
              "    }\n",
              "\n",
              "    .colab-df-convert {\n",
              "      background-color: #E8F0FE;\n",
              "      border: none;\n",
              "      border-radius: 50%;\n",
              "      cursor: pointer;\n",
              "      display: none;\n",
              "      fill: #1967D2;\n",
              "      height: 32px;\n",
              "      padding: 0 0 0 0;\n",
              "      width: 32px;\n",
              "    }\n",
              "\n",
              "    .colab-df-convert:hover {\n",
              "      background-color: #E2EBFA;\n",
              "      box-shadow: 0px 1px 2px rgba(60, 64, 67, 0.3), 0px 1px 3px 1px rgba(60, 64, 67, 0.15);\n",
              "      fill: #174EA6;\n",
              "    }\n",
              "\n",
              "    [theme=dark] .colab-df-convert {\n",
              "      background-color: #3B4455;\n",
              "      fill: #D2E3FC;\n",
              "    }\n",
              "\n",
              "    [theme=dark] .colab-df-convert:hover {\n",
              "      background-color: #434B5C;\n",
              "      box-shadow: 0px 1px 3px 1px rgba(0, 0, 0, 0.15);\n",
              "      filter: drop-shadow(0px 1px 2px rgba(0, 0, 0, 0.3));\n",
              "      fill: #FFFFFF;\n",
              "    }\n",
              "  </style>\n",
              "\n",
              "      <script>\n",
              "        const buttonEl =\n",
              "          document.querySelector('#df-051ccdad-25fc-4ab3-80b4-6f4bdc67c09f button.colab-df-convert');\n",
              "        buttonEl.style.display =\n",
              "          google.colab.kernel.accessAllowed ? 'block' : 'none';\n",
              "\n",
              "        async function convertToInteractive(key) {\n",
              "          const element = document.querySelector('#df-051ccdad-25fc-4ab3-80b4-6f4bdc67c09f');\n",
              "          const dataTable =\n",
              "            await google.colab.kernel.invokeFunction('convertToInteractive',\n",
              "                                                     [key], {});\n",
              "          if (!dataTable) return;\n",
              "\n",
              "          const docLinkHtml = 'Like what you see? Visit the ' +\n",
              "            '<a target=\"_blank\" href=https://colab.research.google.com/notebooks/data_table.ipynb>data table notebook</a>'\n",
              "            + ' to learn more about interactive tables.';\n",
              "          element.innerHTML = '';\n",
              "          dataTable['output_type'] = 'display_data';\n",
              "          await google.colab.output.renderOutput(dataTable, element);\n",
              "          const docLink = document.createElement('div');\n",
              "          docLink.innerHTML = docLinkHtml;\n",
              "          element.appendChild(docLink);\n",
              "        }\n",
              "      </script>\n",
              "    </div>\n",
              "  </div>\n",
              "  "
            ]
          },
          "metadata": {},
          "execution_count": 6
        }
      ]
    },
    {
      "cell_type": "code",
      "source": [
        "# split the 'text' column on the word \"(Original)\" and take only the first part\n",
        "df['review_OG'] = df['review'].str.split(\"(Original)\").str[0].str.rstrip(\"(\").str.rstrip()\n"
      ],
      "metadata": {
        "id": "HnE8uAh6eSTP"
      },
      "execution_count": 7,
      "outputs": []
    },
    {
      "cell_type": "code",
      "source": [
        "df['review_TG'] = df['review_OG'].str.replace(r'\\(Translated by Google\\)', '', regex=True)"
      ],
      "metadata": {
        "id": "QzFcPn-xIF1Z"
      },
      "execution_count": 8,
      "outputs": []
    },
    {
      "cell_type": "code",
      "source": [
        "foul_words = ['fuck', 'suck', 'ass']\n",
        "\n",
        "def filter_foul_words(text):\n",
        "    words = str(text).split()  # Convert input value to a string before calling split()\n",
        "    filtered_words = [word for word in words if not any(foul_word.lower() in word.lower() for foul_word in foul_words)]\n",
        "    return ' '.join(filtered_words)\n",
        "\n",
        "# Apply the function to the review column\n",
        "df['review_BW'] = df['review_TG'].apply(filter_foul_words)"
      ],
      "metadata": {
        "id": "whrph-1WQzDb"
      },
      "execution_count": 17,
      "outputs": []
    },
    {
      "cell_type": "code",
      "source": [
        "foul_words = ['fuck', 'suck', 'ass']\n",
        "\n",
        "def filter_foul_words(text):\n",
        "    text=str(df['review'])\n",
        "    words = text.split()\n",
        "    filtered_words = [word for word in words if not any(foul_word.lower() in word.lower() for foul_word in foul_words)]\n",
        "    return ' '.join(filtered_words)\n",
        "\n",
        "# Apply the function to the review column\n",
        "df['review_BW'] = df['review_TG'].apply(filter_foul_words)"
      ],
      "metadata": {
        "id": "y_Wbb0F9rF0U"
      },
      "execution_count": 10,
      "outputs": []
    },
    {
      "cell_type": "code",
      "source": [
        "def remove_links(text):\n",
        "    return re.sub(r'https?\\S+', '', text)\n",
        "\n",
        "# Apply the function to the review column\n",
        "df['review_HTTP'] = df['review_BW'].apply(remove_links)"
      ],
      "metadata": {
        "id": "VqARqRVzuKOC"
      },
      "execution_count": 18,
      "outputs": []
    },
    {
      "cell_type": "code",
      "source": [
        "# Define a regex pattern to match any type of URL\n",
        "url_pattern = re.compile(r'(https?://|www\\.)\\S+')\n",
        "\n",
        "# Remove URLs from the 'review_text' column using str.replace()\n",
        "df['review_text_without_urls'] = df['review_HTTP'].str.replace(url_pattern, '')"
      ],
      "metadata": {
        "id": "RUeKBSoWicaD"
      },
      "execution_count": 19,
      "outputs": []
    },
    {
      "cell_type": "code",
      "source": [
        "# Removed * and / characters\n",
        "df['review_text_without_*?'] = df['review_text_without_urls'].apply(lambda x: x.replace(\"*\", \"\").replace(\"//\", \"\"))"
      ],
      "metadata": {
        "id": "VYHHW9uEzCU1"
      },
      "execution_count": 20,
      "outputs": []
    },
    {
      "cell_type": "code",
      "source": [
        "df['review_text_without_*?'] = df['review_text_without_*?'].replace(\" \", \"\")"
      ],
      "metadata": {
        "id": "NikprF6aL9by"
      },
      "execution_count": 21,
      "outputs": []
    },
    {
      "cell_type": "code",
      "source": [
        "df.head(20)"
      ],
      "metadata": {
        "colab": {
          "base_uri": "https://localhost:8080/",
          "height": 929
        },
        "id": "3epSPMunnIF_",
        "outputId": "8de8622c-a699-46aa-c392-337589140be1"
      },
      "execution_count": 22,
      "outputs": [
        {
          "output_type": "execute_result",
          "data": {
            "text/plain": [
              "                                               review  rating  \\\n",
              "0   Lost in Hartsfield I swear I hate ATL airport ...       1   \n",
              "1                          Atlanta airport trash ðŸ˜«       1   \n",
              "2   flight got fucking canceled, might have to spe...       1   \n",
              "3   Disgusting.  Took one bite, spit it out and th...       1   \n",
              "4   donâ€™t ever get lost in Atlanta airport the e...       1   \n",
              "5   Poor service, too much trolley around, queue 2...       1   \n",
              "6                   security is incompetent and rude.       1   \n",
              "7   Do not waste your time or money , horrible ser...       1   \n",
              "8   IMPOSSIBLE TO GET IN CONTACT WITH SOMEONE ON T...       1   \n",
              "9               Everything is huge and nothing works.       1   \n",
              "10  Ainâ€™t no point in having clear in Hartsfield...       1   \n",
              "11  Worst experience i have had. Two hours to get ...       1   \n",
              "12                      Atlantaâ€™s airport is insane       1   \n",
              "13              Atlanta Airport is fucking ridiculous       1   \n",
              "14                      atlanta airport be packed asf       1   \n",
              "15                          Clean it up ,  disgusting       1   \n",
              "16  The most disgusting bathroom ever !!!!!!!!!!!!...       1   \n",
              "17                   The waters too cold on the urnal       1   \n",
              "18  There was urine looking substanc n floorin sta...       1   \n",
              "19         Super slow service, ðŸŒ. Never again! â€¦       1   \n",
              "\n",
              "                                            review_OG  \\\n",
              "0   Lost in Hartsfield I swear I hate ATL airport ...   \n",
              "1                          Atlanta airport trash ðŸ˜«   \n",
              "2   flight got fucking canceled, might have to spe...   \n",
              "3   Disgusting.  Took one bite, spit it out and th...   \n",
              "4   donâ€™t ever get lost in Atlanta airport the e...   \n",
              "5   Poor service, too much trolley around, queue 2...   \n",
              "6                   security is incompetent and rude.   \n",
              "7   Do not waste your time or money , horrible ser...   \n",
              "8   IMPOSSIBLE TO GET IN CONTACT WITH SOMEONE ON T...   \n",
              "9               Everything is huge and nothing works.   \n",
              "10  Ainâ€™t no point in having clear in Hartsfield...   \n",
              "11  Worst experience i have had. Two hours to get ...   \n",
              "12                      Atlantaâ€™s airport is insane   \n",
              "13              Atlanta Airport is fucking ridiculous   \n",
              "14                      atlanta airport be packed asf   \n",
              "15                          Clean it up ,  disgusting   \n",
              "16  The most disgusting bathroom ever !!!!!!!!!!!!...   \n",
              "17                   The waters too cold on the urnal   \n",
              "18  There was urine looking substanc n floorin sta...   \n",
              "19         Super slow service, ðŸŒ. Never again! â€¦   \n",
              "\n",
              "                                            review_TG  \\\n",
              "0   Lost in Hartsfield I swear I hate ATL airport ...   \n",
              "1                          Atlanta airport trash ðŸ˜«   \n",
              "2   flight got fucking canceled, might have to spe...   \n",
              "3   Disgusting.  Took one bite, spit it out and th...   \n",
              "4   donâ€™t ever get lost in Atlanta airport the e...   \n",
              "5   Poor service, too much trolley around, queue 2...   \n",
              "6                   security is incompetent and rude.   \n",
              "7   Do not waste your time or money , horrible ser...   \n",
              "8   IMPOSSIBLE TO GET IN CONTACT WITH SOMEONE ON T...   \n",
              "9               Everything is huge and nothing works.   \n",
              "10  Ainâ€™t no point in having clear in Hartsfield...   \n",
              "11  Worst experience i have had. Two hours to get ...   \n",
              "12                      Atlantaâ€™s airport is insane   \n",
              "13              Atlanta Airport is fucking ridiculous   \n",
              "14                      atlanta airport be packed asf   \n",
              "15                          Clean it up ,  disgusting   \n",
              "16  The most disgusting bathroom ever !!!!!!!!!!!!...   \n",
              "17                   The waters too cold on the urnal   \n",
              "18  There was urine looking substanc n floorin sta...   \n",
              "19         Super slow service, ðŸŒ. Never again! â€¦   \n",
              "\n",
              "                                            review_BW  \\\n",
              "0   Lost in Hartsfield I swear I hate ATL airport ...   \n",
              "1                          Atlanta airport trash ðŸ˜«   \n",
              "2   flight got canceled, might have to spend 17 ho...   \n",
              "3   Disgusting. Took one bite, spit it out and thr...   \n",
              "4   donâ€™t ever get lost in Atlanta airport the e...   \n",
              "5   Poor service, too much trolley around, queue 2...   \n",
              "6                   security is incompetent and rude.   \n",
              "7   Do not waste your time or money , horrible ser...   \n",
              "8   IMPOSSIBLE TO GET IN CONTACT WITH SOMEONE ON T...   \n",
              "9               Everything is huge and nothing works.   \n",
              "10  Ainâ€™t no point in having clear in Hartsfield...   \n",
              "11  Worst experience i have had. Two hours to get ...   \n",
              "12                      Atlantaâ€™s airport is insane   \n",
              "13                      Atlanta Airport is ridiculous   \n",
              "14                      atlanta airport be packed asf   \n",
              "15                           Clean it up , disgusting   \n",
              "16  The most disgusting bathroom ever !!!!!!!!!!!!...   \n",
              "17                   The waters too cold on the urnal   \n",
              "18  There was urine looking substanc n floorin sta...   \n",
              "19         Super slow service, ðŸŒ. Never again! â€¦   \n",
              "\n",
              "                                          review_HTTP  \\\n",
              "0   Lost in Hartsfield I swear I hate ATL airport ...   \n",
              "1                          Atlanta airport trash ðŸ˜«   \n",
              "2   flight got canceled, might have to spend 17 ho...   \n",
              "3   Disgusting. Took one bite, spit it out and thr...   \n",
              "4   donâ€™t ever get lost in Atlanta airport the e...   \n",
              "5   Poor service, too much trolley around, queue 2...   \n",
              "6                   security is incompetent and rude.   \n",
              "7   Do not waste your time or money , horrible ser...   \n",
              "8   IMPOSSIBLE TO GET IN CONTACT WITH SOMEONE ON T...   \n",
              "9               Everything is huge and nothing works.   \n",
              "10  Ainâ€™t no point in having clear in Hartsfield...   \n",
              "11  Worst experience i have had. Two hours to get ...   \n",
              "12                      Atlantaâ€™s airport is insane   \n",
              "13                      Atlanta Airport is ridiculous   \n",
              "14                      atlanta airport be packed asf   \n",
              "15                           Clean it up , disgusting   \n",
              "16  The most disgusting bathroom ever !!!!!!!!!!!!...   \n",
              "17                   The waters too cold on the urnal   \n",
              "18  There was urine looking substanc n floorin sta...   \n",
              "19         Super slow service, ðŸŒ. Never again! â€¦   \n",
              "\n",
              "                             review_text_without_urls  \\\n",
              "0   Lost in Hartsfield I swear I hate ATL airport ...   \n",
              "1                          Atlanta airport trash ðŸ˜«   \n",
              "2   flight got canceled, might have to spend 17 ho...   \n",
              "3   Disgusting. Took one bite, spit it out and thr...   \n",
              "4   donâ€™t ever get lost in Atlanta airport the e...   \n",
              "5   Poor service, too much trolley around, queue 2...   \n",
              "6                   security is incompetent and rude.   \n",
              "7   Do not waste your time or money , horrible ser...   \n",
              "8   IMPOSSIBLE TO GET IN CONTACT WITH SOMEONE ON T...   \n",
              "9               Everything is huge and nothing works.   \n",
              "10  Ainâ€™t no point in having clear in Hartsfield...   \n",
              "11  Worst experience i have had. Two hours to get ...   \n",
              "12                      Atlantaâ€™s airport is insane   \n",
              "13                      Atlanta Airport is ridiculous   \n",
              "14                      atlanta airport be packed asf   \n",
              "15                           Clean it up , disgusting   \n",
              "16  The most disgusting bathroom ever !!!!!!!!!!!!...   \n",
              "17                   The waters too cold on the urnal   \n",
              "18  There was urine looking substanc n floorin sta...   \n",
              "19         Super slow service, ðŸŒ. Never again! â€¦   \n",
              "\n",
              "                               review_text_without_*?  \n",
              "0   Lost in Hartsfield I swear I hate ATL airport ...  \n",
              "1                          Atlanta airport trash ðŸ˜«  \n",
              "2   flight got canceled, might have to spend 17 ho...  \n",
              "3   Disgusting. Took one bite, spit it out and thr...  \n",
              "4   donâ€™t ever get lost in Atlanta airport the e...  \n",
              "5   Poor service, too much trolley around, queue 2...  \n",
              "6                   security is incompetent and rude.  \n",
              "7   Do not waste your time or money , horrible ser...  \n",
              "8   IMPOSSIBLE TO GET IN CONTACT WITH SOMEONE ON T...  \n",
              "9               Everything is huge and nothing works.  \n",
              "10  Ainâ€™t no point in having clear in Hartsfield...  \n",
              "11  Worst experience i have had. Two hours to get ...  \n",
              "12                      Atlantaâ€™s airport is insane  \n",
              "13                      Atlanta Airport is ridiculous  \n",
              "14                      atlanta airport be packed asf  \n",
              "15                           Clean it up , disgusting  \n",
              "16  The most disgusting bathroom ever !!!!!!!!!!!!...  \n",
              "17                   The waters too cold on the urnal  \n",
              "18  There was urine looking substanc n floorin sta...  \n",
              "19         Super slow service, ðŸŒ. Never again! â€¦  "
            ],
            "text/html": [
              "\n",
              "  <div id=\"df-e620aa62-ac1c-4ba9-a7a2-c0bfcc6b02aa\">\n",
              "    <div class=\"colab-df-container\">\n",
              "      <div>\n",
              "<style scoped>\n",
              "    .dataframe tbody tr th:only-of-type {\n",
              "        vertical-align: middle;\n",
              "    }\n",
              "\n",
              "    .dataframe tbody tr th {\n",
              "        vertical-align: top;\n",
              "    }\n",
              "\n",
              "    .dataframe thead th {\n",
              "        text-align: right;\n",
              "    }\n",
              "</style>\n",
              "<table border=\"1\" class=\"dataframe\">\n",
              "  <thead>\n",
              "    <tr style=\"text-align: right;\">\n",
              "      <th></th>\n",
              "      <th>review</th>\n",
              "      <th>rating</th>\n",
              "      <th>review_OG</th>\n",
              "      <th>review_TG</th>\n",
              "      <th>review_BW</th>\n",
              "      <th>review_HTTP</th>\n",
              "      <th>review_text_without_urls</th>\n",
              "      <th>review_text_without_*?</th>\n",
              "    </tr>\n",
              "  </thead>\n",
              "  <tbody>\n",
              "    <tr>\n",
              "      <th>0</th>\n",
              "      <td>Lost in Hartsfield I swear I hate ATL airport ...</td>\n",
              "      <td>1</td>\n",
              "      <td>Lost in Hartsfield I swear I hate ATL airport ...</td>\n",
              "      <td>Lost in Hartsfield I swear I hate ATL airport ...</td>\n",
              "      <td>Lost in Hartsfield I swear I hate ATL airport ...</td>\n",
              "      <td>Lost in Hartsfield I swear I hate ATL airport ...</td>\n",
              "      <td>Lost in Hartsfield I swear I hate ATL airport ...</td>\n",
              "      <td>Lost in Hartsfield I swear I hate ATL airport ...</td>\n",
              "    </tr>\n",
              "    <tr>\n",
              "      <th>1</th>\n",
              "      <td>Atlanta airport trash ðŸ˜«</td>\n",
              "      <td>1</td>\n",
              "      <td>Atlanta airport trash ðŸ˜«</td>\n",
              "      <td>Atlanta airport trash ðŸ˜«</td>\n",
              "      <td>Atlanta airport trash ðŸ˜«</td>\n",
              "      <td>Atlanta airport trash ðŸ˜«</td>\n",
              "      <td>Atlanta airport trash ðŸ˜«</td>\n",
              "      <td>Atlanta airport trash ðŸ˜«</td>\n",
              "    </tr>\n",
              "    <tr>\n",
              "      <th>2</th>\n",
              "      <td>flight got fucking canceled, might have to spe...</td>\n",
              "      <td>1</td>\n",
              "      <td>flight got fucking canceled, might have to spe...</td>\n",
              "      <td>flight got fucking canceled, might have to spe...</td>\n",
              "      <td>flight got canceled, might have to spend 17 ho...</td>\n",
              "      <td>flight got canceled, might have to spend 17 ho...</td>\n",
              "      <td>flight got canceled, might have to spend 17 ho...</td>\n",
              "      <td>flight got canceled, might have to spend 17 ho...</td>\n",
              "    </tr>\n",
              "    <tr>\n",
              "      <th>3</th>\n",
              "      <td>Disgusting.  Took one bite, spit it out and th...</td>\n",
              "      <td>1</td>\n",
              "      <td>Disgusting.  Took one bite, spit it out and th...</td>\n",
              "      <td>Disgusting.  Took one bite, spit it out and th...</td>\n",
              "      <td>Disgusting. Took one bite, spit it out and thr...</td>\n",
              "      <td>Disgusting. Took one bite, spit it out and thr...</td>\n",
              "      <td>Disgusting. Took one bite, spit it out and thr...</td>\n",
              "      <td>Disgusting. Took one bite, spit it out and thr...</td>\n",
              "    </tr>\n",
              "    <tr>\n",
              "      <th>4</th>\n",
              "      <td>donâ€™t ever get lost in Atlanta airport the e...</td>\n",
              "      <td>1</td>\n",
              "      <td>donâ€™t ever get lost in Atlanta airport the e...</td>\n",
              "      <td>donâ€™t ever get lost in Atlanta airport the e...</td>\n",
              "      <td>donâ€™t ever get lost in Atlanta airport the e...</td>\n",
              "      <td>donâ€™t ever get lost in Atlanta airport the e...</td>\n",
              "      <td>donâ€™t ever get lost in Atlanta airport the e...</td>\n",
              "      <td>donâ€™t ever get lost in Atlanta airport the e...</td>\n",
              "    </tr>\n",
              "    <tr>\n",
              "      <th>5</th>\n",
              "      <td>Poor service, too much trolley around, queue 2...</td>\n",
              "      <td>1</td>\n",
              "      <td>Poor service, too much trolley around, queue 2...</td>\n",
              "      <td>Poor service, too much trolley around, queue 2...</td>\n",
              "      <td>Poor service, too much trolley around, queue 2...</td>\n",
              "      <td>Poor service, too much trolley around, queue 2...</td>\n",
              "      <td>Poor service, too much trolley around, queue 2...</td>\n",
              "      <td>Poor service, too much trolley around, queue 2...</td>\n",
              "    </tr>\n",
              "    <tr>\n",
              "      <th>6</th>\n",
              "      <td>security is incompetent and rude.</td>\n",
              "      <td>1</td>\n",
              "      <td>security is incompetent and rude.</td>\n",
              "      <td>security is incompetent and rude.</td>\n",
              "      <td>security is incompetent and rude.</td>\n",
              "      <td>security is incompetent and rude.</td>\n",
              "      <td>security is incompetent and rude.</td>\n",
              "      <td>security is incompetent and rude.</td>\n",
              "    </tr>\n",
              "    <tr>\n",
              "      <th>7</th>\n",
              "      <td>Do not waste your time or money , horrible ser...</td>\n",
              "      <td>1</td>\n",
              "      <td>Do not waste your time or money , horrible ser...</td>\n",
              "      <td>Do not waste your time or money , horrible ser...</td>\n",
              "      <td>Do not waste your time or money , horrible ser...</td>\n",
              "      <td>Do not waste your time or money , horrible ser...</td>\n",
              "      <td>Do not waste your time or money , horrible ser...</td>\n",
              "      <td>Do not waste your time or money , horrible ser...</td>\n",
              "    </tr>\n",
              "    <tr>\n",
              "      <th>8</th>\n",
              "      <td>IMPOSSIBLE TO GET IN CONTACT WITH SOMEONE ON T...</td>\n",
              "      <td>1</td>\n",
              "      <td>IMPOSSIBLE TO GET IN CONTACT WITH SOMEONE ON T...</td>\n",
              "      <td>IMPOSSIBLE TO GET IN CONTACT WITH SOMEONE ON T...</td>\n",
              "      <td>IMPOSSIBLE TO GET IN CONTACT WITH SOMEONE ON T...</td>\n",
              "      <td>IMPOSSIBLE TO GET IN CONTACT WITH SOMEONE ON T...</td>\n",
              "      <td>IMPOSSIBLE TO GET IN CONTACT WITH SOMEONE ON T...</td>\n",
              "      <td>IMPOSSIBLE TO GET IN CONTACT WITH SOMEONE ON T...</td>\n",
              "    </tr>\n",
              "    <tr>\n",
              "      <th>9</th>\n",
              "      <td>Everything is huge and nothing works.</td>\n",
              "      <td>1</td>\n",
              "      <td>Everything is huge and nothing works.</td>\n",
              "      <td>Everything is huge and nothing works.</td>\n",
              "      <td>Everything is huge and nothing works.</td>\n",
              "      <td>Everything is huge and nothing works.</td>\n",
              "      <td>Everything is huge and nothing works.</td>\n",
              "      <td>Everything is huge and nothing works.</td>\n",
              "    </tr>\n",
              "    <tr>\n",
              "      <th>10</th>\n",
              "      <td>Ainâ€™t no point in having clear in Hartsfield...</td>\n",
              "      <td>1</td>\n",
              "      <td>Ainâ€™t no point in having clear in Hartsfield...</td>\n",
              "      <td>Ainâ€™t no point in having clear in Hartsfield...</td>\n",
              "      <td>Ainâ€™t no point in having clear in Hartsfield...</td>\n",
              "      <td>Ainâ€™t no point in having clear in Hartsfield...</td>\n",
              "      <td>Ainâ€™t no point in having clear in Hartsfield...</td>\n",
              "      <td>Ainâ€™t no point in having clear in Hartsfield...</td>\n",
              "    </tr>\n",
              "    <tr>\n",
              "      <th>11</th>\n",
              "      <td>Worst experience i have had. Two hours to get ...</td>\n",
              "      <td>1</td>\n",
              "      <td>Worst experience i have had. Two hours to get ...</td>\n",
              "      <td>Worst experience i have had. Two hours to get ...</td>\n",
              "      <td>Worst experience i have had. Two hours to get ...</td>\n",
              "      <td>Worst experience i have had. Two hours to get ...</td>\n",
              "      <td>Worst experience i have had. Two hours to get ...</td>\n",
              "      <td>Worst experience i have had. Two hours to get ...</td>\n",
              "    </tr>\n",
              "    <tr>\n",
              "      <th>12</th>\n",
              "      <td>Atlantaâ€™s airport is insane</td>\n",
              "      <td>1</td>\n",
              "      <td>Atlantaâ€™s airport is insane</td>\n",
              "      <td>Atlantaâ€™s airport is insane</td>\n",
              "      <td>Atlantaâ€™s airport is insane</td>\n",
              "      <td>Atlantaâ€™s airport is insane</td>\n",
              "      <td>Atlantaâ€™s airport is insane</td>\n",
              "      <td>Atlantaâ€™s airport is insane</td>\n",
              "    </tr>\n",
              "    <tr>\n",
              "      <th>13</th>\n",
              "      <td>Atlanta Airport is fucking ridiculous</td>\n",
              "      <td>1</td>\n",
              "      <td>Atlanta Airport is fucking ridiculous</td>\n",
              "      <td>Atlanta Airport is fucking ridiculous</td>\n",
              "      <td>Atlanta Airport is ridiculous</td>\n",
              "      <td>Atlanta Airport is ridiculous</td>\n",
              "      <td>Atlanta Airport is ridiculous</td>\n",
              "      <td>Atlanta Airport is ridiculous</td>\n",
              "    </tr>\n",
              "    <tr>\n",
              "      <th>14</th>\n",
              "      <td>atlanta airport be packed asf</td>\n",
              "      <td>1</td>\n",
              "      <td>atlanta airport be packed asf</td>\n",
              "      <td>atlanta airport be packed asf</td>\n",
              "      <td>atlanta airport be packed asf</td>\n",
              "      <td>atlanta airport be packed asf</td>\n",
              "      <td>atlanta airport be packed asf</td>\n",
              "      <td>atlanta airport be packed asf</td>\n",
              "    </tr>\n",
              "    <tr>\n",
              "      <th>15</th>\n",
              "      <td>Clean it up ,  disgusting</td>\n",
              "      <td>1</td>\n",
              "      <td>Clean it up ,  disgusting</td>\n",
              "      <td>Clean it up ,  disgusting</td>\n",
              "      <td>Clean it up , disgusting</td>\n",
              "      <td>Clean it up , disgusting</td>\n",
              "      <td>Clean it up , disgusting</td>\n",
              "      <td>Clean it up , disgusting</td>\n",
              "    </tr>\n",
              "    <tr>\n",
              "      <th>16</th>\n",
              "      <td>The most disgusting bathroom ever !!!!!!!!!!!!...</td>\n",
              "      <td>1</td>\n",
              "      <td>The most disgusting bathroom ever !!!!!!!!!!!!...</td>\n",
              "      <td>The most disgusting bathroom ever !!!!!!!!!!!!...</td>\n",
              "      <td>The most disgusting bathroom ever !!!!!!!!!!!!...</td>\n",
              "      <td>The most disgusting bathroom ever !!!!!!!!!!!!...</td>\n",
              "      <td>The most disgusting bathroom ever !!!!!!!!!!!!...</td>\n",
              "      <td>The most disgusting bathroom ever !!!!!!!!!!!!...</td>\n",
              "    </tr>\n",
              "    <tr>\n",
              "      <th>17</th>\n",
              "      <td>The waters too cold on the urnal</td>\n",
              "      <td>1</td>\n",
              "      <td>The waters too cold on the urnal</td>\n",
              "      <td>The waters too cold on the urnal</td>\n",
              "      <td>The waters too cold on the urnal</td>\n",
              "      <td>The waters too cold on the urnal</td>\n",
              "      <td>The waters too cold on the urnal</td>\n",
              "      <td>The waters too cold on the urnal</td>\n",
              "    </tr>\n",
              "    <tr>\n",
              "      <th>18</th>\n",
              "      <td>There was urine looking substanc n floorin sta...</td>\n",
              "      <td>1</td>\n",
              "      <td>There was urine looking substanc n floorin sta...</td>\n",
              "      <td>There was urine looking substanc n floorin sta...</td>\n",
              "      <td>There was urine looking substanc n floorin sta...</td>\n",
              "      <td>There was urine looking substanc n floorin sta...</td>\n",
              "      <td>There was urine looking substanc n floorin sta...</td>\n",
              "      <td>There was urine looking substanc n floorin sta...</td>\n",
              "    </tr>\n",
              "    <tr>\n",
              "      <th>19</th>\n",
              "      <td>Super slow service, ðŸŒ. Never again! â€¦</td>\n",
              "      <td>1</td>\n",
              "      <td>Super slow service, ðŸŒ. Never again! â€¦</td>\n",
              "      <td>Super slow service, ðŸŒ. Never again! â€¦</td>\n",
              "      <td>Super slow service, ðŸŒ. Never again! â€¦</td>\n",
              "      <td>Super slow service, ðŸŒ. Never again! â€¦</td>\n",
              "      <td>Super slow service, ðŸŒ. Never again! â€¦</td>\n",
              "      <td>Super slow service, ðŸŒ. Never again! â€¦</td>\n",
              "    </tr>\n",
              "  </tbody>\n",
              "</table>\n",
              "</div>\n",
              "      <button class=\"colab-df-convert\" onclick=\"convertToInteractive('df-e620aa62-ac1c-4ba9-a7a2-c0bfcc6b02aa')\"\n",
              "              title=\"Convert this dataframe to an interactive table.\"\n",
              "              style=\"display:none;\">\n",
              "        \n",
              "  <svg xmlns=\"http://www.w3.org/2000/svg\" height=\"24px\"viewBox=\"0 0 24 24\"\n",
              "       width=\"24px\">\n",
              "    <path d=\"M0 0h24v24H0V0z\" fill=\"none\"/>\n",
              "    <path d=\"M18.56 5.44l.94 2.06.94-2.06 2.06-.94-2.06-.94-.94-2.06-.94 2.06-2.06.94zm-11 1L8.5 8.5l.94-2.06 2.06-.94-2.06-.94L8.5 2.5l-.94 2.06-2.06.94zm10 10l.94 2.06.94-2.06 2.06-.94-2.06-.94-.94-2.06-.94 2.06-2.06.94z\"/><path d=\"M17.41 7.96l-1.37-1.37c-.4-.4-.92-.59-1.43-.59-.52 0-1.04.2-1.43.59L10.3 9.45l-7.72 7.72c-.78.78-.78 2.05 0 2.83L4 21.41c.39.39.9.59 1.41.59.51 0 1.02-.2 1.41-.59l7.78-7.78 2.81-2.81c.8-.78.8-2.07 0-2.86zM5.41 20L4 18.59l7.72-7.72 1.47 1.35L5.41 20z\"/>\n",
              "  </svg>\n",
              "      </button>\n",
              "      \n",
              "  <style>\n",
              "    .colab-df-container {\n",
              "      display:flex;\n",
              "      flex-wrap:wrap;\n",
              "      gap: 12px;\n",
              "    }\n",
              "\n",
              "    .colab-df-convert {\n",
              "      background-color: #E8F0FE;\n",
              "      border: none;\n",
              "      border-radius: 50%;\n",
              "      cursor: pointer;\n",
              "      display: none;\n",
              "      fill: #1967D2;\n",
              "      height: 32px;\n",
              "      padding: 0 0 0 0;\n",
              "      width: 32px;\n",
              "    }\n",
              "\n",
              "    .colab-df-convert:hover {\n",
              "      background-color: #E2EBFA;\n",
              "      box-shadow: 0px 1px 2px rgba(60, 64, 67, 0.3), 0px 1px 3px 1px rgba(60, 64, 67, 0.15);\n",
              "      fill: #174EA6;\n",
              "    }\n",
              "\n",
              "    [theme=dark] .colab-df-convert {\n",
              "      background-color: #3B4455;\n",
              "      fill: #D2E3FC;\n",
              "    }\n",
              "\n",
              "    [theme=dark] .colab-df-convert:hover {\n",
              "      background-color: #434B5C;\n",
              "      box-shadow: 0px 1px 3px 1px rgba(0, 0, 0, 0.15);\n",
              "      filter: drop-shadow(0px 1px 2px rgba(0, 0, 0, 0.3));\n",
              "      fill: #FFFFFF;\n",
              "    }\n",
              "  </style>\n",
              "\n",
              "      <script>\n",
              "        const buttonEl =\n",
              "          document.querySelector('#df-e620aa62-ac1c-4ba9-a7a2-c0bfcc6b02aa button.colab-df-convert');\n",
              "        buttonEl.style.display =\n",
              "          google.colab.kernel.accessAllowed ? 'block' : 'none';\n",
              "\n",
              "        async function convertToInteractive(key) {\n",
              "          const element = document.querySelector('#df-e620aa62-ac1c-4ba9-a7a2-c0bfcc6b02aa');\n",
              "          const dataTable =\n",
              "            await google.colab.kernel.invokeFunction('convertToInteractive',\n",
              "                                                     [key], {});\n",
              "          if (!dataTable) return;\n",
              "\n",
              "          const docLinkHtml = 'Like what you see? Visit the ' +\n",
              "            '<a target=\"_blank\" href=https://colab.research.google.com/notebooks/data_table.ipynb>data table notebook</a>'\n",
              "            + ' to learn more about interactive tables.';\n",
              "          element.innerHTML = '';\n",
              "          dataTable['output_type'] = 'display_data';\n",
              "          await google.colab.output.renderOutput(dataTable, element);\n",
              "          const docLink = document.createElement('div');\n",
              "          docLink.innerHTML = docLinkHtml;\n",
              "          element.appendChild(docLink);\n",
              "        }\n",
              "      </script>\n",
              "    </div>\n",
              "  </div>\n",
              "  "
            ]
          },
          "metadata": {},
          "execution_count": 22
        }
      ]
    },
    {
      "cell_type": "code",
      "source": [
        "df.to_csv('output.csv', index=False)"
      ],
      "metadata": {
        "id": "xyZhfKcL9-uI"
      },
      "execution_count": 221,
      "outputs": []
    },
    {
      "cell_type": "code",
      "source": [
        "from sklearn.model_selection import train_test_split\n",
        "from sklearn.feature_extraction.text import TfidfVectorizer\n",
        "\n",
        "vectorizer = TfidfVectorizer()\n",
        "X = vectorizer.fit_transform(df['review_text_without_urls'])\n",
        "y = df['rating']\n",
        "\n",
        "# Split dataset into training and testing sets\n",
        "X_train, X_test, y_train, y_test = train_test_split(X, y, test_size=0.2, random_state=42)"
      ],
      "metadata": {
        "id": "Id0-wljaRaoa"
      },
      "execution_count": 42,
      "outputs": []
    },
    {
      "cell_type": "code",
      "source": [
        "df['review_text_without_urls'].head()"
      ],
      "metadata": {
        "colab": {
          "base_uri": "https://localhost:8080/"
        },
        "id": "9WmN0XUqXkGv",
        "outputId": "00fd1889-962a-470c-f43d-d975297b0096"
      },
      "execution_count": 41,
      "outputs": [
        {
          "output_type": "execute_result",
          "data": {
            "text/plain": [
              "0    Lost in Hartsfield I swear I hate ATL airport ...\n",
              "1                           Atlanta airport trash ðŸ˜«\n",
              "2    flight got canceled, might have to spend 17 ho...\n",
              "3    Disgusting. Took one bite, spit it out and thr...\n",
              "4    donâ€™t ever get lost in Atlanta airport the e...\n",
              "Name: review_text_without_urls, dtype: object"
            ]
          },
          "metadata": {},
          "execution_count": 41
        }
      ]
    },
    {
      "cell_type": "code",
      "source": [
        "model = LogisticRegression()"
      ],
      "metadata": {
        "id": "XFtQxbhkRak5"
      },
      "execution_count": 43,
      "outputs": []
    },
    {
      "cell_type": "code",
      "source": [
        "model.fit(X_train, y_train)"
      ],
      "metadata": {
        "colab": {
          "base_uri": "https://localhost:8080/",
          "height": 75
        },
        "id": "XF5fip8PRagB",
        "outputId": "28ad16a4-93ea-4bc9-ed29-88bdc3147806"
      },
      "execution_count": 44,
      "outputs": [
        {
          "output_type": "execute_result",
          "data": {
            "text/plain": [
              "LogisticRegression()"
            ],
            "text/html": [
              "<style>#sk-container-id-3 {color: black;background-color: white;}#sk-container-id-3 pre{padding: 0;}#sk-container-id-3 div.sk-toggleable {background-color: white;}#sk-container-id-3 label.sk-toggleable__label {cursor: pointer;display: block;width: 100%;margin-bottom: 0;padding: 0.3em;box-sizing: border-box;text-align: center;}#sk-container-id-3 label.sk-toggleable__label-arrow:before {content: \"▸\";float: left;margin-right: 0.25em;color: #696969;}#sk-container-id-3 label.sk-toggleable__label-arrow:hover:before {color: black;}#sk-container-id-3 div.sk-estimator:hover label.sk-toggleable__label-arrow:before {color: black;}#sk-container-id-3 div.sk-toggleable__content {max-height: 0;max-width: 0;overflow: hidden;text-align: left;background-color: #f0f8ff;}#sk-container-id-3 div.sk-toggleable__content pre {margin: 0.2em;color: black;border-radius: 0.25em;background-color: #f0f8ff;}#sk-container-id-3 input.sk-toggleable__control:checked~div.sk-toggleable__content {max-height: 200px;max-width: 100%;overflow: auto;}#sk-container-id-3 input.sk-toggleable__control:checked~label.sk-toggleable__label-arrow:before {content: \"▾\";}#sk-container-id-3 div.sk-estimator input.sk-toggleable__control:checked~label.sk-toggleable__label {background-color: #d4ebff;}#sk-container-id-3 div.sk-label input.sk-toggleable__control:checked~label.sk-toggleable__label {background-color: #d4ebff;}#sk-container-id-3 input.sk-hidden--visually {border: 0;clip: rect(1px 1px 1px 1px);clip: rect(1px, 1px, 1px, 1px);height: 1px;margin: -1px;overflow: hidden;padding: 0;position: absolute;width: 1px;}#sk-container-id-3 div.sk-estimator {font-family: monospace;background-color: #f0f8ff;border: 1px dotted black;border-radius: 0.25em;box-sizing: border-box;margin-bottom: 0.5em;}#sk-container-id-3 div.sk-estimator:hover {background-color: #d4ebff;}#sk-container-id-3 div.sk-parallel-item::after {content: \"\";width: 100%;border-bottom: 1px solid gray;flex-grow: 1;}#sk-container-id-3 div.sk-label:hover label.sk-toggleable__label {background-color: #d4ebff;}#sk-container-id-3 div.sk-serial::before {content: \"\";position: absolute;border-left: 1px solid gray;box-sizing: border-box;top: 0;bottom: 0;left: 50%;z-index: 0;}#sk-container-id-3 div.sk-serial {display: flex;flex-direction: column;align-items: center;background-color: white;padding-right: 0.2em;padding-left: 0.2em;position: relative;}#sk-container-id-3 div.sk-item {position: relative;z-index: 1;}#sk-container-id-3 div.sk-parallel {display: flex;align-items: stretch;justify-content: center;background-color: white;position: relative;}#sk-container-id-3 div.sk-item::before, #sk-container-id-3 div.sk-parallel-item::before {content: \"\";position: absolute;border-left: 1px solid gray;box-sizing: border-box;top: 0;bottom: 0;left: 50%;z-index: -1;}#sk-container-id-3 div.sk-parallel-item {display: flex;flex-direction: column;z-index: 1;position: relative;background-color: white;}#sk-container-id-3 div.sk-parallel-item:first-child::after {align-self: flex-end;width: 50%;}#sk-container-id-3 div.sk-parallel-item:last-child::after {align-self: flex-start;width: 50%;}#sk-container-id-3 div.sk-parallel-item:only-child::after {width: 0;}#sk-container-id-3 div.sk-dashed-wrapped {border: 1px dashed gray;margin: 0 0.4em 0.5em 0.4em;box-sizing: border-box;padding-bottom: 0.4em;background-color: white;}#sk-container-id-3 div.sk-label label {font-family: monospace;font-weight: bold;display: inline-block;line-height: 1.2em;}#sk-container-id-3 div.sk-label-container {text-align: center;}#sk-container-id-3 div.sk-container {/* jupyter's `normalize.less` sets `[hidden] { display: none; }` but bootstrap.min.css set `[hidden] { display: none !important; }` so we also need the `!important` here to be able to override the default hidden behavior on the sphinx rendered scikit-learn.org. See: https://github.com/scikit-learn/scikit-learn/issues/21755 */display: inline-block !important;position: relative;}#sk-container-id-3 div.sk-text-repr-fallback {display: none;}</style><div id=\"sk-container-id-3\" class=\"sk-top-container\"><div class=\"sk-text-repr-fallback\"><pre>LogisticRegression()</pre><b>In a Jupyter environment, please rerun this cell to show the HTML representation or trust the notebook. <br />On GitHub, the HTML representation is unable to render, please try loading this page with nbviewer.org.</b></div><div class=\"sk-container\" hidden><div class=\"sk-item\"><div class=\"sk-estimator sk-toggleable\"><input class=\"sk-toggleable__control sk-hidden--visually\" id=\"sk-estimator-id-3\" type=\"checkbox\" checked><label for=\"sk-estimator-id-3\" class=\"sk-toggleable__label sk-toggleable__label-arrow\">LogisticRegression</label><div class=\"sk-toggleable__content\"><pre>LogisticRegression()</pre></div></div></div></div></div>"
            ]
          },
          "metadata": {},
          "execution_count": 44
        }
      ]
    },
    {
      "cell_type": "code",
      "source": [
        "y_pred = model.predict(X_test)"
      ],
      "metadata": {
        "id": "ajkPygDZRadp"
      },
      "execution_count": 45,
      "outputs": []
    },
    {
      "cell_type": "code",
      "source": [
        "from sklearn.metrics import classification_report\n",
        "report = classification_report(y_test, y_pred)\n",
        "print(report)"
      ],
      "metadata": {
        "colab": {
          "base_uri": "https://localhost:8080/"
        },
        "id": "x-4UOmk1RabK",
        "outputId": "34a1de1d-15ad-43c8-ee62-8903069339ec"
      },
      "execution_count": 46,
      "outputs": [
        {
          "output_type": "stream",
          "name": "stdout",
          "text": [
            "              precision    recall  f1-score   support\n",
            "\n",
            "           1       0.62      0.61      0.62       599\n",
            "           2       0.50      0.51      0.50       636\n",
            "           3       0.43      0.43      0.43       574\n",
            "           4       0.54      0.51      0.52       599\n",
            "           5       0.72      0.74      0.73       592\n",
            "\n",
            "    accuracy                           0.56      3000\n",
            "   macro avg       0.56      0.56      0.56      3000\n",
            "weighted avg       0.56      0.56      0.56      3000\n",
            "\n"
          ]
        }
      ]
    },
    {
      "cell_type": "code",
      "source": [
        "from sklearn.metrics import confusion_matrix\n",
        "\n",
        "cm = confusion_matrix(y_test, y_pred)\n",
        "fig, ax = plt.subplots(figsize=(8, 8))\n",
        "im = ax.imshow(cm, cmap=plt.cm.Blues)\n",
        "ax.set_title('Confusion Matrix')\n",
        "plt.colorbar(im)\n",
        "tick_marks = np.arange(len(set(y_test)))\n",
        "plt.xticks(tick_marks, sorted(set(y_test)))\n",
        "plt.yticks(tick_marks, sorted(set(y_test)))\n",
        "\n",
        "# Add text annotations inside the plot\n",
        "thresh = cm.max() / 2.\n",
        "for i in range(cm.shape[0]):\n",
        "    for j in range(cm.shape[1]):\n",
        "        ax.text(j, i, format(cm[i, j], 'd'),\n",
        "                ha=\"center\", va=\"center\",\n",
        "                color=\"white\" if cm[i, j] > thresh else \"black\")\n",
        "\n",
        "ax.set_xlabel('Predicted Label')\n",
        "ax.set_ylabel('True Label')\n",
        "fig.tight_layout()\n",
        "plt.show()"
      ],
      "metadata": {
        "colab": {
          "base_uri": "https://localhost:8080/",
          "height": 585
        },
        "id": "0EJ5Cl0cRaYX",
        "outputId": "d8dd330e-867c-4dcf-fe5b-7e1f005f2ac7"
      },
      "execution_count": 36,
      "outputs": [
        {
          "output_type": "display_data",
          "data": {
            "text/plain": [
              "<Figure size 576x576 with 2 Axes>"
            ],
            "image/png": "[encoded data removed]"
          },
          "metadata": {
            "needs_background": "light"
          }
        }
      ]
    },
    {
      "cell_type": "code",
      "source": [],
      "metadata": {
        "id": "q5jTTkfKRaVh"
      },
      "execution_count": null,
      "outputs": []
    },
    {
      "cell_type": "code",
      "source": [],
      "metadata": {
        "id": "MCOaHkQbRaPq"
      },
      "execution_count": null,
      "outputs": []
    },
    {
      "cell_type": "code",
      "source": [],
      "metadata": {
        "id": "ef24Tdu2RaDW"
      },
      "execution_count": null,
      "outputs": []
    },
    {
      "cell_type": "code",
      "source": [],
      "metadata": {
        "id": "bqk40Pt9RZyI"
      },
      "execution_count": null,
      "outputs": []
    },
    {
      "cell_type": "code",
      "source": [
        "asdasdadsads"
      ],
      "metadata": {
        "colab": {
          "base_uri": "https://localhost:8080/",
          "height": 166
        },
        "id": "t1dI7gwx-i3T",
        "outputId": "a6d24f57-5a9e-4627-f121-278d9f1bac68"
      },
      "execution_count": 183,
      "outputs": [
        {
          "output_type": "error",
          "ename": "NameError",
          "evalue": "ignored",
          "traceback": [
            "\u001b[0;31m---------------------------------------------------------------------------\u001b[0m",
            "\u001b[0;31mNameError\u001b[0m                                 Traceback (most recent call last)",
            "\u001b[0;32m<ipython-input-183-d80576540d2a>\u001b[0m in \u001b[0;36m<module>\u001b[0;34m\u001b[0m\n\u001b[0;32m----> 1\u001b[0;31m \u001b[0masdasdadsads\u001b[0m\u001b[0;34m\u001b[0m\u001b[0;34m\u001b[0m\u001b[0m\n\u001b[0m",
            "\u001b[0;31mNameError\u001b[0m: name 'asdasdadsads' is not defined"
          ]
        }
      ]
    },
    {
      "cell_type": "code",
      "source": [
        "text = \"This is a *sample* text with //some// special characters\"\n",
        "text = text.replace(\"*\", \"\").replace(\"//\", \"\")\n",
        "print(text)\n"
      ],
      "metadata": {
        "id": "zto1mdvL8g0y"
      },
      "execution_count": null,
      "outputs": []
    },
    {
      "cell_type": "code",
      "source": [
        "def remove_website_links(text):\n",
        "    return re.sub(r'\\bhttps?://\\S+', '', text)"
      ],
      "metadata": {
        "id": "C7VwGAVemjsj"
      },
      "execution_count": null,
      "outputs": []
    },
    {
      "cell_type": "code",
      "source": [
        "df['filtered_review_URL'] = df['filtered_review1'].apply(remove_website_links)"
      ],
      "metadata": {
        "id": "j9-pboDvnJDm"
      },
      "execution_count": null,
      "outputs": []
    },
    {
      "cell_type": "code",
      "source": [
        "#website_pattern = r'http[s]?://www.(?:[a-zA-Z]|[0-9]|[$-_@.&+]|[!*\\(\\),]|(?:%[0-9a-fA-F][0-9a-fA-F]))+'\n",
        "website_pattern = r'http[s]?://(?:[a-zA-Z]|[0-9]|[$-_@.&+]|[!*\\(\\),]|(?:%[0-9a-fA-F][0-9a-fA-F]))+'\n",
        "\n",
        "# Define function to apply pattern to each string in column\n",
        "def remove_website_links(text):\n",
        "    return re.sub(website_pattern, '', text)\n",
        "\n",
        "# Apply function to column using apply method\n",
        "df['filtered_review_URL'] = df['filtered_review_URL'].apply(remove_website_links)\n"
      ],
      "metadata": {
        "id": "meVNyd2znXZ-"
      },
      "execution_count": null,
      "outputs": []
    },
    {
      "cell_type": "code",
      "source": [
        "df"
      ],
      "metadata": {
        "id": "ssRY6FxjqWMF"
      },
      "execution_count": null,
      "outputs": []
    },
    {
      "cell_type": "code",
      "source": [
        "text = \"//www.knoebels.com/teamrsvp says the page does not exist\"\n",
        "\n",
        "# Define regular expression pattern to match website links\n",
        "#website_pattern = r'http[s]?://(?:[a-zA-Z]|[0-9]|[$-_@.&+]|[!*\\(\\),]|(?:%[0-9a-fA-F][0-9a-fA-F]))+'\n",
        "website_pattern = r'(https?://(?:[-\\w./]|(?:%[\\da-fA-F]{2}))+)' \n",
        "\n",
        "# Remove website links from text using sub() function\n",
        "clean_text = re.sub(website_pattern, '', text)\n",
        "\n",
        "print(clean_text)"
      ],
      "metadata": {
        "id": "xb6d8p-Fqyzt"
      },
      "execution_count": null,
      "outputs": []
    },
    {
      "cell_type": "code",
      "source": [
        "pip install urlextract"
      ],
      "metadata": {
        "id": "DUkgINMqvzs6"
      },
      "execution_count": null,
      "outputs": []
    },
    {
      "cell_type": "code",
      "source": [
        "# Define a regex pattern to match any type of URL\n",
        "url_pattern = re.compile(r'(https?://|www\\.)\\S+')\n",
        "\n",
        "# Remove URLs from the 'review_text' column using str.replace()\n",
        "df['review_text_without_urls'] = df['filtered_review_URL'].str.replace(url_pattern, '')"
      ],
      "metadata": {
        "id": "YgOjd_vKBsBD"
      },
      "execution_count": null,
      "outputs": []
    },
    {
      "cell_type": "code",
      "source": [
        "df.drop('review_text_without_urls', axis=1, inplace=True)"
      ],
      "metadata": {
        "id": "zkPWzcLDCdNS"
      },
      "execution_count": null,
      "outputs": []
    },
    {
      "cell_type": "code",
      "source": [
        "df"
      ],
      "metadata": {
        "id": "x9DZzEErcpNQ"
      },
      "execution_count": null,
      "outputs": []
    },
    {
      "cell_type": "code",
      "source": [
        "pip install vaderSentiment"
      ],
      "metadata": {
        "id": "pHvNX-ZfGOem"
      },
      "execution_count": null,
      "outputs": []
    },
    {
      "cell_type": "code",
      "source": [
        "pip install emoji"
      ],
      "metadata": {
        "id": "wKDw2pZfV5vK"
      },
      "execution_count": null,
      "outputs": []
    },
    {
      "cell_type": "code",
      "source": [
        "import emoji\n",
        "from textblob import TextBlob\n",
        "\n",
        "# Define a function to analyze the sentiment of text\n",
        "def analyze_sentiment(text):\n",
        "    # Replace emojis with their textual descriptions\n",
        "    text = emoji.demojize(text)\n",
        "    # Analyze the sentiment using TextBlob\n",
        "    sentiment = TextBlob(text).sentiment.polarity\n",
        "    # Return the sentiment score\n",
        "    return sentiment\n",
        "\n",
        "# Test the function with a string that contains emojis\n",
        "text = \"Atlanta airport so damn dirty n triflingðŸ˜­ðŸ˜­ðŸ˜­ðŸ˜­ðŸ˜­ðŸ˜­ðŸ˜­ðŸ˜­ðŸ˜­\"\n",
        "sentiment = analyze_sentiment(text)\n",
        "print(sentiment)"
      ],
      "metadata": {
        "id": "U7G5XApZGqzt"
      },
      "execution_count": null,
      "outputs": []
    },
    {
      "cell_type": "code",
      "source": [
        "df"
      ],
      "metadata": {
        "id": "aaBwe0-CZA3u"
      },
      "execution_count": null,
      "outputs": []
    },
    {
      "cell_type": "code",
      "source": [
        "import re\n",
        "\n",
        "text = \"Atlanta airport so damn dirty n triflingðŸ˜­ðŸ˜­ðŸ˜­ðŸ˜­ðŸ˜­ðŸ˜­ðŸ˜­ðŸ˜­ðŸ˜­\"\n",
        "\n",
        "# Define a dictionary of special characters and their corresponding Unicode emoji characters\n",
        "emoji_dict = {\"dirty\": \"\\u1F922\"}\n",
        "\n",
        "# Iterate through the dictionary and replace each special character with its corresponding emoji\n",
        "for special_char, emoji_char in emoji_dict.items():\n",
        "    text = re.sub(special_char, emoji_char, text)\n",
        "\n",
        "print(text)"
      ],
      "metadata": {
        "id": "T0UT9KinZBPI"
      },
      "execution_count": null,
      "outputs": []
    },
    {
      "cell_type": "code",
      "source": [],
      "metadata": {
        "id": "cO9MA2DobNhP"
      },
      "execution_count": null,
      "outputs": []
    }
  ]
}