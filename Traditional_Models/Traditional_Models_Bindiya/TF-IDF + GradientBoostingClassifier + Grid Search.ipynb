{
 "cells": [
  {
   "cell_type": "code",
   "execution_count": null,
   "id": "33f25b6a",
   "metadata": {},
   "outputs": [],
   "source": [
    "import numpy as np # linear algebra\n",
    "import pandas as pd # data processing\n",
    "from sklearn.model_selection import train_test_split # function for splitting data to train and test sets\n",
    "\n",
    "import nltk\n",
    "from nltk.corpus import stopwords\n",
    "from nltk.classify import SklearnClassifier\n",
    "\n",
    "from subprocess import check_output\n",
    "from sklearn.utils import shuffle\n",
    "\n",
    "import matplotlib.pyplot as plt\n",
    "\n",
    "import seaborn as sns"
   ]
  },
  {
   "cell_type": "code",
   "execution_count": null,
   "id": "45b75edd",
   "metadata": {},
   "outputs": [],
   "source": [
    "#Loading the dataset\n",
    "data = pd.read_excel('Book2.xlsx')\n",
    "datadata = shuffle(data)"
   ]
  },
  {
   "cell_type": "code",
   "execution_count": null,
   "id": "7ef078a6",
   "metadata": {},
   "outputs": [],
   "source": [
    "sns.countplot(x='rating',data=data, palette='hls')\n",
    "plt.show()\n",
    "plt.savefig('count_plot')"
   ]
  },
  {
   "cell_type": "code",
   "execution_count": null,
   "id": "e58b9b7d",
   "metadata": {},
   "outputs": [],
   "source": [
    "X = data[\"review_comment\"]\n",
    "Y = data[\"rating\"]"
   ]
  },
  {
   "cell_type": "code",
   "execution_count": null,
   "id": "de8d8e00",
   "metadata": {},
   "outputs": [],
   "source": [
    "# Split the data into train and test\n",
    "X_train, X_test, y_train, y_test = train_test_split(X,                  # predictors\n",
    "                                                    Y,                  # labels\n",
    "                                                    test_size=1/3,      # test set size \n",
    "                                                    random_state=0)     # set random number generator seed for reproducibility \n",
    "\n",
    "print(X_train.shape)\n",
    "print(X_test.shape)"
   ]
  },
  {
   "cell_type": "code",
   "execution_count": null,
   "id": "887e02d3",
   "metadata": {},
   "outputs": [],
   "source": [
    "# Setup pipeline\n",
    "from sklearn.feature_extraction.text import TfidfVectorizer\n",
    "from sklearn.ensemble import GradientBoostingClassifier\n",
    "from sklearn.pipeline import Pipeline\n",
    "pipe = Pipeline([('tfidf', TfidfVectorizer()), \n",
    "                 ('clf', GradientBoostingClassifier(random_state=42))])"
   ]
  },
  {
   "cell_type": "code",
   "execution_count": null,
   "id": "6bdbc1b7",
   "metadata": {},
   "outputs": [],
   "source": [
    "param1 = dict(tfidf__ngram_range=[(1, 1), (1, 2), (1, 3)],\n",
    "        tfidf__min_df=[1, 2],\n",
    "        tfidf__stop_words=[None, \"english\"],\n",
    "        tfidf__smooth_idf=[False, True],\n",
    "        tfidf__use_idf=[False, True],\n",
    "        tfidf__sublinear_tf=[False, True],\n",
    "        tfidf__binary=[False, True],\n",
    "        )\n",
    "\n",
    "param2 = dict(classifier__C = [10**-2, 10**-1, 10**0, 10**1, 10**2],\n",
    "              classifier__penalty = ['l1', 'l2'])"
   ]
  },
  {
   "cell_type": "code",
   "execution_count": null,
   "id": "8b78a5cc",
   "metadata": {},
   "outputs": [],
   "source": [
    "params = [param1, param2]"
   ]
  },
  {
   "cell_type": "code",
   "execution_count": null,
   "id": "4942939a",
   "metadata": {},
   "outputs": [],
   "source": [
    "# Instantiate GridSearchCV\n",
    "from sklearn.model_selection import GridSearchCV\n",
    "grid = GridSearchCV(pipe, params, cv=2).fit(X_train, y_train)"
   ]
  },
  {
   "cell_type": "code",
   "execution_count": null,
   "id": "25a37ca9",
   "metadata": {},
   "outputs": [],
   "source": [
    "# Performance on train and test sets\n",
    "print('Training set score: ' + str(grid.score(X_train, y_train)))\n",
    "print('Test set score: ' + str(grid.score(X_test, y_test)))"
   ]
  },
  {
   "cell_type": "code",
   "execution_count": null,
   "id": "9da2707d",
   "metadata": {},
   "outputs": [],
   "source": [
    "# Access the best set of parameters\n",
    "best_params = grid.best_params_\n",
    "print(best_params)\n",
    "\n",
    "# Stores the optimum model in best_estimator\n",
    "best_estimator = grid.best_estimator_\n",
    "print(best_estimator)"
   ]
  },
  {
   "cell_type": "code",
   "execution_count": null,
   "id": "d5426edf",
   "metadata": {},
   "outputs": [],
   "source": [
    "y_pred2 = best_estimator.predict(X_test)"
   ]
  },
  {
   "cell_type": "code",
   "execution_count": null,
   "id": "aa9d5582",
   "metadata": {},
   "outputs": [],
   "source": [
    "from sklearn.metrics import classification_report\n",
    "print(classification_report(y_test, y_pred2))"
   ]
  },
  {
   "cell_type": "code",
   "execution_count": null,
   "id": "7d567c49",
   "metadata": {},
   "outputs": [],
   "source": [
    ">>> docs_new = ['Very unhappy with the place']\n",
    "\n",
    ">>> predict_new = best_estimator.predict(docs_new)\n",
    "\n",
    ">>> for doc, category in zip(docs_new, predict_new):\n",
    "...     print('%r => %s' % (doc, predict_new))"
   ]
  }
 ],
 "metadata": {
  "kernelspec": {
   "display_name": "Python 3 (ipykernel)",
   "language": "python",
   "name": "python3"
  },
  "language_info": {
   "codemirror_mode": {
    "name": "ipython",
    "version": 3
   },
   "file_extension": ".py",
   "mimetype": "text/x-python",
   "name": "python",
   "nbconvert_exporter": "python",
   "pygments_lexer": "ipython3",
   "version": "3.9.12"
  }
 },
 "nbformat": 4,
 "nbformat_minor": 5
}
