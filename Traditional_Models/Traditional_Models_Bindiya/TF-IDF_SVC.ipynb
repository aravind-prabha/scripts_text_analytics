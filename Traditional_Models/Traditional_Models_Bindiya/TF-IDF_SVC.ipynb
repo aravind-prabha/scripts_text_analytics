{
 "cells": [
  {
   "cell_type": "code",
   "execution_count": 1,
   "id": "33f25b6a",
   "metadata": {},
   "outputs": [],
   "source": [
    "import numpy as np # linear algebra\n",
    "import pandas as pd # data processing, CSV file I/O (e.g. pd.read_csv)\n",
    "from sklearn.model_selection import train_test_split # function for splitting data to train and test sets\n",
    "\n",
    "import nltk\n",
    "from nltk.corpus import stopwords\n",
    "from nltk.classify import SklearnClassifier\n",
    "\n",
    "from subprocess import check_output\n",
    "from sklearn.utils import shuffle\n",
    "\n",
    "import matplotlib.pyplot as plt\n",
    "\n",
    "import seaborn as sns"
   ]
  },
  {
   "cell_type": "code",
   "execution_count": 2,
   "id": "45b75edd",
   "metadata": {},
   "outputs": [],
   "source": [
    "#Loading the dataset\n",
    "data = pd.read_excel('Book2.xlsx')\n",
    "datadata = shuffle(data)"
   ]
  },
  {
   "cell_type": "code",
   "execution_count": 3,
   "id": "7ef078a6",
   "metadata": {},
   "outputs": [
    {
     "data": {
      "image/png": "[encoded data removed]",
      "text/plain": [
       "<Figure size 432x288 with 1 Axes>"
      ]
     },
     "metadata": {
      "needs_background": "light"
     },
     "output_type": "display_data"
    },
    {
     "data": {
      "text/plain": [
       "<Figure size 432x288 with 0 Axes>"
      ]
     },
     "metadata": {},
     "output_type": "display_data"
    }
   ],
   "source": [
    "sns.countplot(x='rating',data=data, palette='hls')\n",
    "plt.show()\n",
    "plt.savefig('count_plot')"
   ]
  },
  {
   "cell_type": "code",
   "execution_count": 4,
   "id": "ecc4a576",
   "metadata": {},
   "outputs": [],
   "source": [
    "X = data[\"review_comment\"]\n",
    "Y = data[\"rating\"]"
   ]
  },
  {
   "cell_type": "code",
   "execution_count": 5,
   "id": "e7db892b",
   "metadata": {},
   "outputs": [
    {
     "name": "stdout",
     "output_type": "stream",
     "text": [
      "(10034,)\n",
      "(5017,)\n"
     ]
    }
   ],
   "source": [
    "# Split the data into train and test\n",
    "X_train, X_test, y_train, y_test = train_test_split(X,                  # predictors\n",
    "                                                    Y,                  # labels\n",
    "                                                    test_size=1/3,      # test set size \n",
    "                                                    random_state=0)     # set random number generator seed for reproducibility \n",
    "\n",
    "print(X_train.shape)\n",
    "print(X_test.shape)"
   ]
  },
  {
   "cell_type": "code",
   "execution_count": 6,
   "id": "fa83f15a",
   "metadata": {},
   "outputs": [],
   "source": [
    "# Setup pipeline\n",
    "from sklearn.feature_extraction.text import TfidfVectorizer\n",
    "from sklearn.svm import SVC\n",
    "from sklearn.pipeline import Pipeline\n",
    "pipe = Pipeline([('tfidf', TfidfVectorizer()), \n",
    "                 ('clf', SVC(random_state=42))])"
   ]
  },
  {
   "cell_type": "code",
   "execution_count": 7,
   "id": "83e3107a",
   "metadata": {},
   "outputs": [
    {
     "name": "stdout",
     "output_type": "stream",
     "text": [
      "Training set score: 0.9646202910105641\n",
      "Test set score: 0.5449471795893961\n"
     ]
    }
   ],
   "source": [
    "# Fit pipeline on train set\n",
    "pipe.fit(X_train, y_train)\n",
    " \n",
    "# Performance on train and test sets\n",
    "print('Training set score: ' + str(pipe.score(X_train,y_train)))\n",
    "print('Test set score: ' + str(pipe.score(X_test,y_test)))"
   ]
  },
  {
   "cell_type": "code",
   "execution_count": 8,
   "id": "d0548852",
   "metadata": {},
   "outputs": [],
   "source": [
    "y_pred1 = pipe.predict(X_test)"
   ]
  },
  {
   "cell_type": "code",
   "execution_count": 9,
   "id": "e0825aff",
   "metadata": {},
   "outputs": [
    {
     "name": "stdout",
     "output_type": "stream",
     "text": [
      "              precision    recall  f1-score   support\n",
      "\n",
      "           1       0.62      0.61      0.61       972\n",
      "           2       0.43      0.49      0.46      1021\n",
      "           3       0.43      0.41      0.42       995\n",
      "           4       0.54      0.49      0.51      1040\n",
      "           5       0.72      0.73      0.73       989\n",
      "\n",
      "    accuracy                           0.54      5017\n",
      "   macro avg       0.55      0.55      0.55      5017\n",
      "weighted avg       0.55      0.54      0.54      5017\n",
      "\n"
     ]
    }
   ],
   "source": [
    "from sklearn.metrics import classification_report\n",
    "print(classification_report(y_test, y_pred1))"
   ]
  },
  {
   "cell_type": "code",
   "execution_count": 11,
   "id": "2bceb300",
   "metadata": {},
   "outputs": [
    {
     "name": "stdout",
     "output_type": "stream",
     "text": [
      "'Very unhappy with the place' => [5]\n"
     ]
    }
   ],
   "source": [
    ">>> docs_new = ['Very unhappy with the place']\n",
    "\n",
    ">>> predict_new = pipe.predict(docs_new)\n",
    "\n",
    ">>> for doc, category in zip(docs_new, predict_new):\n",
    "...     print('%r => %s' % (doc, predict_new))"
   ]
  },
  {
   "cell_type": "code",
   "execution_count": null,
   "id": "d697ce20",
   "metadata": {},
   "outputs": [],
   "source": []
  }
 ],
 "metadata": {
  "kernelspec": {
   "display_name": "Python 3 (ipykernel)",
   "language": "python",
   "name": "python3"
  },
  "language_info": {
   "codemirror_mode": {
    "name": "ipython",
    "version": 3
   },
   "file_extension": ".py",
   "mimetype": "text/x-python",
   "name": "python",
   "nbconvert_exporter": "python",
   "pygments_lexer": "ipython3",
   "version": "3.9.12"
  }
 },
 "nbformat": 4,
 "nbformat_minor": 5
}
