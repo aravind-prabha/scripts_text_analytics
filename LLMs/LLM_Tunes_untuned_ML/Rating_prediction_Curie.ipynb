{
  "nbformat": 4,
  "nbformat_minor": 0,
  "metadata": {
    "colab": {
      "provenance": []
    },
    "kernelspec": {
      "name": "python3",
      "display_name": "Python 3"
    },
    "language_info": {
      "name": "python"
    }
  },
  "cells": [
    {
      "cell_type": "markdown",
      "source": [
        "Reference : https://platform.openai.com/docs/guides/fine-tuning"
      ],
      "metadata": {
        "id": "JPAVPiFs2VXb"
      }
    },
    {
      "cell_type": "code",
      "execution_count": 1,
      "metadata": {
        "colab": {
          "base_uri": "https://localhost:8080/"
        },
        "id": "j-4NYwJChQoy",
        "outputId": "f48eea56-8050-4e76-ee62-21f80dea3998"
      },
      "outputs": [
        {
          "output_type": "stream",
          "name": "stdout",
          "text": [
            "Looking in indexes: https://pypi.org/simple, https://us-python.pkg.dev/colab-wheels/public/simple/\n",
            "Collecting openai\n",
            "  Downloading openai-0.27.7-py3-none-any.whl (71 kB)\n",
            "\u001b[2K     \u001b[90m━━━━━━━━━━━━━━━━━━━━━━━━━━━━━━━━━━━━━━━━\u001b[0m \u001b[32m72.0/72.0 kB\u001b[0m \u001b[31m4.2 MB/s\u001b[0m eta \u001b[36m0:00:00\u001b[0m\n",
            "\u001b[?25hRequirement already satisfied: requests>=2.20 in /usr/local/lib/python3.10/dist-packages (from openai) (2.27.1)\n",
            "Requirement already satisfied: tqdm in /usr/local/lib/python3.10/dist-packages (from openai) (4.65.0)\n",
            "Collecting aiohttp (from openai)\n",
            "  Downloading aiohttp-3.8.4-cp310-cp310-manylinux_2_17_x86_64.manylinux2014_x86_64.whl (1.0 MB)\n",
            "\u001b[2K     \u001b[90m━━━━━━━━━━━━━━━━━━━━━━━━━━━━━━━━━━━━━━━━\u001b[0m \u001b[32m1.0/1.0 MB\u001b[0m \u001b[31m31.9 MB/s\u001b[0m eta \u001b[36m0:00:00\u001b[0m\n",
            "\u001b[?25hRequirement already satisfied: urllib3<1.27,>=1.21.1 in /usr/local/lib/python3.10/dist-packages (from requests>=2.20->openai) (1.26.15)\n",
            "Requirement already satisfied: certifi>=2017.4.17 in /usr/local/lib/python3.10/dist-packages (from requests>=2.20->openai) (2022.12.7)\n",
            "Requirement already satisfied: charset-normalizer~=2.0.0 in /usr/local/lib/python3.10/dist-packages (from requests>=2.20->openai) (2.0.12)\n",
            "Requirement already satisfied: idna<4,>=2.5 in /usr/local/lib/python3.10/dist-packages (from requests>=2.20->openai) (3.4)\n",
            "Requirement already satisfied: attrs>=17.3.0 in /usr/local/lib/python3.10/dist-packages (from aiohttp->openai) (23.1.0)\n",
            "Collecting multidict<7.0,>=4.5 (from aiohttp->openai)\n",
            "  Downloading multidict-6.0.4-cp310-cp310-manylinux_2_17_x86_64.manylinux2014_x86_64.whl (114 kB)\n",
            "\u001b[2K     \u001b[90m━━━━━━━━━━━━━━━━━━━━━━━━━━━━━━━━━━━━━━\u001b[0m \u001b[32m114.5/114.5 kB\u001b[0m \u001b[31m15.0 MB/s\u001b[0m eta \u001b[36m0:00:00\u001b[0m\n",
            "\u001b[?25hCollecting async-timeout<5.0,>=4.0.0a3 (from aiohttp->openai)\n",
            "  Downloading async_timeout-4.0.2-py3-none-any.whl (5.8 kB)\n",
            "Collecting yarl<2.0,>=1.0 (from aiohttp->openai)\n",
            "  Downloading yarl-1.9.2-cp310-cp310-manylinux_2_17_x86_64.manylinux2014_x86_64.whl (268 kB)\n",
            "\u001b[2K     \u001b[90m━━━━━━━━━━━━━━━━━━━━━━━━━━━━━━━━━━━━━━\u001b[0m \u001b[32m268.8/268.8 kB\u001b[0m \u001b[31m26.8 MB/s\u001b[0m eta \u001b[36m0:00:00\u001b[0m\n",
            "\u001b[?25hCollecting frozenlist>=1.1.1 (from aiohttp->openai)\n",
            "  Downloading frozenlist-1.3.3-cp310-cp310-manylinux_2_5_x86_64.manylinux1_x86_64.manylinux_2_17_x86_64.manylinux2014_x86_64.whl (149 kB)\n",
            "\u001b[2K     \u001b[90m━━━━━━━━━━━━━━━━━━━━━━━━━━━━━━━━━━━━━━\u001b[0m \u001b[32m149.6/149.6 kB\u001b[0m \u001b[31m16.3 MB/s\u001b[0m eta \u001b[36m0:00:00\u001b[0m\n",
            "\u001b[?25hCollecting aiosignal>=1.1.2 (from aiohttp->openai)\n",
            "  Downloading aiosignal-1.3.1-py3-none-any.whl (7.6 kB)\n",
            "Installing collected packages: multidict, frozenlist, async-timeout, yarl, aiosignal, aiohttp, openai\n",
            "Successfully installed aiohttp-3.8.4 aiosignal-1.3.1 async-timeout-4.0.2 frozenlist-1.3.3 multidict-6.0.4 openai-0.27.7 yarl-1.9.2\n"
          ]
        }
      ],
      "source": [
        "# Install openai module\n",
        "!pip install openai"
      ]
    },
    {
      "cell_type": "code",
      "source": [
        "# Import json module for reading the api keys\n",
        "import json\n",
        "import openai"
      ],
      "metadata": {
        "id": "czMPCO-ehVnu"
      },
      "execution_count": 2,
      "outputs": []
    },
    {
      "cell_type": "code",
      "source": [
        "# Define the name of the json file\n",
        "# format of the openai_api_key json file\n",
        "# API keys can be fetched here : https://help.openai.com/en/articles/4936850-where-do-i-find-my-secret-api-key\n",
        "# https://platform.openai.com/account/api-keys\n",
        "\n",
        "# {\n",
        "#\t \"API_KEY\" : \"sk-******************************5\"\n",
        "# }\n",
        "\n",
        "\n",
        "\n",
        "json_file = \"openai_api_key.json\"\n",
        "\n",
        "# Open the json file and load its contents\n",
        "with open(json_file) as f:\n",
        "    data = json.load(f)\n",
        "\n",
        "openai.api_key = data['API_KEY']"
      ],
      "metadata": {
        "id": "BnFnfXIPhZZr"
      },
      "execution_count": 4,
      "outputs": []
    },
    {
      "cell_type": "code",
      "source": [
        "# Train the open ai curies model using the train data jsonl file prepared.\n",
        "# Prompt format is below :\n",
        "\n",
        "# {\"prompt\":\"Rate this review on a scale from 1 to 5. Output only the integer rating : Although I reported that had pre clearance, I was required to go through anyway\",\"completion\":\"2\"}\n",
        "\n"
      ],
      "metadata": {
        "id": "KaXcC_KIkRuQ"
      },
      "execution_count": 5,
      "outputs": []
    },
    {
      "cell_type": "markdown",
      "source": [
        "## Prompt format \n",
        "\n",
        "{\"prompt\": \"<question>\", \"completion\": \"<ideal answer>\"}\n",
        "\n",
        "{\"prompt\": \"<question>\", \"completion\": \"<ideal answer>\"}\n",
        "\n",
        "{\"prompt\": \"<question>\", \"completion\": \"<ideal answer>\"}\n",
        "\n",
        "Example Prompt :\n",
        "{\"prompt\":\"Rate this review on a scale from 1 to 5. Output only the integer rating : Although I reported that had pre clearance, I was required to go through anyway\",\"completion\":\"2\"}\n",
        "\n",
        "\n",
        "We can check the training data using a CLI data preparation tool provided by OpenAI. It gives you suggestions about how you can reformat the training data.\n",
        "\n",
        "Run this line of code in the notebook to use the CLI data preparatin tool :\n",
        "\n",
        "!openai tools fine_tunes.prepare_data -f training_data.jsonl\n"
      ],
      "metadata": {
        "id": "ktcQmNw6mpoh"
      }
    },
    {
      "cell_type": "code",
      "source": [
        "# Uploading Training Data\n",
        "\n",
        "file_name = 'jsonl_file_prepared_train.jsonl'\n",
        "upload_response = openai.File.create(\n",
        "  file=open(file_name, \"rb\"),\n",
        "   purpose='fine-tune'\n",
        " )\n",
        "file_id = upload_response.id\n",
        "upload_response"
      ],
      "metadata": {
        "colab": {
          "base_uri": "https://localhost:8080/"
        },
        "id": "GCLavtb3h3zr",
        "outputId": "705a3f21-cadf-4f9b-db72-b3b1ae9cb120"
      },
      "execution_count": 8,
      "outputs": [
        {
          "output_type": "execute_result",
          "data": {
            "text/plain": [
              "<File file id=file-dFIzd5kvjn24ZBxs9fWYWzGl at 0x7f9df51b3ce0> JSON: {\n",
              "  \"bytes\": 3592612,\n",
              "  \"created_at\": 1684861917,\n",
              "  \"filename\": \"file\",\n",
              "  \"id\": \"file-dFIzd5kvjn24ZBxs9fWYWzGl\",\n",
              "  \"object\": \"file\",\n",
              "  \"purpose\": \"fine-tune\",\n",
              "  \"status\": \"uploaded\",\n",
              "  \"status_details\": null\n",
              "}"
            ]
          },
          "metadata": {},
          "execution_count": 8
        }
      ]
    },
    {
      "cell_type": "markdown",
      "source": [
        "The upload response shows the file id\n",
        "\n",
        "Here the file id is  \"file-dFIzd5kvjn24ZBxs9fWYWzGl\""
      ],
      "metadata": {
        "id": "QY4YCLU51o89"
      }
    },
    {
      "cell_type": "code",
      "source": [
        "# Fine tuning the curie model : by default openai takes curie model \n",
        "# Note that executing this step will incur cost\n",
        "\n",
        "fine_tune_response = openai.FineTune.create(training_file=file_id)\n",
        "fine_tune_response"
      ],
      "metadata": {
        "colab": {
          "base_uri": "https://localhost:8080/"
        },
        "id": "wfrrn014lQ7T",
        "outputId": "9fa27300-035f-4445-dcf0-a52532f72dbc"
      },
      "execution_count": 9,
      "outputs": [
        {
          "output_type": "execute_result",
          "data": {
            "text/plain": [
              "<FineTune fine-tune id=ft-Y5Nq4SVZt0GhWGEnUNs7jDii at 0x7f9de41cb8d0> JSON: {\n",
              "  \"created_at\": 1684861976,\n",
              "  \"events\": [\n",
              "    {\n",
              "      \"created_at\": 1684861976,\n",
              "      \"level\": \"info\",\n",
              "      \"message\": \"Created fine-tune: ft-Y5Nq4SVZt0GhWGEnUNs7jDii\",\n",
              "      \"object\": \"fine-tune-event\"\n",
              "    }\n",
              "  ],\n",
              "  \"fine_tuned_model\": null,\n",
              "  \"hyperparams\": {\n",
              "    \"batch_size\": null,\n",
              "    \"learning_rate_multiplier\": null,\n",
              "    \"n_epochs\": 4,\n",
              "    \"prompt_loss_weight\": 0.01\n",
              "  },\n",
              "  \"id\": \"ft-Y5Nq4SVZt0GhWGEnUNs7jDii\",\n",
              "  \"model\": \"curie\",\n",
              "  \"object\": \"fine-tune\",\n",
              "  \"organization_id\": \"org-1KAQMHakVgEBRQ0r4xJytidH\",\n",
              "  \"result_files\": [],\n",
              "  \"status\": \"pending\",\n",
              "  \"training_files\": [\n",
              "    {\n",
              "      \"bytes\": 3592612,\n",
              "      \"created_at\": 1684861917,\n",
              "      \"filename\": \"file\",\n",
              "      \"id\": \"file-dFIzd5kvjn24ZBxs9fWYWzGl\",\n",
              "      \"object\": \"file\",\n",
              "      \"purpose\": \"fine-tune\",\n",
              "      \"status\": \"processed\",\n",
              "      \"status_details\": null\n",
              "    }\n",
              "  ],\n",
              "  \"updated_at\": 1684861976,\n",
              "  \"validation_files\": []\n",
              "}"
            ]
          },
          "metadata": {},
          "execution_count": 9
        }
      ]
    },
    {
      "cell_type": "markdown",
      "source": [
        "The first execution of fine_tune_response will return with a status of \"pending\".\n",
        "If we periodically execute fine_tune_response.events we can observe the queue number. Once we are first in line the fine tuning job would start.\n",
        "\n",
        "\n",
        "## Troubleshooting fine_tuned_model as null\n",
        "During the fine-tuning process, the fine_tuned_model key may not be immediately available in the fine_tune_response object returned by openai.FineTune.create().\n",
        "\n",
        "To check the status of your fine-tuning process, you can call the openai.FineTune.retrieve() function and pass in the fine_tune_response.id. This function will return a JSON object with information about the training status, such as the current epoch, the current batch, the training loss, and the validation loss.\n",
        "\n",
        "After the fine-tuning process is complete, you can check the status of all your fine-tuned models by calling openai.FineTune.list(). This will list all of your fine-tunes and their current status.\n",
        "\n",
        "Once the fine-tuning process is complete, you can retrieve the fine_tuned_model key by calling the openai.FineTune.retrieve() function again and passing in the fine_tune_response.id. This will return a JSON object with the key fine_tuned_model and the ID of the fine-tuned model that you can use for further completions."
      ],
      "metadata": {
        "id": "vTtXTxez24gr"
      }
    },
    {
      "cell_type": "code",
      "source": [
        "# For fine tuning Davinci , provide model = \"davinci\"\n",
        "response_davinci = openai.FineTune.create(training_file=file_id, model=\"davinci\")\n",
        "response_davinci"
      ],
      "metadata": {
        "colab": {
          "base_uri": "https://localhost:8080/"
        },
        "id": "K_8fXag8mXxZ",
        "outputId": "61a1e21f-88b8-4aff-92a4-482f96c534a9"
      },
      "execution_count": 10,
      "outputs": [
        {
          "output_type": "execute_result",
          "data": {
            "text/plain": [
              "<FineTune fine-tune id=ft-WtkwbBzJsntoDISEzzcnltAc at 0x7f9dc35739c0> JSON: {\n",
              "  \"created_at\": 1684861993,\n",
              "  \"events\": [\n",
              "    {\n",
              "      \"created_at\": 1684861993,\n",
              "      \"level\": \"info\",\n",
              "      \"message\": \"Created fine-tune: ft-WtkwbBzJsntoDISEzzcnltAc\",\n",
              "      \"object\": \"fine-tune-event\"\n",
              "    }\n",
              "  ],\n",
              "  \"fine_tuned_model\": null,\n",
              "  \"hyperparams\": {\n",
              "    \"batch_size\": null,\n",
              "    \"learning_rate_multiplier\": null,\n",
              "    \"n_epochs\": 4,\n",
              "    \"prompt_loss_weight\": 0.01\n",
              "  },\n",
              "  \"id\": \"ft-WtkwbBzJsntoDISEzzcnltAc\",\n",
              "  \"model\": \"davinci\",\n",
              "  \"object\": \"fine-tune\",\n",
              "  \"organization_id\": \"org-1KAQMHakVgEBRQ0r4xJytidH\",\n",
              "  \"result_files\": [],\n",
              "  \"status\": \"pending\",\n",
              "  \"training_files\": [\n",
              "    {\n",
              "      \"bytes\": 3592612,\n",
              "      \"created_at\": 1684861917,\n",
              "      \"filename\": \"file\",\n",
              "      \"id\": \"file-dFIzd5kvjn24ZBxs9fWYWzGl\",\n",
              "      \"object\": \"file\",\n",
              "      \"purpose\": \"fine-tune\",\n",
              "      \"status\": \"processed\",\n",
              "      \"status_details\": null\n",
              "    }\n",
              "  ],\n",
              "  \"updated_at\": 1684861993,\n",
              "  \"validation_files\": []\n",
              "}"
            ]
          },
          "metadata": {},
          "execution_count": 10
        }
      ]
    },
    {
      "cell_type": "code",
      "source": [
        "response_davinci.events"
      ],
      "metadata": {
        "colab": {
          "base_uri": "https://localhost:8080/"
        },
        "id": "ysh5_zDlmbyU",
        "outputId": "764b5420-6319-4dc4-ae87-f2832ac27aae"
      },
      "execution_count": 11,
      "outputs": [
        {
          "output_type": "execute_result",
          "data": {
            "text/plain": [
              "[<OpenAIObject fine-tune-event at 0x7f9dc35b0180> JSON: {\n",
              "   \"created_at\": 1684861993,\n",
              "   \"level\": \"info\",\n",
              "   \"message\": \"Created fine-tune: ft-WtkwbBzJsntoDISEzzcnltAc\",\n",
              "   \"object\": \"fine-tune-event\"\n",
              " }]"
            ]
          },
          "metadata": {},
          "execution_count": 11
        }
      ]
    },
    {
      "cell_type": "markdown",
      "source": [
        "We can also retrive events by running the command : response = openai.FineTune.list_events(id=fine_tune_response.id)\n"
      ],
      "metadata": {
        "id": "2uI3aHJE6fN9"
      }
    },
    {
      "cell_type": "code",
      "source": [
        "openai.FineTune.list()"
      ],
      "metadata": {
        "colab": {
          "base_uri": "https://localhost:8080/"
        },
        "id": "VpjFGr8Smh7p",
        "outputId": "b5d65bf8-847a-43a2-fd58-a5fe409853ba"
      },
      "execution_count": 12,
      "outputs": [
        {
          "output_type": "execute_result",
          "data": {
            "text/plain": [
              "<OpenAIObject list at 0x7f9dc2a8d940> JSON: {\n",
              "  \"data\": [\n",
              "    {\n",
              "      \"created_at\": 1683570234,\n",
              "      \"fine_tuned_model\": \"curie:ft-aravindsp-2023-05-08-18-27-01\",\n",
              "      \"hyperparams\": {\n",
              "        \"batch_size\": 1,\n",
              "        \"learning_rate_multiplier\": 0.1,\n",
              "        \"n_epochs\": 4,\n",
              "        \"prompt_loss_weight\": 0.01\n",
              "      },\n",
              "      \"id\": \"ft-w3QBlDMniBafTCSup6v7SmL8\",\n",
              "      \"model\": \"curie\",\n",
              "      \"object\": \"fine-tune\",\n",
              "      \"organization_id\": \"org-1KAQMHakVgEBRQ0r4xJytidH\",\n",
              "      \"result_files\": [\n",
              "        {\n",
              "          \"bytes\": 576,\n",
              "          \"created_at\": 1683570423,\n",
              "          \"filename\": \"compiled_results.csv\",\n",
              "          \"id\": \"file-ZOYtXeKd5LDBPkUoFYGs9e5A\",\n",
              "          \"object\": \"file\",\n",
              "          \"purpose\": \"fine-tune-results\",\n",
              "          \"status\": \"processed\",\n",
              "          \"status_details\": null\n",
              "        }\n",
              "      ],\n",
              "      \"status\": \"succeeded\",\n",
              "      \"training_files\": [\n",
              "        {\n",
              "          \"bytes\": 678,\n",
              "          \"created_at\": 1683569804,\n",
              "          \"filename\": \"file\",\n",
              "          \"id\": \"file-pXoGRLlVuN8Ivp1iARwYBC0i\",\n",
              "          \"object\": \"file\",\n",
              "          \"purpose\": \"fine-tune\",\n",
              "          \"status\": \"processed\",\n",
              "          \"status_details\": null\n",
              "        }\n",
              "      ],\n",
              "      \"updated_at\": 1683570423,\n",
              "      \"validation_files\": []\n",
              "    },\n",
              "    {\n",
              "      \"created_at\": 1683570248,\n",
              "      \"fine_tuned_model\": \"davinci:ft-aravindsp-2023-05-08-18-27-54\",\n",
              "      \"hyperparams\": {\n",
              "        \"batch_size\": 1,\n",
              "        \"learning_rate_multiplier\": 0.1,\n",
              "        \"n_epochs\": 4,\n",
              "        \"prompt_loss_weight\": 0.01\n",
              "      },\n",
              "      \"id\": \"ft-7oeAH8xTaR1Pzg4bxGGfoKdT\",\n",
              "      \"model\": \"davinci\",\n",
              "      \"object\": \"fine-tune\",\n",
              "      \"organization_id\": \"org-1KAQMHakVgEBRQ0r4xJytidH\",\n",
              "      \"result_files\": [\n",
              "        {\n",
              "          \"bytes\": 613,\n",
              "          \"created_at\": 1683570475,\n",
              "          \"filename\": \"compiled_results.csv\",\n",
              "          \"id\": \"file-KuwCXl6dYSn5CQyTDXEYtYq0\",\n",
              "          \"object\": \"file\",\n",
              "          \"purpose\": \"fine-tune-results\",\n",
              "          \"status\": \"processed\",\n",
              "          \"status_details\": null\n",
              "        }\n",
              "      ],\n",
              "      \"status\": \"succeeded\",\n",
              "      \"training_files\": [\n",
              "        {\n",
              "          \"bytes\": 678,\n",
              "          \"created_at\": 1683569804,\n",
              "          \"filename\": \"file\",\n",
              "          \"id\": \"file-pXoGRLlVuN8Ivp1iARwYBC0i\",\n",
              "          \"object\": \"file\",\n",
              "          \"purpose\": \"fine-tune\",\n",
              "          \"status\": \"processed\",\n",
              "          \"status_details\": null\n",
              "        }\n",
              "      ],\n",
              "      \"updated_at\": 1683570476,\n",
              "      \"validation_files\": []\n",
              "    },\n",
              "    {\n",
              "      \"created_at\": 1683570314,\n",
              "      \"fine_tuned_model\": \"davinci:ft-aravindsp-2023-05-08-18-41-14\",\n",
              "      \"hyperparams\": {\n",
              "        \"batch_size\": 1,\n",
              "        \"learning_rate_multiplier\": 0.1,\n",
              "        \"n_epochs\": 4,\n",
              "        \"prompt_loss_weight\": 0.01\n",
              "      },\n",
              "      \"id\": \"ft-dZvwcyJOsoqAGUKbXwb2A1oh\",\n",
              "      \"model\": \"davinci\",\n",
              "      \"object\": \"fine-tune\",\n",
              "      \"organization_id\": \"org-1KAQMHakVgEBRQ0r4xJytidH\",\n",
              "      \"result_files\": [\n",
              "        {\n",
              "          \"bytes\": 576,\n",
              "          \"created_at\": 1683571275,\n",
              "          \"filename\": \"compiled_results.csv\",\n",
              "          \"id\": \"file-6BRuGtjrYJjq0SGzcyQj30Bm\",\n",
              "          \"object\": \"file\",\n",
              "          \"purpose\": \"fine-tune-results\",\n",
              "          \"status\": \"processed\",\n",
              "          \"status_details\": null\n",
              "        }\n",
              "      ],\n",
              "      \"status\": \"succeeded\",\n",
              "      \"training_files\": [\n",
              "        {\n",
              "          \"bytes\": 678,\n",
              "          \"created_at\": 1683569804,\n",
              "          \"filename\": \"file\",\n",
              "          \"id\": \"file-pXoGRLlVuN8Ivp1iARwYBC0i\",\n",
              "          \"object\": \"file\",\n",
              "          \"purpose\": \"fine-tune\",\n",
              "          \"status\": \"processed\",\n",
              "          \"status_details\": null\n",
              "        }\n",
              "      ],\n",
              "      \"updated_at\": 1683571276,\n",
              "      \"validation_files\": []\n",
              "    },\n",
              "    {\n",
              "      \"created_at\": 1683570901,\n",
              "      \"fine_tuned_model\": \"curie:ft-aravindsp-2023-05-08-18-37-35\",\n",
              "      \"hyperparams\": {\n",
              "        \"batch_size\": 1,\n",
              "        \"learning_rate_multiplier\": 0.1,\n",
              "        \"n_epochs\": 4,\n",
              "        \"prompt_loss_weight\": 0.01\n",
              "      },\n",
              "      \"id\": \"ft-7ounrum2h58EezrGGJTTakpz\",\n",
              "      \"model\": \"curie\",\n",
              "      \"object\": \"fine-tune\",\n",
              "      \"organization_id\": \"org-1KAQMHakVgEBRQ0r4xJytidH\",\n",
              "      \"result_files\": [\n",
              "        {\n",
              "          \"bytes\": 580,\n",
              "          \"created_at\": 1683571056,\n",
              "          \"filename\": \"compiled_results.csv\",\n",
              "          \"id\": \"file-JAqKSXp1EiEjSHbJWEjbhIZw\",\n",
              "          \"object\": \"file\",\n",
              "          \"purpose\": \"fine-tune-results\",\n",
              "          \"status\": \"processed\",\n",
              "          \"status_details\": null\n",
              "        }\n",
              "      ],\n",
              "      \"status\": \"succeeded\",\n",
              "      \"training_files\": [\n",
              "        {\n",
              "          \"bytes\": 678,\n",
              "          \"created_at\": 1683570897,\n",
              "          \"filename\": \"file\",\n",
              "          \"id\": \"file-9biIigLABhCIHZVd883m0WdF\",\n",
              "          \"object\": \"file\",\n",
              "          \"purpose\": \"fine-tune\",\n",
              "          \"status\": \"processed\",\n",
              "          \"status_details\": null\n",
              "        }\n",
              "      ],\n",
              "      \"updated_at\": 1683571056,\n",
              "      \"validation_files\": []\n",
              "    },\n",
              "    {\n",
              "      \"created_at\": 1683570908,\n",
              "      \"fine_tuned_model\": \"davinci:ft-aravindsp-2023-05-08-18-54-36\",\n",
              "      \"hyperparams\": {\n",
              "        \"batch_size\": 1,\n",
              "        \"learning_rate_multiplier\": 0.1,\n",
              "        \"n_epochs\": 4,\n",
              "        \"prompt_loss_weight\": 0.01\n",
              "      },\n",
              "      \"id\": \"ft-mPiU5RAhtHDVmtgohzow8066\",\n",
              "      \"model\": \"davinci\",\n",
              "      \"object\": \"fine-tune\",\n",
              "      \"organization_id\": \"org-1KAQMHakVgEBRQ0r4xJytidH\",\n",
              "      \"result_files\": [\n",
              "        {\n",
              "          \"bytes\": 575,\n",
              "          \"created_at\": 1683572077,\n",
              "          \"filename\": \"compiled_results.csv\",\n",
              "          \"id\": \"file-dsksuKu0CaoMVdegLAl8kWJP\",\n",
              "          \"object\": \"file\",\n",
              "          \"purpose\": \"fine-tune-results\",\n",
              "          \"status\": \"processed\",\n",
              "          \"status_details\": null\n",
              "        }\n",
              "      ],\n",
              "      \"status\": \"succeeded\",\n",
              "      \"training_files\": [\n",
              "        {\n",
              "          \"bytes\": 678,\n",
              "          \"created_at\": 1683570897,\n",
              "          \"filename\": \"file\",\n",
              "          \"id\": \"file-9biIigLABhCIHZVd883m0WdF\",\n",
              "          \"object\": \"file\",\n",
              "          \"purpose\": \"fine-tune\",\n",
              "          \"status\": \"processed\",\n",
              "          \"status_details\": null\n",
              "        }\n",
              "      ],\n",
              "      \"updated_at\": 1683572078,\n",
              "      \"validation_files\": []\n",
              "    },\n",
              "    {\n",
              "      \"created_at\": 1683570915,\n",
              "      \"fine_tuned_model\": \"davinci:ft-aravindsp-2023-05-08-18-58-02\",\n",
              "      \"hyperparams\": {\n",
              "        \"batch_size\": 1,\n",
              "        \"learning_rate_multiplier\": 0.1,\n",
              "        \"n_epochs\": 4,\n",
              "        \"prompt_loss_weight\": 0.01\n",
              "      },\n",
              "      \"id\": \"ft-JUbPFg0HMHVqEcZAYh3zmBhi\",\n",
              "      \"model\": \"davinci\",\n",
              "      \"object\": \"fine-tune\",\n",
              "      \"organization_id\": \"org-1KAQMHakVgEBRQ0r4xJytidH\",\n",
              "      \"result_files\": [\n",
              "        {\n",
              "          \"bytes\": 616,\n",
              "          \"created_at\": 1683572284,\n",
              "          \"filename\": \"compiled_results.csv\",\n",
              "          \"id\": \"file-nLLYglULykOjIjzUXwIIJ3Xg\",\n",
              "          \"object\": \"file\",\n",
              "          \"purpose\": \"fine-tune-results\",\n",
              "          \"status\": \"processed\",\n",
              "          \"status_details\": null\n",
              "        }\n",
              "      ],\n",
              "      \"status\": \"succeeded\",\n",
              "      \"training_files\": [\n",
              "        {\n",
              "          \"bytes\": 678,\n",
              "          \"created_at\": 1683570897,\n",
              "          \"filename\": \"file\",\n",
              "          \"id\": \"file-9biIigLABhCIHZVd883m0WdF\",\n",
              "          \"object\": \"file\",\n",
              "          \"purpose\": \"fine-tune\",\n",
              "          \"status\": \"processed\",\n",
              "          \"status_details\": null\n",
              "        }\n",
              "      ],\n",
              "      \"updated_at\": 1683572284,\n",
              "      \"validation_files\": []\n",
              "    },\n",
              "    {\n",
              "      \"created_at\": 1683571667,\n",
              "      \"fine_tuned_model\": \"curie:ft-aravindsp-2023-05-08-18-50-12\",\n",
              "      \"hyperparams\": {\n",
              "        \"batch_size\": 1,\n",
              "        \"learning_rate_multiplier\": 0.1,\n",
              "        \"n_epochs\": 4,\n",
              "        \"prompt_loss_weight\": 0.01\n",
              "      },\n",
              "      \"id\": \"ft-ra8FQQVhnxZKWoA50tp87m3R\",\n",
              "      \"model\": \"curie\",\n",
              "      \"object\": \"fine-tune\",\n",
              "      \"organization_id\": \"org-1KAQMHakVgEBRQ0r4xJytidH\",\n",
              "      \"result_files\": [\n",
              "        {\n",
              "          \"bytes\": 614,\n",
              "          \"created_at\": 1683571813,\n",
              "          \"filename\": \"compiled_results.csv\",\n",
              "          \"id\": \"file-oJGV744UASvOfoereY9KfzSd\",\n",
              "          \"object\": \"file\",\n",
              "          \"purpose\": \"fine-tune-results\",\n",
              "          \"status\": \"processed\",\n",
              "          \"status_details\": null\n",
              "        }\n",
              "      ],\n",
              "      \"status\": \"succeeded\",\n",
              "      \"training_files\": [\n",
              "        {\n",
              "          \"bytes\": 678,\n",
              "          \"created_at\": 1683571665,\n",
              "          \"filename\": \"file\",\n",
              "          \"id\": \"file-C2BYa7rG01B32iGHrUgi2F6v\",\n",
              "          \"object\": \"file\",\n",
              "          \"purpose\": \"fine-tune\",\n",
              "          \"status\": \"processed\",\n",
              "          \"status_details\": null\n",
              "        }\n",
              "      ],\n",
              "      \"updated_at\": 1683571813,\n",
              "      \"validation_files\": []\n",
              "    },\n",
              "    {\n",
              "      \"created_at\": 1683571669,\n",
              "      \"fine_tuned_model\": \"davinci:ft-aravindsp-2023-05-08-19-00-43\",\n",
              "      \"hyperparams\": {\n",
              "        \"batch_size\": 1,\n",
              "        \"learning_rate_multiplier\": 0.1,\n",
              "        \"n_epochs\": 4,\n",
              "        \"prompt_loss_weight\": 0.01\n",
              "      },\n",
              "      \"id\": \"ft-kl4fvH1AgAGjHsXUEr3U25gT\",\n",
              "      \"model\": \"davinci\",\n",
              "      \"object\": \"fine-tune\",\n",
              "      \"organization_id\": \"org-1KAQMHakVgEBRQ0r4xJytidH\",\n",
              "      \"result_files\": [\n",
              "        {\n",
              "          \"bytes\": 614,\n",
              "          \"created_at\": 1683572444,\n",
              "          \"filename\": \"compiled_results.csv\",\n",
              "          \"id\": \"file-GqKTCCwud8dI6TkZWqnJujEw\",\n",
              "          \"object\": \"file\",\n",
              "          \"purpose\": \"fine-tune-results\",\n",
              "          \"status\": \"processed\",\n",
              "          \"status_details\": null\n",
              "        }\n",
              "      ],\n",
              "      \"status\": \"succeeded\",\n",
              "      \"training_files\": [\n",
              "        {\n",
              "          \"bytes\": 678,\n",
              "          \"created_at\": 1683571665,\n",
              "          \"filename\": \"file\",\n",
              "          \"id\": \"file-C2BYa7rG01B32iGHrUgi2F6v\",\n",
              "          \"object\": \"file\",\n",
              "          \"purpose\": \"fine-tune\",\n",
              "          \"status\": \"processed\",\n",
              "          \"status_details\": null\n",
              "        }\n",
              "      ],\n",
              "      \"updated_at\": 1683572445,\n",
              "      \"validation_files\": []\n",
              "    },\n",
              "    {\n",
              "      \"created_at\": 1683571924,\n",
              "      \"fine_tuned_model\": \"curie:ft-aravindsp-2023-05-08-18-55-03\",\n",
              "      \"hyperparams\": {\n",
              "        \"batch_size\": 1,\n",
              "        \"learning_rate_multiplier\": 0.1,\n",
              "        \"n_epochs\": 4,\n",
              "        \"prompt_loss_weight\": 0.01\n",
              "      },\n",
              "      \"id\": \"ft-sJz2StRkks9t9JrUUsyBtSZl\",\n",
              "      \"model\": \"curie\",\n",
              "      \"object\": \"fine-tune\",\n",
              "      \"organization_id\": \"org-1KAQMHakVgEBRQ0r4xJytidH\",\n",
              "      \"result_files\": [\n",
              "        {\n",
              "          \"bytes\": 575,\n",
              "          \"created_at\": 1683572104,\n",
              "          \"filename\": \"compiled_results.csv\",\n",
              "          \"id\": \"file-Cb2tcSCothoCO0q9jtSGf5qj\",\n",
              "          \"object\": \"file\",\n",
              "          \"purpose\": \"fine-tune-results\",\n",
              "          \"status\": \"processed\",\n",
              "          \"status_details\": null\n",
              "        }\n",
              "      ],\n",
              "      \"status\": \"succeeded\",\n",
              "      \"training_files\": [\n",
              "        {\n",
              "          \"bytes\": 678,\n",
              "          \"created_at\": 1683571923,\n",
              "          \"filename\": \"file\",\n",
              "          \"id\": \"file-2FQ3cZK315ZCESlT3UWTsRMY\",\n",
              "          \"object\": \"file\",\n",
              "          \"purpose\": \"fine-tune\",\n",
              "          \"status\": \"processed\",\n",
              "          \"status_details\": null\n",
              "        }\n",
              "      ],\n",
              "      \"updated_at\": 1683572104,\n",
              "      \"validation_files\": []\n",
              "    },\n",
              "    {\n",
              "      \"created_at\": 1683571924,\n",
              "      \"fine_tuned_model\": \"davinci:ft-aravindsp-2023-05-08-19-05-07\",\n",
              "      \"hyperparams\": {\n",
              "        \"batch_size\": 1,\n",
              "        \"learning_rate_multiplier\": 0.1,\n",
              "        \"n_epochs\": 4,\n",
              "        \"prompt_loss_weight\": 0.01\n",
              "      },\n",
              "      \"id\": \"ft-zxPnq5bTnT9DdFJnQvTlV4ly\",\n",
              "      \"model\": \"davinci\",\n",
              "      \"object\": \"fine-tune\",\n",
              "      \"organization_id\": \"org-1KAQMHakVgEBRQ0r4xJytidH\",\n",
              "      \"result_files\": [\n",
              "        {\n",
              "          \"bytes\": 617,\n",
              "          \"created_at\": 1683572708,\n",
              "          \"filename\": \"compiled_results.csv\",\n",
              "          \"id\": \"file-1vBosUHjqYUERuIhaf6wzr83\",\n",
              "          \"object\": \"file\",\n",
              "          \"purpose\": \"fine-tune-results\",\n",
              "          \"status\": \"processed\",\n",
              "          \"status_details\": null\n",
              "        }\n",
              "      ],\n",
              "      \"status\": \"succeeded\",\n",
              "      \"training_files\": [\n",
              "        {\n",
              "          \"bytes\": 678,\n",
              "          \"created_at\": 1683571923,\n",
              "          \"filename\": \"file\",\n",
              "          \"id\": \"file-2FQ3cZK315ZCESlT3UWTsRMY\",\n",
              "          \"object\": \"file\",\n",
              "          \"purpose\": \"fine-tune\",\n",
              "          \"status\": \"processed\",\n",
              "          \"status_details\": null\n",
              "        }\n",
              "      ],\n",
              "      \"updated_at\": 1683572709,\n",
              "      \"validation_files\": []\n",
              "    },\n",
              "    {\n",
              "      \"created_at\": 1683751508,\n",
              "      \"fine_tuned_model\": \"curie:ft-aravindsp-2023-05-10-21-37-22\",\n",
              "      \"hyperparams\": {\n",
              "        \"batch_size\": 16,\n",
              "        \"learning_rate_multiplier\": 0.1,\n",
              "        \"n_epochs\": 4,\n",
              "        \"prompt_loss_weight\": 0.01\n",
              "      },\n",
              "      \"id\": \"ft-IvdRT3vZhaAZON6pQ2dcOGDz\",\n",
              "      \"model\": \"curie\",\n",
              "      \"object\": \"fine-tune\",\n",
              "      \"organization_id\": \"org-1KAQMHakVgEBRQ0r4xJytidH\",\n",
              "      \"result_files\": [\n",
              "        {\n",
              "          \"bytes\": 193105,\n",
              "          \"created_at\": 1683754643,\n",
              "          \"filename\": \"compiled_results.csv\",\n",
              "          \"id\": \"file-P52H6mbbNzNFdB3kSCg1X9qa\",\n",
              "          \"object\": \"file\",\n",
              "          \"purpose\": \"fine-tune-results\",\n",
              "          \"status\": \"processed\",\n",
              "          \"status_details\": null\n",
              "        }\n",
              "      ],\n",
              "      \"status\": \"succeeded\",\n",
              "      \"training_files\": [\n",
              "        {\n",
              "          \"bytes\": 3975637,\n",
              "          \"created_at\": 1683751506,\n",
              "          \"filename\": \"file\",\n",
              "          \"id\": \"file-30Wbn51YT1RbjVQtnWJMieyS\",\n",
              "          \"object\": \"file\",\n",
              "          \"purpose\": \"fine-tune\",\n",
              "          \"status\": \"processed\",\n",
              "          \"status_details\": null\n",
              "        }\n",
              "      ],\n",
              "      \"updated_at\": 1683754643,\n",
              "      \"validation_files\": []\n",
              "    },\n",
              "    {\n",
              "      \"created_at\": 1683751517,\n",
              "      \"fine_tuned_model\": null,\n",
              "      \"hyperparams\": {\n",
              "        \"batch_size\": null,\n",
              "        \"learning_rate_multiplier\": null,\n",
              "        \"n_epochs\": 4,\n",
              "        \"prompt_loss_weight\": 0.01\n",
              "      },\n",
              "      \"id\": \"ft-URczCZUEy4i1aRxe0FHQJraL\",\n",
              "      \"model\": \"davinci\",\n",
              "      \"object\": \"fine-tune\",\n",
              "      \"organization_id\": \"org-1KAQMHakVgEBRQ0r4xJytidH\",\n",
              "      \"result_files\": [],\n",
              "      \"status\": \"failed\",\n",
              "      \"training_files\": [\n",
              "        {\n",
              "          \"bytes\": 3975637,\n",
              "          \"created_at\": 1683751506,\n",
              "          \"filename\": \"file\",\n",
              "          \"id\": \"file-30Wbn51YT1RbjVQtnWJMieyS\",\n",
              "          \"object\": \"file\",\n",
              "          \"purpose\": \"fine-tune\",\n",
              "          \"status\": \"processed\",\n",
              "          \"status_details\": null\n",
              "        }\n",
              "      ],\n",
              "      \"updated_at\": 1683751533,\n",
              "      \"validation_files\": []\n",
              "    },\n",
              "    {\n",
              "      \"created_at\": 1684861976,\n",
              "      \"fine_tuned_model\": null,\n",
              "      \"hyperparams\": {\n",
              "        \"batch_size\": null,\n",
              "        \"learning_rate_multiplier\": null,\n",
              "        \"n_epochs\": 4,\n",
              "        \"prompt_loss_weight\": 0.01\n",
              "      },\n",
              "      \"id\": \"ft-Y5Nq4SVZt0GhWGEnUNs7jDii\",\n",
              "      \"model\": \"curie\",\n",
              "      \"object\": \"fine-tune\",\n",
              "      \"organization_id\": \"org-1KAQMHakVgEBRQ0r4xJytidH\",\n",
              "      \"result_files\": [],\n",
              "      \"status\": \"pending\",\n",
              "      \"training_files\": [\n",
              "        {\n",
              "          \"bytes\": 3592612,\n",
              "          \"created_at\": 1684861917,\n",
              "          \"filename\": \"file\",\n",
              "          \"id\": \"file-dFIzd5kvjn24ZBxs9fWYWzGl\",\n",
              "          \"object\": \"file\",\n",
              "          \"purpose\": \"fine-tune\",\n",
              "          \"status\": \"processed\",\n",
              "          \"status_details\": null\n",
              "        }\n",
              "      ],\n",
              "      \"updated_at\": 1684861976,\n",
              "      \"validation_files\": []\n",
              "    },\n",
              "    {\n",
              "      \"created_at\": 1684861993,\n",
              "      \"fine_tuned_model\": null,\n",
              "      \"hyperparams\": {\n",
              "        \"batch_size\": null,\n",
              "        \"learning_rate_multiplier\": null,\n",
              "        \"n_epochs\": 4,\n",
              "        \"prompt_loss_weight\": 0.01\n",
              "      },\n",
              "      \"id\": \"ft-WtkwbBzJsntoDISEzzcnltAc\",\n",
              "      \"model\": \"davinci\",\n",
              "      \"object\": \"fine-tune\",\n",
              "      \"organization_id\": \"org-1KAQMHakVgEBRQ0r4xJytidH\",\n",
              "      \"result_files\": [],\n",
              "      \"status\": \"pending\",\n",
              "      \"training_files\": [\n",
              "        {\n",
              "          \"bytes\": 3592612,\n",
              "          \"created_at\": 1684861917,\n",
              "          \"filename\": \"file\",\n",
              "          \"id\": \"file-dFIzd5kvjn24ZBxs9fWYWzGl\",\n",
              "          \"object\": \"file\",\n",
              "          \"purpose\": \"fine-tune\",\n",
              "          \"status\": \"processed\",\n",
              "          \"status_details\": null\n",
              "        }\n",
              "      ],\n",
              "      \"updated_at\": 1684861993,\n",
              "      \"validation_files\": []\n",
              "    }\n",
              "  ],\n",
              "  \"object\": \"list\"\n",
              "}"
            ]
          },
          "metadata": {},
          "execution_count": 12
        }
      ]
    },
    {
      "cell_type": "code",
      "source": [
        "openai.FineTune.retrieve(id=\"ft-w3QBlDMniBafTCSup6v7SmL8\")"
      ],
      "metadata": {
        "colab": {
          "base_uri": "https://localhost:8080/"
        },
        "id": "KCDbdFsam4l_",
        "outputId": "d69665af-aec3-4fad-9b4d-6be43a3b6550"
      },
      "execution_count": 35,
      "outputs": [
        {
          "output_type": "execute_result",
          "data": {
            "text/plain": [
              "<FineTune fine-tune id=ft-w3QBlDMniBafTCSup6v7SmL8 at 0x7f9dc358a3e0> JSON: {\n",
              "  \"created_at\": 1683570234,\n",
              "  \"events\": [\n",
              "    {\n",
              "      \"created_at\": 1683570234,\n",
              "      \"level\": \"info\",\n",
              "      \"message\": \"Created fine-tune: ft-w3QBlDMniBafTCSup6v7SmL8\",\n",
              "      \"object\": \"fine-tune-event\"\n",
              "    },\n",
              "    {\n",
              "      \"created_at\": 1683570339,\n",
              "      \"level\": \"info\",\n",
              "      \"message\": \"Fine-tune costs $0.00\",\n",
              "      \"object\": \"fine-tune-event\"\n",
              "    },\n",
              "    {\n",
              "      \"created_at\": 1683570339,\n",
              "      \"level\": \"info\",\n",
              "      \"message\": \"Fine-tune enqueued. Queue number: 0\",\n",
              "      \"object\": \"fine-tune-event\"\n",
              "    },\n",
              "    {\n",
              "      \"created_at\": 1683570340,\n",
              "      \"level\": \"info\",\n",
              "      \"message\": \"Fine-tune started\",\n",
              "      \"object\": \"fine-tune-event\"\n",
              "    },\n",
              "    {\n",
              "      \"created_at\": 1683570404,\n",
              "      \"level\": \"info\",\n",
              "      \"message\": \"Completed epoch 1/4\",\n",
              "      \"object\": \"fine-tune-event\"\n",
              "    },\n",
              "    {\n",
              "      \"created_at\": 1683570405,\n",
              "      \"level\": \"info\",\n",
              "      \"message\": \"Completed epoch 2/4\",\n",
              "      \"object\": \"fine-tune-event\"\n",
              "    },\n",
              "    {\n",
              "      \"created_at\": 1683570406,\n",
              "      \"level\": \"info\",\n",
              "      \"message\": \"Completed epoch 3/4\",\n",
              "      \"object\": \"fine-tune-event\"\n",
              "    },\n",
              "    {\n",
              "      \"created_at\": 1683570406,\n",
              "      \"level\": \"info\",\n",
              "      \"message\": \"Completed epoch 4/4\",\n",
              "      \"object\": \"fine-tune-event\"\n",
              "    },\n",
              "    {\n",
              "      \"created_at\": 1683570422,\n",
              "      \"level\": \"info\",\n",
              "      \"message\": \"Uploaded model: curie:ft-aravindsp-2023-05-08-18-27-01\",\n",
              "      \"object\": \"fine-tune-event\"\n",
              "    },\n",
              "    {\n",
              "      \"created_at\": 1683570423,\n",
              "      \"level\": \"info\",\n",
              "      \"message\": \"Uploaded result file: file-ZOYtXeKd5LDBPkUoFYGs9e5A\",\n",
              "      \"object\": \"fine-tune-event\"\n",
              "    },\n",
              "    {\n",
              "      \"created_at\": 1683570423,\n",
              "      \"level\": \"info\",\n",
              "      \"message\": \"Fine-tune succeeded\",\n",
              "      \"object\": \"fine-tune-event\"\n",
              "    }\n",
              "  ],\n",
              "  \"fine_tuned_model\": \"curie:ft-aravindsp-2023-05-08-18-27-01\",\n",
              "  \"hyperparams\": {\n",
              "    \"batch_size\": 1,\n",
              "    \"learning_rate_multiplier\": 0.1,\n",
              "    \"n_epochs\": 4,\n",
              "    \"prompt_loss_weight\": 0.01\n",
              "  },\n",
              "  \"id\": \"ft-w3QBlDMniBafTCSup6v7SmL8\",\n",
              "  \"model\": \"curie\",\n",
              "  \"object\": \"fine-tune\",\n",
              "  \"organization_id\": \"org-1KAQMHakVgEBRQ0r4xJytidH\",\n",
              "  \"result_files\": [\n",
              "    {\n",
              "      \"bytes\": 576,\n",
              "      \"created_at\": 1683570423,\n",
              "      \"filename\": \"compiled_results.csv\",\n",
              "      \"id\": \"file-ZOYtXeKd5LDBPkUoFYGs9e5A\",\n",
              "      \"object\": \"file\",\n",
              "      \"purpose\": \"fine-tune-results\",\n",
              "      \"status\": \"processed\",\n",
              "      \"status_details\": null\n",
              "    }\n",
              "  ],\n",
              "  \"status\": \"succeeded\",\n",
              "  \"training_files\": [\n",
              "    {\n",
              "      \"bytes\": 678,\n",
              "      \"created_at\": 1683569804,\n",
              "      \"filename\": \"file\",\n",
              "      \"id\": \"file-pXoGRLlVuN8Ivp1iARwYBC0i\",\n",
              "      \"object\": \"file\",\n",
              "      \"purpose\": \"fine-tune\",\n",
              "      \"status\": \"processed\",\n",
              "      \"status_details\": null\n",
              "    }\n",
              "  ],\n",
              "  \"updated_at\": 1683570423,\n",
              "  \"validation_files\": []\n",
              "}"
            ]
          },
          "metadata": {},
          "execution_count": 35
        }
      ]
    },
    {
      "cell_type": "markdown",
      "source": [
        "Once the fine-tuning is finished, the status would show \"succeeded\" as illustrated above, we can go ahead and save the name of the fine-tuned model:\n",
        "\n",
        "# Option 1 | if response.fine_tuned_model != null\n",
        "\n",
        "fine_tuned_model = response.fine_tuned_model\n",
        "\n",
        "fine_tuned_model\n",
        "\n",
        "# Option 2 | if response.fine_tuned_model == null\n",
        "\n",
        "retrieve_response = openai.FineTune.retrieve(response.id)\n",
        "\n",
        "fine_tuned_model = retrieve_response.fine_tuned_model\n",
        "\n",
        "fine_tuned_model"
      ],
      "metadata": {
        "id": "vTc-PhjG6uHT"
      }
    },
    {
      "cell_type": "markdown",
      "source": [
        "## Fine tuned Curie model"
      ],
      "metadata": {
        "id": "mbcrEgHHpAs2"
      }
    },
    {
      "cell_type": "code",
      "source": [
        "retrieve_response = openai.FineTune.retrieve('ft-w3QBlDMniBafTCSup6v7SmL8') # Once training is completed, use  : fine_tune_response.id instead of the direct model id.\n",
        "fine_tuned_model_curie = retrieve_response.fine_tuned_model\n",
        "fine_tuned_model_curie"
      ],
      "metadata": {
        "colab": {
          "base_uri": "https://localhost:8080/",
          "height": 35
        },
        "id": "MyPWLiPMoe9b",
        "outputId": "be7cf6bc-7b97-4e0f-a2f7-787663957ae2"
      },
      "execution_count": 37,
      "outputs": [
        {
          "output_type": "execute_result",
          "data": {
            "text/plain": [
              "'curie:ft-aravindsp-2023-05-08-18-27-01'"
            ],
            "application/vnd.google.colaboratory.intrinsic+json": {
              "type": "string"
            }
          },
          "metadata": {},
          "execution_count": 37
        }
      ]
    },
    {
      "cell_type": "markdown",
      "source": [
        "Testing the finee tuned model on a new prompt"
      ],
      "metadata": {
        "id": "LMKjvN6P7Jf1"
      }
    },
    {
      "cell_type": "code",
      "source": [
        "new_prompt = \"Classify the review : use a 5 point likert scale 1 being the most negative and  5 being the most positive. Only integer outputs : The tsa pre check and clear lines are getting the worse and worse. I spend minimum 30 minutes in priority lanes! The wait goes time every time I travel.comment sentiment ratings:\""
      ],
      "metadata": {
        "id": "V4csmknzoqd6"
      },
      "execution_count": 38,
      "outputs": []
    },
    {
      "cell_type": "code",
      "source": [
        "answer = openai.Completion.create(\n",
        "  model=fine_tuned_model_curie,\n",
        "  prompt=new_prompt,\n",
        "  max_tokens=1,\n",
        "  temperature=0\n",
        ")\n",
        "answer['choices'][0]['text']"
      ],
      "metadata": {
        "colab": {
          "base_uri": "https://localhost:8080/",
          "height": 35
        },
        "id": "PEZ8zcP5pEtQ",
        "outputId": "90896483-7a1c-4603-9c1a-6ac2c8754aac"
      },
      "execution_count": 41,
      "outputs": [
        {
          "output_type": "execute_result",
          "data": {
            "text/plain": [
              "'1'"
            ],
            "application/vnd.google.colaboratory.intrinsic+json": {
              "type": "string"
            }
          },
          "metadata": {},
          "execution_count": 41
        }
      ]
    },
    {
      "cell_type": "code",
      "source": [
        "retrieve_response = openai.FineTune.retrieve('ft-7oeAH8xTaR1Pzg4bxGGfoKdT') # Once training is completed, use  : fine_tune_response.id instead of the direct model id.\n",
        "fine_tuned_model_davinci = retrieve_response.fine_tuned_model\n",
        "fine_tuned_model_davinci"
      ],
      "metadata": {
        "colab": {
          "base_uri": "https://localhost:8080/",
          "height": 35
        },
        "id": "Ao0R4--5nCFO",
        "outputId": "bb4f72b9-b946-40b4-e18c-5cb75c8e5874"
      },
      "execution_count": 59,
      "outputs": [
        {
          "output_type": "execute_result",
          "data": {
            "text/plain": [
              "'davinci:ft-aravindsp-2023-05-08-18-27-54'"
            ],
            "application/vnd.google.colaboratory.intrinsic+json": {
              "type": "string"
            }
          },
          "metadata": {},
          "execution_count": 59
        }
      ]
    },
    {
      "cell_type": "code",
      "source": [
        "fine_tuned_model_davinci"
      ],
      "metadata": {
        "colab": {
          "base_uri": "https://localhost:8080/",
          "height": 35
        },
        "id": "UnP7tX5inQET",
        "outputId": "e3a07b34-4d0e-4691-cc53-3938899128f4"
      },
      "execution_count": 60,
      "outputs": [
        {
          "output_type": "execute_result",
          "data": {
            "text/plain": [
              "'davinci:ft-aravindsp-2023-05-08-18-27-54'"
            ],
            "application/vnd.google.colaboratory.intrinsic+json": {
              "type": "string"
            }
          },
          "metadata": {},
          "execution_count": 60
        }
      ]
    },
    {
      "cell_type": "code",
      "source": [
        "answer = openai.Completion.create(\n",
        "  model=fine_tuned_model_curie,\n",
        "  prompt=new_prompt,\n",
        "  max_tokens=1,\n",
        "  temperature=0\n",
        ")\n",
        "answer['choices'][0]['text']"
      ],
      "metadata": {
        "colab": {
          "base_uri": "https://localhost:8080/",
          "height": 35
        },
        "id": "Wcub8vKInVPG",
        "outputId": "68212ab2-59b2-48e2-e99a-4a7e3ae5efb3"
      },
      "execution_count": 61,
      "outputs": [
        {
          "output_type": "execute_result",
          "data": {
            "text/plain": [
              "'4'"
            ],
            "application/vnd.google.colaboratory.intrinsic+json": {
              "type": "string"
            }
          },
          "metadata": {},
          "execution_count": 61
        }
      ]
    },
    {
      "cell_type": "code",
      "source": [
        "# Import libraries\n",
        "import json\n",
        "import openai\n",
        "import numpy as np\n",
        "import pandas as pd\n",
        "from sklearn.metrics import confusion_matrix, classification_report\n",
        "\n",
        "\n"
      ],
      "metadata": {
        "id": "LDzTC32vnW3q"
      },
      "execution_count": 49,
      "outputs": []
    },
    {
      "cell_type": "markdown",
      "source": [
        "## Model Testing\n",
        "\n",
        "\n",
        "## Curie"
      ],
      "metadata": {
        "id": "o7wiQPlZnY-C"
      }
    },
    {
      "cell_type": "code",
      "source": [
        "# Load the prompt and completions files\n",
        "prompt = []\n",
        "with open(\"prompts.txt\", \"r\") as f:\n",
        "    for line in f:\n",
        "        prompt.append(line.strip())\n",
        "\n",
        "completions = []\n",
        "with open(\"completions.txt\", \"r\") as f:\n",
        "    for line in f:\n",
        "        completions.append(line.strip())"
      ],
      "metadata": {
        "id": "ENyaGA16pRER"
      },
      "execution_count": 50,
      "outputs": []
    },
    {
      "cell_type": "code",
      "source": [
        "# Initialize an empty list to store the sentiments\n",
        "sentiments = []\n",
        "\n",
        "# Loop through the prompt arguments and call the OpenAI model\n",
        "for arg in prompt:\n",
        "    # Call the OpenAI model and get the response\n",
        "    response = openai.Completion.create(\n",
        "        engine=\"curie:ft-aravindsp-2023-05-10-21-37-22\",\n",
        "        prompt=arg,\n",
        "        temperature=0,\n",
        "        max_tokens=1,\n",
        "        top_p=1,\n",
        "        frequency_penalty=0,\n",
        "        presence_penalty=0,\n",
        "        stop=[\"\\n\"]\n",
        "    )\n",
        "    # Extract the sentiment from the response\n",
        "    sentiment = response[\"choices\"][0][\"text\"]\n",
        "    # Append the sentiment to the list\n",
        "    sentiments.append(sentiment)\n",
        "\n",
        "sentiments = np.delete(sentiments, -1)"
      ],
      "metadata": {
        "id": "YV_SKsb8pjff"
      },
      "execution_count": 51,
      "outputs": []
    },
    {
      "cell_type": "code",
      "source": [
        "# This section to be replaced with a ML model soon.\n",
        "\n",
        "# Define a function to treat the non-numeric values\n",
        "def treat_non_int(x):\n",
        "  # You can write your own logic here\n",
        "  # For example, you can round the fractions to the nearest integer\n",
        "  # or convert the strings to integers if possible\n",
        "  # or return a default value otherwise\n",
        "  try:\n",
        "    # Convert x to a float and round it\n",
        "    x = round(float(x))\n",
        "    # Check if x is between 1 and 5\n",
        "    if 1 <= x <= 5:\n",
        "      # Return x as an integer\n",
        "      return int(x)\n",
        "    else:\n",
        "      # Return a default value, for example 3\n",
        "      return 3\n",
        "  except:\n",
        "    # Return a default value, for example 3\n",
        "    return 3\n",
        "\n",
        "# Assume completions is an np array that holds some values\n",
        "# Apply the treat_non_int function to each element of completions\n",
        "sentiments = np.vectorize(treat_non_int)(sentiments)\n",
        "\n",
        "# Assume sentiments is an np array that holds some values\n",
        "# Convert the array elements to integers\n",
        "sentiments = sentiments.astype(int)"
      ],
      "metadata": {
        "id": "zdbh8ZXYrZ6H"
      },
      "execution_count": 55,
      "outputs": []
    },
    {
      "cell_type": "code",
      "source": [
        "from sklearn.metrics import confusion_matrix, classification_report,accuracy_score\n",
        "import matplotlib.pyplot as plt\n",
        "import seaborn as sns\n",
        "\n",
        "# Convert the sentiments and completions to numpy arrays\n",
        "sentiments = np.array(sentiments)\n",
        "completions = np.array(completions)\n",
        "\n",
        "# Evaluate performance\n",
        "print(\"Classification report:\")\n",
        "print(classification_report(completions, sentiments))\n",
        "\n",
        "cm = confusion_matrix(completions, sentiments, labels = [1,2,3,4,5])\n",
        "\n",
        "# Plot the confusion matrix as a heat map\n",
        "plt.figure(figsize=(5,5))\n",
        "sns.heatmap(cm, annot=True, fmt=\"d\", cmap=\"Blues\", square=True,xticklabels=[1, 2, 3, 4, 5], yticklabels=[1, 2, 3, 4 ,5])\n",
        "plt.xlabel(\"Predicted\")\n",
        "plt.ylabel(\"Actual\")\n",
        "plt.title(\"Confusion matrix\")\n",
        "plt.show()"
      ],
      "metadata": {
        "colab": {
          "base_uri": "https://localhost:8080/",
          "height": 656
        },
        "id": "XwIj1Kmfpm3p",
        "outputId": "bc564c6f-8d97-4ef0-b6a2-dd2312c342f2"
      },
      "execution_count": 57,
      "outputs": [
        {
          "output_type": "stream",
          "name": "stdout",
          "text": [
            "Classification report:\n",
            "              precision    recall  f1-score   support\n",
            "\n",
            "           1       0.95      0.97      0.96       193\n",
            "           2       0.95      0.94      0.95       248\n",
            "           3       0.92      0.94      0.93       199\n",
            "           4       0.93      0.88      0.90       172\n",
            "           5       0.94      0.97      0.95       188\n",
            "\n",
            "    accuracy                           0.94      1000\n",
            "   macro avg       0.94      0.94      0.94      1000\n",
            "weighted avg       0.94      0.94      0.94      1000\n",
            "\n"
          ]
        },
        {
          "output_type": "display_data",
          "data": {
            "text/plain": [
              "<Figure size 500x500 with 2 Axes>"
            ],
            "image/png": "[encoded data removed]"
          },
          "metadata": {}
        }
      ]
    },
    {
      "cell_type": "code",
      "source": [],
      "metadata": {
        "id": "8kP8rzviuHL-"
      },
      "execution_count": null,
      "outputs": []
    }
  ]
}