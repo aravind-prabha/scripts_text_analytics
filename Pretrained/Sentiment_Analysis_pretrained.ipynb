{
  "nbformat": 4,
  "nbformat_minor": 0,
  "metadata": {
    "colab": {
      "provenance": []
    },
    "kernelspec": {
      "name": "python3",
      "display_name": "Python 3"
    },
    "language_info": {
      "name": "python"
    }
  },
  "cells": [
    {
      "cell_type": "code",
      "execution_count": null,
      "metadata": {
        "id": "1e67dRVNGE-D"
      },
      "outputs": [],
      "source": [
        "import pandas as pd\n",
        "import numpy as np\n",
        "import math as ma\n",
        "import sklearn.metrics as metrics\n",
        "import matplotlib.pyplot as plt\n",
        "import tensorflow as tf\n",
        "import warnings\n",
        "import seaborn as sn\n",
        "\n",
        "import nltk\n",
        "\n",
        "from wordcloud import WordCloud, STOPWORDS\n",
        "\n",
        "from sklearn.metrics import cohen_kappa_score\n",
        "\n",
        "warnings.filterwarnings('ignore')\n",
        "plt.style.use('ggplot')"
      ]
    },
    {
      "cell_type": "code",
      "source": [
        "!pip install pattern"
      ],
      "metadata": {
        "id": "pzG0mxgsH_8d",
        "colab": {
          "base_uri": "https://localhost:8080/"
        },
        "outputId": "d13dfd06-5674-4995-c7fd-5f98b9ea99d3"
      },
      "execution_count": null,
      "outputs": [
        {
          "output_type": "stream",
          "name": "stdout",
          "text": [
            "Looking in indexes: https://pypi.org/simple, https://us-python.pkg.dev/colab-wheels/public/simple/\n",
            "Collecting pattern\n",
            "  Downloading Pattern-3.6.0.tar.gz (22.2 MB)\n",
            "\u001b[2K     \u001b[90m━━━━━━━━━━━━━━━━━━━━━━━━━━━━━━━━━━━━━━━━\u001b[0m \u001b[32m22.2/22.2 MB\u001b[0m \u001b[31m61.3 MB/s\u001b[0m eta \u001b[36m0:00:00\u001b[0m\n",
            "\u001b[?25h  Preparing metadata (setup.py) ... \u001b[?25l\u001b[?25hdone\n",
            "Requirement already satisfied: future in /usr/local/lib/python3.8/dist-packages (from pattern) (0.16.0)\n",
            "Collecting backports.csv\n",
            "  Downloading backports.csv-1.0.7-py2.py3-none-any.whl (12 kB)\n",
            "Collecting mysqlclient\n",
            "  Downloading mysqlclient-2.1.1.tar.gz (88 kB)\n",
            "\u001b[2K     \u001b[90m━━━━━━━━━━━━━━━━━━━━━━━━━━━━━━━━━━━━━━━━\u001b[0m \u001b[32m88.1/88.1 KB\u001b[0m \u001b[31m11.1 MB/s\u001b[0m eta \u001b[36m0:00:00\u001b[0m\n",
            "\u001b[?25h  Preparing metadata (setup.py) ... \u001b[?25l\u001b[?25hdone\n",
            "Requirement already satisfied: beautifulsoup4 in /usr/local/lib/python3.8/dist-packages (from pattern) (4.6.3)\n",
            "Requirement already satisfied: lxml in /usr/local/lib/python3.8/dist-packages (from pattern) (4.9.2)\n",
            "Collecting feedparser\n",
            "  Downloading feedparser-6.0.10-py3-none-any.whl (81 kB)\n",
            "\u001b[2K     \u001b[90m━━━━━━━━━━━━━━━━━━━━━━━━━━━━━━━━━━━━━━━━\u001b[0m \u001b[32m81.1/81.1 KB\u001b[0m \u001b[31m12.0 MB/s\u001b[0m eta \u001b[36m0:00:00\u001b[0m\n",
            "\u001b[?25hCollecting pdfminer.six\n",
            "  Downloading pdfminer.six-20221105-py3-none-any.whl (5.6 MB)\n",
            "\u001b[2K     \u001b[90m━━━━━━━━━━━━━━━━━━━━━━━━━━━━━━━━━━━━━━━━\u001b[0m \u001b[32m5.6/5.6 MB\u001b[0m \u001b[31m86.4 MB/s\u001b[0m eta \u001b[36m0:00:00\u001b[0m\n",
            "\u001b[?25hRequirement already satisfied: numpy in /usr/local/lib/python3.8/dist-packages (from pattern) (1.21.6)\n",
            "Requirement already satisfied: scipy in /usr/local/lib/python3.8/dist-packages (from pattern) (1.7.3)\n",
            "Requirement already satisfied: nltk in /usr/local/lib/python3.8/dist-packages (from pattern) (3.7)\n",
            "Collecting python-docx\n",
            "  Downloading python-docx-0.8.11.tar.gz (5.6 MB)\n",
            "\u001b[2K     \u001b[90m━━━━━━━━━━━━━━━━━━━━━━━━━━━━━━━━━━━━━━━━\u001b[0m \u001b[32m5.6/5.6 MB\u001b[0m \u001b[31m96.9 MB/s\u001b[0m eta \u001b[36m0:00:00\u001b[0m\n",
            "\u001b[?25h  Preparing metadata (setup.py) ... \u001b[?25l\u001b[?25hdone\n",
            "Collecting cherrypy\n",
            "  Downloading CherryPy-18.8.0-py2.py3-none-any.whl (348 kB)\n",
            "\u001b[2K     \u001b[90m━━━━━━━━━━━━━━━━━━━━━━━━━━━━━━━━━━━━━━\u001b[0m \u001b[32m348.4/348.4 KB\u001b[0m \u001b[31m38.4 MB/s\u001b[0m eta \u001b[36m0:00:00\u001b[0m\n",
            "\u001b[?25hRequirement already satisfied: requests in /usr/local/lib/python3.8/dist-packages (from pattern) (2.25.1)\n",
            "Collecting portend>=2.1.1\n",
            "  Downloading portend-3.1.0-py3-none-any.whl (5.3 kB)\n",
            "Collecting zc.lockfile\n",
            "  Downloading zc.lockfile-2.0-py2.py3-none-any.whl (9.7 kB)\n",
            "Requirement already satisfied: more-itertools in /usr/local/lib/python3.8/dist-packages (from cherrypy->pattern) (9.0.0)\n",
            "Collecting jaraco.collections\n",
            "  Downloading jaraco.collections-3.8.0-py3-none-any.whl (10 kB)\n",
            "Collecting cheroot>=8.2.1\n",
            "  Downloading cheroot-9.0.0-py2.py3-none-any.whl (100 kB)\n",
            "\u001b[2K     \u001b[90m━━━━━━━━━━━━━━━━━━━━━━━━━━━━━━━━━━━━━━\u001b[0m \u001b[32m100.6/100.6 KB\u001b[0m \u001b[31m14.7 MB/s\u001b[0m eta \u001b[36m0:00:00\u001b[0m\n",
            "\u001b[?25hCollecting sgmllib3k\n",
            "  Downloading sgmllib3k-1.0.0.tar.gz (5.8 kB)\n",
            "  Preparing metadata (setup.py) ... \u001b[?25l\u001b[?25hdone\n",
            "Requirement already satisfied: click in /usr/local/lib/python3.8/dist-packages (from nltk->pattern) (7.1.2)\n",
            "Requirement already satisfied: joblib in /usr/local/lib/python3.8/dist-packages (from nltk->pattern) (1.2.0)\n",
            "Requirement already satisfied: regex>=2021.8.3 in /usr/local/lib/python3.8/dist-packages (from nltk->pattern) (2022.6.2)\n",
            "Requirement already satisfied: tqdm in /usr/local/lib/python3.8/dist-packages (from nltk->pattern) (4.64.1)\n",
            "Requirement already satisfied: charset-normalizer>=2.0.0 in /usr/local/lib/python3.8/dist-packages (from pdfminer.six->pattern) (3.0.1)\n",
            "Collecting cryptography>=36.0.0\n",
            "  Downloading cryptography-39.0.1-cp36-abi3-manylinux_2_28_x86_64.whl (4.2 MB)\n",
            "\u001b[2K     \u001b[90m━━━━━━━━━━━━━━━━━━━━━━━━━━━━━━━━━━━━━━━━\u001b[0m \u001b[32m4.2/4.2 MB\u001b[0m \u001b[31m71.3 MB/s\u001b[0m eta \u001b[36m0:00:00\u001b[0m\n",
            "\u001b[?25hRequirement already satisfied: idna<3,>=2.5 in /usr/local/lib/python3.8/dist-packages (from requests->pattern) (2.10)\n",
            "Requirement already satisfied: urllib3<1.27,>=1.21.1 in /usr/local/lib/python3.8/dist-packages (from requests->pattern) (1.24.3)\n",
            "Requirement already satisfied: chardet<5,>=3.0.2 in /usr/local/lib/python3.8/dist-packages (from requests->pattern) (4.0.0)\n",
            "Requirement already satisfied: certifi>=2017.4.17 in /usr/local/lib/python3.8/dist-packages (from requests->pattern) (2022.12.7)\n",
            "Collecting jaraco.functools\n",
            "  Downloading jaraco.functools-3.6.0-py3-none-any.whl (7.9 kB)\n",
            "Requirement already satisfied: six>=1.11.0 in /usr/local/lib/python3.8/dist-packages (from cheroot>=8.2.1->cherrypy->pattern) (1.15.0)\n",
            "Requirement already satisfied: cffi>=1.12 in /usr/local/lib/python3.8/dist-packages (from cryptography>=36.0.0->pdfminer.six->pattern) (1.15.1)\n",
            "Collecting tempora>=1.8\n",
            "  Downloading tempora-5.2.1-py3-none-any.whl (13 kB)\n",
            "Collecting jaraco.text\n",
            "  Downloading jaraco.text-3.11.1-py3-none-any.whl (11 kB)\n",
            "Collecting jaraco.classes\n",
            "  Downloading jaraco.classes-3.2.3-py3-none-any.whl (6.0 kB)\n",
            "Requirement already satisfied: setuptools in /usr/local/lib/python3.8/dist-packages (from zc.lockfile->cherrypy->pattern) (57.4.0)\n",
            "Requirement already satisfied: pycparser in /usr/local/lib/python3.8/dist-packages (from cffi>=1.12->cryptography>=36.0.0->pdfminer.six->pattern) (2.21)\n",
            "Requirement already satisfied: pytz in /usr/local/lib/python3.8/dist-packages (from tempora>=1.8->portend>=2.1.1->cherrypy->pattern) (2022.7.1)\n",
            "Requirement already satisfied: inflect in /usr/local/lib/python3.8/dist-packages (from jaraco.text->jaraco.collections->cherrypy->pattern) (2.1.0)\n",
            "Collecting autocommand\n",
            "  Downloading autocommand-2.2.2-py3-none-any.whl (19 kB)\n",
            "Requirement already satisfied: importlib-resources in /usr/local/lib/python3.8/dist-packages (from jaraco.text->jaraco.collections->cherrypy->pattern) (5.10.2)\n",
            "Collecting jaraco.context>=4.1\n",
            "  Downloading jaraco.context-4.3.0-py3-none-any.whl (5.3 kB)\n",
            "Requirement already satisfied: zipp>=3.1.0 in /usr/local/lib/python3.8/dist-packages (from importlib-resources->jaraco.text->jaraco.collections->cherrypy->pattern) (3.13.0)\n",
            "Building wheels for collected packages: pattern, mysqlclient, python-docx, sgmllib3k\n",
            "  Building wheel for pattern (setup.py) ... \u001b[?25l\u001b[?25hdone\n",
            "  Created wheel for pattern: filename=Pattern-3.6-py3-none-any.whl size=22332722 sha256=77ea0f0e9346fba96c0a0169b5d07f365fbc1fa697c7d7cbaf558f5f8efb4bd5\n",
            "  Stored in directory: /root/.cache/pip/wheels/ec/ce/8f/bccc2d04f3a25a5a1dd19165b2855ad3203975f25edd5838d6\n",
            "  Building wheel for mysqlclient (setup.py) ... \u001b[?25l\u001b[?25hdone\n",
            "  Created wheel for mysqlclient: filename=mysqlclient-2.1.1-cp38-cp38-linux_x86_64.whl size=109206 sha256=e4f9c2b6c18e685d1770bffc386dae644bcaf778079a7cdd7501f56cad7c8658\n",
            "  Stored in directory: /root/.cache/pip/wheels/5b/e1/84/a6185eaec318899f59a32d393af7729a0719cd93695d71f9a1\n",
            "  Building wheel for python-docx (setup.py) ... \u001b[?25l\u001b[?25hdone\n",
            "  Created wheel for python-docx: filename=python_docx-0.8.11-py3-none-any.whl size=184505 sha256=4da85b1d1e886c8cfdd18f74b817a6bf0df25d02b6bd030e3211d659d834007b\n",
            "  Stored in directory: /root/.cache/pip/wheels/32/b8/b2/c4c2b95765e615fe139b0b17b5ea7c0e1b6519b0a9ec8fb34d\n",
            "  Building wheel for sgmllib3k (setup.py) ... \u001b[?25l\u001b[?25hdone\n",
            "  Created wheel for sgmllib3k: filename=sgmllib3k-1.0.0-py3-none-any.whl size=6066 sha256=2a86febc4884293accdc4648e846e5e6698018095ef18e160f6bdb1404b225e7\n",
            "  Stored in directory: /root/.cache/pip/wheels/83/63/2f/117884c3b19d46b64d3d61690333aa80c88dc14050e269c546\n",
            "Successfully built pattern mysqlclient python-docx sgmllib3k\n",
            "Installing collected packages: sgmllib3k, backports.csv, zc.lockfile, python-docx, mysqlclient, jaraco.functools, jaraco.context, jaraco.classes, feedparser, autocommand, tempora, jaraco.text, cryptography, cheroot, portend, pdfminer.six, jaraco.collections, cherrypy, pattern\n",
            "Successfully installed autocommand-2.2.2 backports.csv-1.0.7 cheroot-9.0.0 cherrypy-18.8.0 cryptography-39.0.1 feedparser-6.0.10 jaraco.classes-3.2.3 jaraco.collections-3.8.0 jaraco.context-4.3.0 jaraco.functools-3.6.0 jaraco.text-3.11.1 mysqlclient-2.1.1 pattern-3.6 pdfminer.six-20221105 portend-3.1.0 python-docx-0.8.11 sgmllib3k-1.0.0 tempora-5.2.1 zc.lockfile-2.0\n"
          ]
        }
      ]
    },
    {
      "cell_type": "code",
      "source": [
        "!pip install matplotlib --upgrade"
      ],
      "metadata": {
        "id": "AF6Q5kGpJqKx",
        "colab": {
          "base_uri": "https://localhost:8080/",
          "height": 572
        },
        "outputId": "07b074d3-2204-4a42-e5f4-4e7b1b4cd631"
      },
      "execution_count": null,
      "outputs": [
        {
          "output_type": "stream",
          "name": "stdout",
          "text": [
            "Looking in indexes: https://pypi.org/simple, https://us-python.pkg.dev/colab-wheels/public/simple/\n",
            "Requirement already satisfied: matplotlib in /usr/local/lib/python3.8/dist-packages (3.2.2)\n",
            "Collecting matplotlib\n",
            "  Downloading matplotlib-3.7.0-cp38-cp38-manylinux_2_12_x86_64.manylinux2010_x86_64.whl (9.2 MB)\n",
            "\u001b[2K     \u001b[90m━━━━━━━━━━━━━━━━━━━━━━━━━━━━━━━━━━━━━━━━\u001b[0m \u001b[32m9.2/9.2 MB\u001b[0m \u001b[31m85.3 MB/s\u001b[0m eta \u001b[36m0:00:00\u001b[0m\n",
            "\u001b[?25hRequirement already satisfied: cycler>=0.10 in /usr/local/lib/python3.8/dist-packages (from matplotlib) (0.11.0)\n",
            "Requirement already satisfied: numpy>=1.20 in /usr/local/lib/python3.8/dist-packages (from matplotlib) (1.21.6)\n",
            "Collecting fonttools>=4.22.0\n",
            "  Downloading fonttools-4.38.0-py3-none-any.whl (965 kB)\n",
            "\u001b[2K     \u001b[90m━━━━━━━━━━━━━━━━━━━━━━━━━━━━━━━━━━━━━━\u001b[0m \u001b[32m965.4/965.4 KB\u001b[0m \u001b[31m63.5 MB/s\u001b[0m eta \u001b[36m0:00:00\u001b[0m\n",
            "\u001b[?25hRequirement already satisfied: packaging>=20.0 in /usr/local/lib/python3.8/dist-packages (from matplotlib) (23.0)\n",
            "Requirement already satisfied: importlib-resources>=3.2.0 in /usr/local/lib/python3.8/dist-packages (from matplotlib) (5.10.2)\n",
            "Collecting contourpy>=1.0.1\n",
            "  Downloading contourpy-1.0.7-cp38-cp38-manylinux_2_17_x86_64.manylinux2014_x86_64.whl (300 kB)\n",
            "\u001b[2K     \u001b[90m━━━━━━━━━━━━━━━━━━━━━━━━━━━━━━━━━━━━━━\u001b[0m \u001b[32m300.0/300.0 KB\u001b[0m \u001b[31m36.8 MB/s\u001b[0m eta \u001b[36m0:00:00\u001b[0m\n",
            "\u001b[?25hRequirement already satisfied: kiwisolver>=1.0.1 in /usr/local/lib/python3.8/dist-packages (from matplotlib) (1.4.4)\n",
            "Requirement already satisfied: pillow>=6.2.0 in /usr/local/lib/python3.8/dist-packages (from matplotlib) (7.1.2)\n",
            "Requirement already satisfied: pyparsing>=2.3.1 in /usr/local/lib/python3.8/dist-packages (from matplotlib) (3.0.9)\n",
            "Requirement already satisfied: python-dateutil>=2.7 in /usr/local/lib/python3.8/dist-packages (from matplotlib) (2.8.2)\n",
            "Requirement already satisfied: zipp>=3.1.0 in /usr/local/lib/python3.8/dist-packages (from importlib-resources>=3.2.0->matplotlib) (3.13.0)\n",
            "Requirement already satisfied: six>=1.5 in /usr/local/lib/python3.8/dist-packages (from python-dateutil>=2.7->matplotlib) (1.15.0)\n",
            "Installing collected packages: fonttools, contourpy, matplotlib\n",
            "  Attempting uninstall: matplotlib\n",
            "    Found existing installation: matplotlib 3.2.2\n",
            "    Uninstalling matplotlib-3.2.2:\n",
            "      Successfully uninstalled matplotlib-3.2.2\n",
            "Successfully installed contourpy-1.0.7 fonttools-4.38.0 matplotlib-3.7.0\n"
          ]
        },
        {
          "output_type": "display_data",
          "data": {
            "application/vnd.colab-display-data+json": {
              "pip_warning": {
                "packages": [
                  "matplotlib",
                  "mpl_toolkits"
                ]
              }
            }
          },
          "metadata": {}
        }
      ]
    },
    {
      "cell_type": "code",
      "source": [
        "!pip install transformers"
      ],
      "metadata": {
        "id": "IXyG3AE_ulg_",
        "colab": {
          "base_uri": "https://localhost:8080/"
        },
        "outputId": "1432b07e-bec8-4843-be58-64277ec999be"
      },
      "execution_count": null,
      "outputs": [
        {
          "output_type": "stream",
          "name": "stdout",
          "text": [
            "Looking in indexes: https://pypi.org/simple, https://us-python.pkg.dev/colab-wheels/public/simple/\n",
            "Collecting transformers\n",
            "  Downloading transformers-4.26.1-py3-none-any.whl (6.3 MB)\n",
            "\u001b[2K     \u001b[90m━━━━━━━━━━━━━━━━━━━━━━━━━━━━━━━━━━━━━━━━\u001b[0m \u001b[32m6.3/6.3 MB\u001b[0m \u001b[31m31.0 MB/s\u001b[0m eta \u001b[36m0:00:00\u001b[0m\n",
            "\u001b[?25hRequirement already satisfied: packaging>=20.0 in /usr/local/lib/python3.8/dist-packages (from transformers) (23.0)\n",
            "Requirement already satisfied: filelock in /usr/local/lib/python3.8/dist-packages (from transformers) (3.9.0)\n",
            "Requirement already satisfied: numpy>=1.17 in /usr/local/lib/python3.8/dist-packages (from transformers) (1.21.6)\n",
            "Collecting huggingface-hub<1.0,>=0.11.0\n",
            "  Downloading huggingface_hub-0.12.1-py3-none-any.whl (190 kB)\n",
            "\u001b[2K     \u001b[90m━━━━━━━━━━━━━━━━━━━━━━━━━━━━━━━━━━━━━━\u001b[0m \u001b[32m190.3/190.3 KB\u001b[0m \u001b[31m19.2 MB/s\u001b[0m eta \u001b[36m0:00:00\u001b[0m\n",
            "\u001b[?25hRequirement already satisfied: requests in /usr/local/lib/python3.8/dist-packages (from transformers) (2.25.1)\n",
            "Requirement already satisfied: pyyaml>=5.1 in /usr/local/lib/python3.8/dist-packages (from transformers) (6.0)\n",
            "Requirement already satisfied: tqdm>=4.27 in /usr/local/lib/python3.8/dist-packages (from transformers) (4.64.1)\n",
            "Requirement already satisfied: regex!=2019.12.17 in /usr/local/lib/python3.8/dist-packages (from transformers) (2022.6.2)\n",
            "Collecting tokenizers!=0.11.3,<0.14,>=0.11.1\n",
            "  Downloading tokenizers-0.13.2-cp38-cp38-manylinux_2_17_x86_64.manylinux2014_x86_64.whl (7.6 MB)\n",
            "\u001b[2K     \u001b[90m━━━━━━━━━━━━━━━━━━━━━━━━━━━━━━━━━━━━━━━━\u001b[0m \u001b[32m7.6/7.6 MB\u001b[0m \u001b[31m39.4 MB/s\u001b[0m eta \u001b[36m0:00:00\u001b[0m\n",
            "\u001b[?25hRequirement already satisfied: typing-extensions>=3.7.4.3 in /usr/local/lib/python3.8/dist-packages (from huggingface-hub<1.0,>=0.11.0->transformers) (4.5.0)\n",
            "Requirement already satisfied: idna<3,>=2.5 in /usr/local/lib/python3.8/dist-packages (from requests->transformers) (2.10)\n",
            "Requirement already satisfied: chardet<5,>=3.0.2 in /usr/local/lib/python3.8/dist-packages (from requests->transformers) (4.0.0)\n",
            "Requirement already satisfied: certifi>=2017.4.17 in /usr/local/lib/python3.8/dist-packages (from requests->transformers) (2022.12.7)\n",
            "Requirement already satisfied: urllib3<1.27,>=1.21.1 in /usr/local/lib/python3.8/dist-packages (from requests->transformers) (1.24.3)\n",
            "Installing collected packages: tokenizers, huggingface-hub, transformers\n",
            "Successfully installed huggingface-hub-0.12.1 tokenizers-0.13.2 transformers-4.26.1\n"
          ]
        }
      ]
    },
    {
      "cell_type": "code",
      "source": [
        "nltk.download('omw-1.4')\n",
        "nltk.download('vader_lexicon')\n",
        "nltk.download('punkt') # For TextBlob\n",
        "nltk.download('averaged_perceptron_tagger') # For TextBlob\n",
        "nltk.download('brown') # For TextBlob"
      ],
      "metadata": {
        "colab": {
          "base_uri": "https://localhost:8080/"
        },
        "id": "J5rTfUe5InFU",
        "outputId": "abcceebf-7ae4-475d-802e-38c67182f706"
      },
      "execution_count": null,
      "outputs": [
        {
          "output_type": "stream",
          "name": "stderr",
          "text": [
            "[nltk_data] Downloading package omw-1.4 to /root/nltk_data...\n",
            "[nltk_data] Downloading package vader_lexicon to /root/nltk_data...\n",
            "[nltk_data] Downloading package punkt to /root/nltk_data...\n",
            "[nltk_data]   Unzipping tokenizers/punkt.zip.\n",
            "[nltk_data] Downloading package averaged_perceptron_tagger to\n",
            "[nltk_data]     /root/nltk_data...\n",
            "[nltk_data]   Unzipping taggers/averaged_perceptron_tagger.zip.\n",
            "[nltk_data] Downloading package brown to /root/nltk_data...\n",
            "[nltk_data]   Unzipping corpora/brown.zip.\n"
          ]
        },
        {
          "output_type": "execute_result",
          "data": {
            "text/plain": [
              "True"
            ]
          },
          "metadata": {},
          "execution_count": 2
        }
      ]
    },
    {
      "cell_type": "code",
      "source": [
        "# Loading the merged dataset. For now keeping the encoding to ISO-8859-1 . Will have to look into it later\n",
        "df = pd.read_csv('sample_text_rating_Merged.csv', encoding='ISO-8859-1')"
      ],
      "metadata": {
        "id": "Ybkz6WMvFbe5"
      },
      "execution_count": null,
      "outputs": []
    },
    {
      "cell_type": "code",
      "source": [
        "# Making a copy of the df to collate the results\n",
        "sentiment_df = df.copy"
      ],
      "metadata": {
        "id": "zRTvSjevKowu"
      },
      "execution_count": null,
      "outputs": []
    },
    {
      "cell_type": "code",
      "source": [
        "# First 5 rows of the df\n",
        "df.head()"
      ],
      "metadata": {
        "colab": {
          "base_uri": "https://localhost:8080/",
          "height": 206
        },
        "id": "1KzhqbyXJabw",
        "outputId": "a5726b08-1483-4778-9530-c4a843f130d0"
      },
      "execution_count": null,
      "outputs": [
        {
          "output_type": "execute_result",
          "data": {
            "text/plain": [
              "                                             comment  rating\n",
              "0  parking is easy and the parking fee is reasonable       5\n",
              "1                   this is one of the best aquarium       5\n",
              "2                  i was blown away by the exhibits.       5\n",
              "3                             everything was so cool       4\n",
              "4                            definitely worth seeing       4"
            ],
            "text/html": [
              "\n",
              "  <div id=\"df-4a60f80e-7354-4ae2-9bbe-4dd80f4783e8\">\n",
              "    <div class=\"colab-df-container\">\n",
              "      <div>\n",
              "<style scoped>\n",
              "    .dataframe tbody tr th:only-of-type {\n",
              "        vertical-align: middle;\n",
              "    }\n",
              "\n",
              "    .dataframe tbody tr th {\n",
              "        vertical-align: top;\n",
              "    }\n",
              "\n",
              "    .dataframe thead th {\n",
              "        text-align: right;\n",
              "    }\n",
              "</style>\n",
              "<table border=\"1\" class=\"dataframe\">\n",
              "  <thead>\n",
              "    <tr style=\"text-align: right;\">\n",
              "      <th></th>\n",
              "      <th>comment</th>\n",
              "      <th>rating</th>\n",
              "    </tr>\n",
              "  </thead>\n",
              "  <tbody>\n",
              "    <tr>\n",
              "      <th>0</th>\n",
              "      <td>parking is easy and the parking fee is reasonable</td>\n",
              "      <td>5</td>\n",
              "    </tr>\n",
              "    <tr>\n",
              "      <th>1</th>\n",
              "      <td>this is one of the best aquarium</td>\n",
              "      <td>5</td>\n",
              "    </tr>\n",
              "    <tr>\n",
              "      <th>2</th>\n",
              "      <td>i was blown away by the exhibits.</td>\n",
              "      <td>5</td>\n",
              "    </tr>\n",
              "    <tr>\n",
              "      <th>3</th>\n",
              "      <td>everything was so cool</td>\n",
              "      <td>4</td>\n",
              "    </tr>\n",
              "    <tr>\n",
              "      <th>4</th>\n",
              "      <td>definitely worth seeing</td>\n",
              "      <td>4</td>\n",
              "    </tr>\n",
              "  </tbody>\n",
              "</table>\n",
              "</div>\n",
              "      <button class=\"colab-df-convert\" onclick=\"convertToInteractive('df-4a60f80e-7354-4ae2-9bbe-4dd80f4783e8')\"\n",
              "              title=\"Convert this dataframe to an interactive table.\"\n",
              "              style=\"display:none;\">\n",
              "        \n",
              "  <svg xmlns=\"http://www.w3.org/2000/svg\" height=\"24px\"viewBox=\"0 0 24 24\"\n",
              "       width=\"24px\">\n",
              "    <path d=\"M0 0h24v24H0V0z\" fill=\"none\"/>\n",
              "    <path d=\"M18.56 5.44l.94 2.06.94-2.06 2.06-.94-2.06-.94-.94-2.06-.94 2.06-2.06.94zm-11 1L8.5 8.5l.94-2.06 2.06-.94-2.06-.94L8.5 2.5l-.94 2.06-2.06.94zm10 10l.94 2.06.94-2.06 2.06-.94-2.06-.94-.94-2.06-.94 2.06-2.06.94z\"/><path d=\"M17.41 7.96l-1.37-1.37c-.4-.4-.92-.59-1.43-.59-.52 0-1.04.2-1.43.59L10.3 9.45l-7.72 7.72c-.78.78-.78 2.05 0 2.83L4 21.41c.39.39.9.59 1.41.59.51 0 1.02-.2 1.41-.59l7.78-7.78 2.81-2.81c.8-.78.8-2.07 0-2.86zM5.41 20L4 18.59l7.72-7.72 1.47 1.35L5.41 20z\"/>\n",
              "  </svg>\n",
              "      </button>\n",
              "      \n",
              "  <style>\n",
              "    .colab-df-container {\n",
              "      display:flex;\n",
              "      flex-wrap:wrap;\n",
              "      gap: 12px;\n",
              "    }\n",
              "\n",
              "    .colab-df-convert {\n",
              "      background-color: #E8F0FE;\n",
              "      border: none;\n",
              "      border-radius: 50%;\n",
              "      cursor: pointer;\n",
              "      display: none;\n",
              "      fill: #1967D2;\n",
              "      height: 32px;\n",
              "      padding: 0 0 0 0;\n",
              "      width: 32px;\n",
              "    }\n",
              "\n",
              "    .colab-df-convert:hover {\n",
              "      background-color: #E2EBFA;\n",
              "      box-shadow: 0px 1px 2px rgba(60, 64, 67, 0.3), 0px 1px 3px 1px rgba(60, 64, 67, 0.15);\n",
              "      fill: #174EA6;\n",
              "    }\n",
              "\n",
              "    [theme=dark] .colab-df-convert {\n",
              "      background-color: #3B4455;\n",
              "      fill: #D2E3FC;\n",
              "    }\n",
              "\n",
              "    [theme=dark] .colab-df-convert:hover {\n",
              "      background-color: #434B5C;\n",
              "      box-shadow: 0px 1px 3px 1px rgba(0, 0, 0, 0.15);\n",
              "      filter: drop-shadow(0px 1px 2px rgba(0, 0, 0, 0.3));\n",
              "      fill: #FFFFFF;\n",
              "    }\n",
              "  </style>\n",
              "\n",
              "      <script>\n",
              "        const buttonEl =\n",
              "          document.querySelector('#df-4a60f80e-7354-4ae2-9bbe-4dd80f4783e8 button.colab-df-convert');\n",
              "        buttonEl.style.display =\n",
              "          google.colab.kernel.accessAllowed ? 'block' : 'none';\n",
              "\n",
              "        async function convertToInteractive(key) {\n",
              "          const element = document.querySelector('#df-4a60f80e-7354-4ae2-9bbe-4dd80f4783e8');\n",
              "          const dataTable =\n",
              "            await google.colab.kernel.invokeFunction('convertToInteractive',\n",
              "                                                     [key], {});\n",
              "          if (!dataTable) return;\n",
              "\n",
              "          const docLinkHtml = 'Like what you see? Visit the ' +\n",
              "            '<a target=\"_blank\" href=https://colab.research.google.com/notebooks/data_table.ipynb>data table notebook</a>'\n",
              "            + ' to learn more about interactive tables.';\n",
              "          element.innerHTML = '';\n",
              "          dataTable['output_type'] = 'display_data';\n",
              "          await google.colab.output.renderOutput(dataTable, element);\n",
              "          const docLink = document.createElement('div');\n",
              "          docLink.innerHTML = docLinkHtml;\n",
              "          element.appendChild(docLink);\n",
              "        }\n",
              "      </script>\n",
              "    </div>\n",
              "  </div>\n",
              "  "
            ]
          },
          "metadata": {},
          "execution_count": 5
        }
      ]
    },
    {
      "cell_type": "code",
      "source": [
        "# Plotting the distribution of the ratings in the current dataset\n",
        "ax = df.rating.value_counts().sort_index().plot(kind='bar',title = 'Count of Reviews by Ratings',figsize = (10,5))\n",
        "ax.set_label('Review Stars')\n",
        "for container in ax.containers:\n",
        "    ax.bar_label(container)\n",
        "plt.show()"
      ],
      "metadata": {
        "colab": {
          "base_uri": "https://localhost:8080/",
          "height": 333
        },
        "id": "wfuy1sn1FUVn",
        "outputId": "269afaee-9952-410c-a4ca-45497773cdcd"
      },
      "execution_count": null,
      "outputs": [
        {
          "output_type": "display_data",
          "data": {
            "text/plain": [
              "<Figure size 720x360 with 1 Axes>"
            ],
            "image/png": "[encoded data removed]"
          },
          "metadata": {}
        }
      ]
    },
    {
      "cell_type": "code",
      "source": [
        "sentences = df.comment\n",
        "ratings = df.rating"
      ],
      "metadata": {
        "id": "nxtJMysrI_7o"
      },
      "execution_count": null,
      "outputs": []
    },
    {
      "cell_type": "code",
      "source": [
        "def get_sentiment(sentence,method):\n",
        "    # Get the Sentiment Score\n",
        "    if method == 'sia':\n",
        "      sentiment_Score = sia.polarity_scores(sentence)['compound']\n",
        "    elif method == 'pattern': \n",
        "      sentiment_Score = pattern_sentiment(sentence)[0]\n",
        "    elif method == 'blob':\n",
        "      sentiment_Score = get_polarity_blob(sentence)\n",
        "    elif method == 'distilbert':\n",
        "      sentiment_Score = sentimentAnalysis_pipeline(sentence)\n",
        "    # Map the sentiment score to a 5-point scale\n",
        "    if sentiment_Score >= 0.5:\n",
        "        return 5\n",
        "    elif sentiment_Score >= 0.3:\n",
        "        return 4\n",
        "    elif sentiment_Score > -0.0:\n",
        "        return 3\n",
        "    elif sentiment_Score > -0.3:\n",
        "        return 2\n",
        "    else:\n",
        "        return 1"
      ],
      "metadata": {
        "id": "EIPYjnIc80-8"
      },
      "execution_count": null,
      "outputs": []
    },
    {
      "cell_type": "code",
      "source": [
        "def get_sentiment_AJ(sentence,method):\n",
        "    # Get the Sentiment Score\n",
        "    if method == 'sia':\n",
        "      sentiment_Score = sia.polarity_scores(sentence)['compound']\n",
        "    elif method == 'pattern': \n",
        "      sentiment_Score = pattern_sentiment(sentence)[0]\n",
        "    elif method == 'blob':\n",
        "      sentiment_Score = get_polarity_blob(sentence)\n",
        "    elif method == 'distilbert':\n",
        "      sentiment_Score = sentimentAnalysis_pipeline(sentence)\n",
        "    # Map the sentiment score to a 5-point scale\n",
        "    return round(sentiment_Score*2 + 3,0)"
      ],
      "metadata": {
        "id": "UUhmE9CGF60t"
      },
      "execution_count": null,
      "outputs": []
    },
    {
      "cell_type": "code",
      "source": [
        "def get_Model_Ratings(sentences,method):\n",
        "  model_Ratings = list()\n",
        "  for i in range(sentences.size):\n",
        "    model_Ratings.append(get_sentiment(sentences[i],method))\n",
        "  return model_Ratings"
      ],
      "metadata": {
        "id": "cF9wJ-GCYXix"
      },
      "execution_count": null,
      "outputs": []
    },
    {
      "cell_type": "code",
      "source": [
        "def get_Model_Ratings_AJ(sentences,method):\n",
        "  model_Ratings = list()\n",
        "  for i in range(sentences.size):\n",
        "    model_Ratings.append(get_sentiment_AJ(sentences[i],method))\n",
        "  return model_Ratings"
      ],
      "metadata": {
        "id": "jawg35eweJDK"
      },
      "execution_count": null,
      "outputs": []
    },
    {
      "cell_type": "code",
      "source": [
        "def get_polarity_blob(sentence):\n",
        "  blob_sentence = TextBlob(sentence)\n",
        "  return round(blob_sentence.sentiment.polarity,2)"
      ],
      "metadata": {
        "id": "8DuivNEhmvXb"
      },
      "execution_count": null,
      "outputs": []
    },
    {
      "cell_type": "markdown",
      "source": [
        "predicted = model_Ratings\n",
        "\n",
        "actual = test_Ratings"
      ],
      "metadata": {
        "id": "P_umhIlaY_g4"
      }
    },
    {
      "cell_type": "code",
      "source": [
        "def return_Confusion_Matrix(actual,predicted):\n",
        "  confusion_matrix = metrics.confusion_matrix(actual,predicted)\n",
        "  plt.figure(figsize = (10,7))\n",
        "  sn.heatmap(confusion_matrix,annot=True,fmt='g',cmap = 'Greens')\n",
        "  plt.xlabel('Predicted')\n",
        "  plt.ylabel('Actual')\n",
        "  return confusion_matrix"
      ],
      "metadata": {
        "id": "cAdXZIdgYrnJ"
      },
      "execution_count": null,
      "outputs": []
    },
    {
      "cell_type": "code",
      "source": [
        "def get_performance_metrics(actual,predicted):\n",
        "  # Accuracy\n",
        "  accuracy = metrics.accuracy_score(actual,predicted)\n",
        "  print(\"Accuracy: {:.2f}\".format(accuracy))\n",
        "  # F1 score \n",
        "  f1_score = metrics.f1_score(actual,predicted,average='weighted')\n",
        "  print(\"F1 Score : {:.2f}\".format(f1_score))\n",
        "  # Precision\n",
        "  precision = metrics.precision_score(actual,predicted,average='weighted')\n",
        "  print(\"Precision : {:.2f}\".format(precision))\n",
        "  #recall\n",
        "  recall_macro = metrics.recall_score(actual,predicted,average='macro')\n",
        "  recall_micro = metrics.recall_score(actual,predicted,average='micro')\n",
        "  # reference : https://datascience.stackexchange.com/questions/15989/micro-average-vs-macro-average-performance-in-a-multiclass-classification-settin\n",
        "  print('Recall Macro : {:.2f}'.format(recall_macro))\n",
        "  print('Recall Micro : {:.2f}'.format(recall_micro))\n",
        "\n",
        "  #calculate Cohen's Kappa\n",
        "  cohenkappa_score = cohen_kappa_score(actual, predicted)\n",
        "  #reference : https://vitalflux.com/cohen-kappa-score-python-example-machine-learning/\n",
        "  print(\"cohen_kappa_score : {:.2f}\".format(cohenkappa_score))"
      ],
      "metadata": {
        "id": "v-f6b6XbZ1Yk"
      },
      "execution_count": null,
      "outputs": []
    },
    {
      "cell_type": "markdown",
      "source": [
        "# Sentiment Intensity Analyzer\n",
        "\n",
        "VADER calculates the text sentiment and returns the probability of a given input sentence to be positive, negative, or neural. The tool can analyze data from all sorts of social media platforms, such as Twitter and Facebook. \n",
        "\n",
        "Here are some of the main features of VADER: \n",
        "\n",
        "\n",
        "\n",
        "1.   VADER model does not require training data\n",
        "2.   It understands sentiment of text containing emoticons, slangs,conjunctions, etc.\n",
        "3.   VADER is good for social media text\n",
        "4.   It is an Open-source library"
      ],
      "metadata": {
        "id": "l5knik_dgSVs"
      }
    },
    {
      "cell_type": "code",
      "source": [
        "from nltk.sentiment import SentimentIntensityAnalyzer"
      ],
      "metadata": {
        "id": "GK3fo-RRE6xn"
      },
      "execution_count": null,
      "outputs": []
    },
    {
      "cell_type": "code",
      "source": [
        "# Creating a sentimentintensityanalyzer object\n",
        "sia = SentimentIntensityAnalyzer()"
      ],
      "metadata": {
        "id": "uhIyjMzeE92h"
      },
      "execution_count": null,
      "outputs": []
    },
    {
      "cell_type": "code",
      "source": [
        "sentence = 'this is my favorite place.'\n",
        "method = 'sia'\n",
        "get_sentiment(sentence,method)"
      ],
      "metadata": {
        "colab": {
          "base_uri": "https://localhost:8080/"
        },
        "id": "uK0TMXgTDnBP",
        "outputId": "fb718108-f5ee-4692-d30f-fc592c67976f"
      },
      "execution_count": null,
      "outputs": [
        {
          "output_type": "execute_result",
          "data": {
            "text/plain": [
              "4"
            ]
          },
          "metadata": {},
          "execution_count": 20
        }
      ]
    },
    {
      "cell_type": "code",
      "source": [
        "sentence = 'this is my favorite place.'\n",
        "method = 'pattern'\n",
        "get_sentiment(sentence,method)"
      ],
      "metadata": {
        "colab": {
          "base_uri": "https://localhost:8080/"
        },
        "id": "aLQFDYsqGcBa",
        "outputId": "8eea2d93-becf-40b2-90e4-ed258320fbcb"
      },
      "execution_count": null,
      "outputs": [
        {
          "output_type": "execute_result",
          "data": {
            "text/plain": [
              "5"
            ]
          },
          "metadata": {},
          "execution_count": 21
        }
      ]
    },
    {
      "cell_type": "code",
      "source": [
        "sentence = 'this is my favorite place.'\n",
        "method = 'sia'\n",
        "get_sentiment_AJ(sentence,method)"
      ],
      "metadata": {
        "colab": {
          "base_uri": "https://localhost:8080/"
        },
        "id": "qlIos9XyEuNf",
        "outputId": "871c760c-4a3e-47ed-979e-614274f4e78c"
      },
      "execution_count": null,
      "outputs": [
        {
          "output_type": "execute_result",
          "data": {
            "text/plain": [
              "4.0"
            ]
          },
          "metadata": {},
          "execution_count": 22
        }
      ]
    },
    {
      "cell_type": "code",
      "source": [
        "sentence = 'this is my favorite place.'\n",
        "method = 'pattern'\n",
        "get_sentiment_AJ(sentence,method)"
      ],
      "metadata": {
        "colab": {
          "base_uri": "https://localhost:8080/"
        },
        "id": "E-TjAT6VGm3o",
        "outputId": "f0030c0a-d540-4844-8775-9d78b59e5e67"
      },
      "execution_count": null,
      "outputs": [
        {
          "output_type": "execute_result",
          "data": {
            "text/plain": [
              "4.0"
            ]
          },
          "metadata": {},
          "execution_count": 23
        }
      ]
    },
    {
      "cell_type": "code",
      "source": [
        "sia_ratings = get_Model_Ratings(sentences,'sia')"
      ],
      "metadata": {
        "id": "8-_qby7HadBO"
      },
      "execution_count": null,
      "outputs": []
    },
    {
      "cell_type": "code",
      "source": [
        "return_Confusion_Matrix(ratings,sia_ratings)"
      ],
      "metadata": {
        "colab": {
          "base_uri": "https://localhost:8080/",
          "height": 532
        },
        "id": "vDJdOh4qanSK",
        "outputId": "48dd8df8-be11-4b59-a589-8ee2c04ad53c"
      },
      "execution_count": null,
      "outputs": [
        {
          "output_type": "execute_result",
          "data": {
            "text/plain": [
              "array([[ 922, 1244,  157,  200,  115],\n",
              "       [ 488, 1164,  138,  260,  183],\n",
              "       [   7,   53,   10,   19,   10],\n",
              "       [   3,   85,   36,  102,   88],\n",
              "       [  16,  509,  127,  553, 2058]])"
            ]
          },
          "metadata": {},
          "execution_count": 111
        },
        {
          "output_type": "display_data",
          "data": {
            "text/plain": [
              "<Figure size 720x504 with 2 Axes>"
            ],
            "image/png": "[encoded data removed]"
          },
          "metadata": {}
        }
      ]
    },
    {
      "cell_type": "code",
      "source": [
        "get_performance_metrics(ratings,sia_ratings)"
      ],
      "metadata": {
        "colab": {
          "base_uri": "https://localhost:8080/"
        },
        "id": "OUtMbKinbKU1",
        "outputId": "c79c08e9-d33f-49a6-873c-0b1ec378247b"
      },
      "execution_count": null,
      "outputs": [
        {
          "output_type": "stream",
          "name": "stdout",
          "text": [
            "Accuracy: 0.50\n",
            "F1 Score : 0.54\n",
            "Precision : 0.62\n",
            "Recall Macro : 0.39\n",
            "Recall Micro : 0.50\n",
            "cohen_kappa_score : 0.32\n"
          ]
        }
      ]
    },
    {
      "cell_type": "markdown",
      "source": [
        "## Interpretation of the Kappa Score\n",
        "\n",
        "\n",
        "\n",
        "*   score < 0            :   Less than chance agreement\n",
        "*   0.01 < score < 0.2   :   Slight agreement\n",
        "*   0.21 - 0.4           :   Fair agreement\n",
        "*   0.41 - 0.6           :   Moderate agreement\n",
        "*   0.61 - 0.8           :   Substantial agreement\n",
        "*   0.81 - 0.99          :   Almost perfect agreement"
      ],
      "metadata": {
        "id": "HE9bUeoWbRwQ"
      }
    },
    {
      "cell_type": "code",
      "source": [
        "sia_ratings_AJ = get_Model_Ratings_AJ(sentences,'sia')"
      ],
      "metadata": {
        "id": "LRRR5TCEdnGZ"
      },
      "execution_count": null,
      "outputs": []
    },
    {
      "cell_type": "code",
      "source": [
        "return_Confusion_Matrix(ratings,sia_ratings_AJ)"
      ],
      "metadata": {
        "colab": {
          "base_uri": "https://localhost:8080/",
          "height": 532
        },
        "id": "exdC5AWTeTBi",
        "outputId": "fb902645-eb36-4361-b325-646a296a2e78"
      },
      "execution_count": null,
      "outputs": [
        {
          "output_type": "execute_result",
          "data": {
            "text/plain": [
              "array([[  86, 1000, 1192,  330,   30],\n",
              "       [  21,  577, 1150,  450,   35],\n",
              "       [   0,   12,   53,   32,    2],\n",
              "       [   0,   12,  106,  187,    9],\n",
              "       [   0,   24,  584, 2300,  355]])"
            ]
          },
          "metadata": {},
          "execution_count": 112
        },
        {
          "output_type": "display_data",
          "data": {
            "text/plain": [
              "<Figure size 720x504 with 2 Axes>"
            ],
            "image/png": "[encoded data removed]"
          },
          "metadata": {}
        }
      ]
    },
    {
      "cell_type": "code",
      "source": [
        "get_performance_metrics(ratings,sia_ratings_AJ)"
      ],
      "metadata": {
        "colab": {
          "base_uri": "https://localhost:8080/"
        },
        "id": "4PaLxdSKeUv-",
        "outputId": "a912333c-eca8-4cc4-aca7-fdc8bdc59d88"
      },
      "execution_count": null,
      "outputs": [
        {
          "output_type": "stream",
          "name": "stdout",
          "text": [
            "Accuracy: 0.15\n",
            "F1 Score : 0.18\n",
            "Precision : 0.66\n",
            "Recall Macro : 0.31\n",
            "Recall Micro : 0.15\n",
            "cohen_kappa_score : 0.06\n"
          ]
        }
      ]
    },
    {
      "cell_type": "markdown",
      "source": [
        "# Patterns Library"
      ],
      "metadata": {
        "id": "zNSzMqLbeZZt"
      }
    },
    {
      "cell_type": "code",
      "source": [
        "from pattern.en import parse\n",
        "from pattern.en import pprint"
      ],
      "metadata": {
        "id": "4PnJ95i1HHB8"
      },
      "execution_count": null,
      "outputs": []
    },
    {
      "cell_type": "code",
      "source": [
        "pprint(parse('Hello I am John, I work at the bank.', relations=True,Tokenize = True, lemmata=True))"
      ],
      "metadata": {
        "colab": {
          "base_uri": "https://localhost:8080/"
        },
        "id": "IXkaoiopHxiM",
        "outputId": "437ac814-2720-41dd-9e5f-7b30a44b0c55"
      },
      "execution_count": null,
      "outputs": [
        {
          "output_type": "stream",
          "name": "stdout",
          "text": [
            "          WORD   TAG    CHUNK   ROLE   ID     PNP    LEMMA   \n",
            "                                                             \n",
            "         Hello   UH     -       -      -      -      hello   \n",
            "             I   PRP    NP      SBJ    1      -      i       \n",
            "            am   VBP    VP      -      1      -      be      \n",
            "          John   NNP    NP      OBJ    1      -      john    \n",
            "             ,   ,      -       -      -      -      ,       \n",
            "             I   PRP    NP      SBJ    2      -      i       \n",
            "          work   VBP    VP      -      2      -      work    \n",
            "            at   IN     PP      -      -      PNP    at      \n",
            "           the   DT     NP      -      -      PNP    the     \n",
            "          bank   NN     NP ^    -      -      PNP    bank    \n",
            "             .   .      -       -      -      -      .       \n"
          ]
        }
      ]
    },
    {
      "cell_type": "markdown",
      "source": [
        "We can see that all the words have been tokenized and they have been identified. For example, “am” is tagged as a verb and its lemma is “be”. “Bank” is a noun and its lemma is unchanged, as “bank”. The role of “I” as a subject is also identified. The next “I” and “John” are objects. So, we can see that the parse function really does a great job at identifying the roles of all the tokens of a word."
      ],
      "metadata": {
        "id": "fpmEkLZ3At2G"
      }
    },
    {
      "cell_type": "code",
      "source": [
        "from pattern.en import sentiment as pattern_sentiment"
      ],
      "metadata": {
        "id": "N6TUitW_ItC2"
      },
      "execution_count": null,
      "outputs": []
    },
    {
      "cell_type": "markdown",
      "source": [
        "The function in Pattern returns polarity and the subjectivity of a given text.\n",
        "\n",
        "The Polarity result ranges from highly Positive to highly negative (1 to -1)\n",
        "\n",
        "The subjectivity ranges from 0(Objective) to 1(Subjective)."
      ],
      "metadata": {
        "id": "mQoexusY86Gj"
      }
    },
    {
      "cell_type": "code",
      "source": [
        "print(pattern_sentiment('this is my favorite place.'))"
      ],
      "metadata": {
        "colab": {
          "base_uri": "https://localhost:8080/"
        },
        "id": "SIZ4_ksDJJPb",
        "outputId": "829460b9-f601-471c-aab7-a294db48da65"
      },
      "execution_count": null,
      "outputs": [
        {
          "output_type": "stream",
          "name": "stdout",
          "text": [
            "(0.5, 1.0)\n"
          ]
        }
      ]
    },
    {
      "cell_type": "code",
      "source": [
        "print(pattern_sentiment('What a terrible place'))"
      ],
      "metadata": {
        "colab": {
          "base_uri": "https://localhost:8080/"
        },
        "id": "FHYRT86iifBC",
        "outputId": "0c4add00-31e4-49e5-c708-9654bdceed1a"
      },
      "execution_count": null,
      "outputs": [
        {
          "output_type": "stream",
          "name": "stdout",
          "text": [
            "(-1.0, 1.0)\n"
          ]
        }
      ]
    },
    {
      "cell_type": "code",
      "source": [
        "pattern_ratings = get_Model_Ratings(sentences,'pattern')"
      ],
      "metadata": {
        "id": "V3yZfeXohzu6"
      },
      "execution_count": null,
      "outputs": []
    },
    {
      "cell_type": "code",
      "source": [
        "return_Confusion_Matrix(ratings,pattern_ratings)"
      ],
      "metadata": {
        "colab": {
          "base_uri": "https://localhost:8080/",
          "height": 532
        },
        "id": "3e6XVcIUh3Nf",
        "outputId": "ffd14da3-9d89-4dd1-97d5-22fd2cb4bf59"
      },
      "execution_count": null,
      "outputs": [
        {
          "output_type": "execute_result",
          "data": {
            "text/plain": [
              "array([[ 642, 1350,  427,  105,  114],\n",
              "       [ 278, 1158,  483,  137,  177],\n",
              "       [   5,   59,   13,   10,   12],\n",
              "       [   7,   77,   57,   92,   81],\n",
              "       [  24,  442,  350,  591, 1856]])"
            ]
          },
          "metadata": {},
          "execution_count": 113
        },
        {
          "output_type": "display_data",
          "data": {
            "text/plain": [
              "<Figure size 720x504 with 2 Axes>"
            ],
            "image/png": "[encoded data removed]"
          },
          "metadata": {}
        }
      ]
    },
    {
      "cell_type": "code",
      "source": [
        "get_performance_metrics(ratings,pattern_ratings)"
      ],
      "metadata": {
        "colab": {
          "base_uri": "https://localhost:8080/"
        },
        "id": "fFWN_z3rh_Mb",
        "outputId": "9e8f6f02-99d3-40d3-bdae-276ea9f2a903"
      },
      "execution_count": null,
      "outputs": [
        {
          "output_type": "stream",
          "name": "stdout",
          "text": [
            "Accuracy: 0.44\n",
            "F1 Score : 0.49\n",
            "Precision : 0.63\n",
            "Recall Macro : 0.35\n",
            "Recall Micro : 0.44\n",
            "cohen_kappa_score : 0.27\n"
          ]
        }
      ]
    },
    {
      "cell_type": "code",
      "source": [
        "pattern_ratings_AJ = get_Model_Ratings_AJ(sentences,'pattern')"
      ],
      "metadata": {
        "id": "26FrXC_8iF6j"
      },
      "execution_count": null,
      "outputs": []
    },
    {
      "cell_type": "code",
      "source": [
        "return_Confusion_Matrix(ratings,pattern_ratings_AJ)"
      ],
      "metadata": {
        "colab": {
          "base_uri": "https://localhost:8080/",
          "height": 532
        },
        "id": "tnAWPXMXislT",
        "outputId": "8916a7ff-7df1-4246-90cc-f70ad8ac16db"
      },
      "execution_count": null,
      "outputs": [
        {
          "output_type": "execute_result",
          "data": {
            "text/plain": [
              "array([[ 204,  505, 1658,  254,   17],\n",
              "       [  41,  300, 1512,  353,   27],\n",
              "       [   2,    5,   70,   22,    0],\n",
              "       [   0,   10,  130,  159,   15],\n",
              "       [   1,   37,  688, 1694,  843]])"
            ]
          },
          "metadata": {},
          "execution_count": 114
        },
        {
          "output_type": "display_data",
          "data": {
            "text/plain": [
              "<Figure size 720x504 with 2 Axes>"
            ],
            "image/png": "[encoded data removed]"
          },
          "metadata": {}
        }
      ]
    },
    {
      "cell_type": "code",
      "source": [
        "get_performance_metrics(ratings,pattern_ratings_AJ)"
      ],
      "metadata": {
        "colab": {
          "base_uri": "https://localhost:8080/"
        },
        "id": "enj_Z3Vbiwmf",
        "outputId": "6563d1ad-59e3-4928-a412-32a441fc3935"
      },
      "execution_count": null,
      "outputs": [
        {
          "output_type": "stream",
          "name": "stdout",
          "text": [
            "Accuracy: 0.18\n",
            "F1 Score : 0.25\n",
            "Precision : 0.70\n",
            "Recall Macro : 0.34\n",
            "Recall Micro : 0.18\n",
            "cohen_kappa_score : 0.10\n"
          ]
        }
      ]
    },
    {
      "cell_type": "markdown",
      "source": [
        "# BERT\n",
        "\n",
        "* BERT (Bidirectional Encoder Representations from Transformers) is a top machine learning model used for NLP tasks, including sentiment analysis. Developed in 2018 by Google, the library was trained on English WIkipedia and BooksCorpus, and it proved to be one of the most accurate libraries for NLP tasks. \n",
        "\n",
        "Because BERT was trained on a large text corpus, it has a better ability to understand language and to learn variability in data patterns. \n",
        "\n",
        "Here are some of the main features of BERT: \n",
        "\n",
        "1. Easy to fine tune\n",
        "2. Wide range of NLP tasks, including sentiment analysis\n",
        "3. Trained on a large corpus of unlabeled text\n",
        "4. Deeply bidirectional model\n"
      ],
      "metadata": {
        "id": "vKc3rftvjbda"
      }
    },
    {
      "cell_type": "markdown",
      "source": [
        "# TextBlob\n",
        "\n",
        "TextBlob is another great choice for sentiment analysis. The simple Python library supports complex analysis and operations on textual data. For lexicon-based approaches, TextBlob defines a sentiment by its semantic orientation and the intensity of each word in a sentence, which requires a pre-defined dictionary classifying negative and positive words. The tool assigns individual scores to all the words, and a final sentiment is calculated. \n",
        "\n",
        "TextBlob returns polarity and subjectivity of a sentence, with a Polarity range of negative to positive. The library’s semantic labels help with analysis, including emoticons, exclamation marks, emojis, and more. \n",
        "\n",
        "Here are some of the main features of TextBlob: \n",
        "\n",
        "* Simple Python library\n",
        "* Supports complex analysis and operations on textual data\n",
        "* Assigns individual sentiment scores\n",
        "* Returns polarity and subjectivity of sentence"
      ],
      "metadata": {
        "id": "kNLk6ASqkjc0"
      }
    },
    {
      "cell_type": "code",
      "source": [
        "from textblob import TextBlob"
      ],
      "metadata": {
        "id": "TFTK8DR1k2PT"
      },
      "execution_count": null,
      "outputs": []
    },
    {
      "cell_type": "code",
      "source": [
        "text = '''\n",
        "The titular threat of The Blob has always struck me as the ultimate movie\n",
        "monster: an insatiably hungry, amoeba-like mass able to penetrate\n",
        "virtually any safeguard, capable of--as a doomed doctor chillingly\n",
        "describes it--\"assimilating flesh on contact.\n",
        "Snide comparisons to gelatin be damned, it's a concept with the most\n",
        "devastating of potential consequences, not unlike the grey goo scenario\n",
        "proposed by technological theorists fearful of\n",
        "artificial intelligence run rampant.\n",
        "'''"
      ],
      "metadata": {
        "id": "nktxgyXVlJz7"
      },
      "execution_count": null,
      "outputs": []
    },
    {
      "cell_type": "code",
      "source": [
        "blob = TextBlob(text)\n",
        "#blob.tags           # [('The', 'DT'), ('titular', 'JJ'),\n",
        "                    #  ('threat', 'NN'), ('of', 'IN'), ...]\n",
        "\n",
        "#blob.noun_phrases   # WordList(['titular threat', 'blob',\n",
        "                    #            'ultimate movie monster',\n",
        "                    #            'amoeba-like mass', ...])"
      ],
      "metadata": {
        "id": "dSQfiKoBlDnf"
      },
      "execution_count": null,
      "outputs": []
    },
    {
      "cell_type": "code",
      "source": [
        "for sentence in blob.sentences:\n",
        "    print(round(sentence.sentiment.polarity,2))"
      ],
      "metadata": {
        "colab": {
          "base_uri": "https://localhost:8080/"
        },
        "id": "EAaIA-IQk-dS",
        "outputId": "1cd3bd8c-ef17-4ba4-8476-c134fc521abe"
      },
      "execution_count": null,
      "outputs": [
        {
          "output_type": "stream",
          "name": "stdout",
          "text": [
            "0.06\n",
            "-0.34\n"
          ]
        }
      ]
    },
    {
      "cell_type": "code",
      "source": [
        "blob_ratings = get_Model_Ratings(sentences,'blob')"
      ],
      "metadata": {
        "id": "nTGXepG6lpie"
      },
      "execution_count": null,
      "outputs": []
    },
    {
      "cell_type": "code",
      "source": [
        "return_Confusion_Matrix(ratings,blob_ratings)"
      ],
      "metadata": {
        "colab": {
          "base_uri": "https://localhost:8080/",
          "height": 532
        },
        "id": "0_EmWyUSnfsR",
        "outputId": "1cb75d2f-578b-48db-8972-dd06c8f12ba0"
      },
      "execution_count": null,
      "outputs": [
        {
          "output_type": "execute_result",
          "data": {
            "text/plain": [
              "array([[ 645, 1346,  420,  109,  118],\n",
              "       [ 278, 1146,  482,  146,  181],\n",
              "       [   5,   59,   13,   10,   12],\n",
              "       [   7,   77,   57,   90,   83],\n",
              "       [  24,  442,  348,  592, 1857]])"
            ]
          },
          "metadata": {},
          "execution_count": 117
        },
        {
          "output_type": "display_data",
          "data": {
            "text/plain": [
              "<Figure size 720x504 with 2 Axes>"
            ],
            "image/png": "[encoded data removed]"
          },
          "metadata": {}
        }
      ]
    },
    {
      "cell_type": "code",
      "source": [
        "get_performance_metrics(ratings,blob_ratings)"
      ],
      "metadata": {
        "colab": {
          "base_uri": "https://localhost:8080/"
        },
        "id": "ysvseMzOnicx",
        "outputId": "134e4dd1-0bdd-4e52-e06b-804bce44b101"
      },
      "execution_count": null,
      "outputs": [
        {
          "output_type": "stream",
          "name": "stdout",
          "text": [
            "Accuracy: 0.44\n",
            "F1 Score : 0.49\n",
            "Precision : 0.62\n",
            "Recall Macro : 0.35\n",
            "Recall Micro : 0.44\n",
            "cohen_kappa_score : 0.27\n"
          ]
        }
      ]
    },
    {
      "cell_type": "code",
      "source": [
        "blob_ratings_AJ = get_Model_Ratings_AJ(sentences,'blob')"
      ],
      "metadata": {
        "id": "OjQDJoh_nn5g"
      },
      "execution_count": null,
      "outputs": []
    },
    {
      "cell_type": "code",
      "source": [
        "return_Confusion_Matrix(ratings,blob_ratings_AJ)"
      ],
      "metadata": {
        "colab": {
          "base_uri": "https://localhost:8080/",
          "height": 532
        },
        "id": "SR-1JdtknqAu",
        "outputId": "8110ecb3-19e1-42b6-ea0a-c1c47507519f"
      },
      "execution_count": null,
      "outputs": [
        {
          "output_type": "execute_result",
          "data": {
            "text/plain": [
              "array([[ 204,  501, 1653,  262,   18],\n",
              "       [  41,  300, 1496,  369,   27],\n",
              "       [   2,    5,   70,   22,    0],\n",
              "       [   0,   10,  130,  159,   15],\n",
              "       [   1,   37,  686, 1696,  843]])"
            ]
          },
          "metadata": {},
          "execution_count": 116
        },
        {
          "output_type": "display_data",
          "data": {
            "text/plain": [
              "<Figure size 720x504 with 2 Axes>"
            ],
            "image/png": "[encoded data removed]"
          },
          "metadata": {}
        }
      ]
    },
    {
      "cell_type": "code",
      "source": [
        "get_performance_metrics(ratings,blob_ratings_AJ)"
      ],
      "metadata": {
        "colab": {
          "base_uri": "https://localhost:8080/"
        },
        "id": "TzununlNnryM",
        "outputId": "1342b5e7-0090-45c4-83f4-f6516cbc0156"
      },
      "execution_count": null,
      "outputs": [
        {
          "output_type": "stream",
          "name": "stdout",
          "text": [
            "Accuracy: 0.18\n",
            "F1 Score : 0.25\n",
            "Precision : 0.70\n",
            "Recall Macro : 0.34\n",
            "Recall Micro : 0.18\n",
            "cohen_kappa_score : 0.10\n"
          ]
        }
      ]
    },
    {
      "cell_type": "markdown",
      "source": [
        "# Transformers\n",
        "\n",
        "\n",
        "\n",
        "## DistilBERT"
      ],
      "metadata": {
        "id": "Wy3h3_Q2nxNL"
      }
    },
    {
      "cell_type": "code",
      "source": [
        "import torch\n",
        "from transformers import AutoTokenizer, AutoModelForSequenceClassification\n",
        "from scipy.special import softmax"
      ],
      "metadata": {
        "id": "mVLdfeFBucZn"
      },
      "execution_count": null,
      "outputs": []
    },
    {
      "cell_type": "code",
      "source": [
        "from transformers import pipeline"
      ],
      "metadata": {
        "id": "0qp-3b3vy_7g"
      },
      "execution_count": null,
      "outputs": []
    },
    {
      "cell_type": "code",
      "source": [
        "model_path = 'distilbert-base-uncased-finetuned-sst-2-english'\n",
        "sentimentAnalysis_pipeline_distilbert = pipeline(\"sentiment-analysis\",model = model_path, tokenizer = model_path)"
      ],
      "metadata": {
        "id": "20Tqcar6zDPi"
      },
      "execution_count": null,
      "outputs": []
    },
    {
      "cell_type": "code",
      "source": [
        "# The pipe line also loads the same models listed below :\n",
        "# Load the pre-trained tokenizer and model : using default distilbert by google : https://huggingface.co/distilbert-base-uncased-finetuned-sst-2-english\n",
        "#tokenizer = AutoTokenizer.from_pretrained(\"distilbert-base-uncased-finetuned-sst-2-english\")\n",
        "#model = AutoModelForSequenceClassification.from_pretrained(\"distilbert-base-uncased-finetuned-sst-2-english\")\n",
        "\n",
        "# Trained in Stanford Sentiment Treebank Corpus (SST-2) : Manually tagged binary sentiment classifier , trained mostly using movie reviews. 91.3 % accuracy. 92% normal Bert"
      ],
      "metadata": {
        "id": "sVqPsYYsufwb"
      },
      "execution_count": null,
      "outputs": []
    },
    {
      "cell_type": "markdown",
      "source": [
        "## Limitations \n",
        "\n",
        "The model could produce biased predictions that target underrepresented populations.\n",
        "\n",
        "For instance, for sentences like \"This film was filmed in COUNTRY\" , the  classification model will give radically different probabilities for the positive label depending on the country (0.89 if the country is France, but 0.08 if the country is Afghanistan) when nothing in the input indicates such a strong semantic shift.\n",
        "\n",
        "Map of positive probabilities per country. : https://huggingface.co/distilbert-base-uncased-finetuned-sst-2-english/resolve/main/map.jpeg\n",
        "\n",
        "We need to thoroughly probe these aspects on their use-cases in order to evaluate the risks of this model. \n",
        "\n",
        "We can look into the following bias evaluation datasets as a place to start: \n",
        "\n",
        "WinoBias, WinoGender, Stereoset."
      ],
      "metadata": {
        "id": "h0TiyZMO1Xie"
      }
    },
    {
      "cell_type": "code",
      "source": [
        "# Testing \n",
        "sentence = \"I am neutral\"\n",
        "sentiment = sentimentAnalysis_pipeline_distilbert(sentence)\n",
        "\n",
        "print(sentiment)\n",
        "\n",
        "# haha"
      ],
      "metadata": {
        "colab": {
          "base_uri": "https://localhost:8080/"
        },
        "id": "3z9_Fotl9in_",
        "outputId": "5e3dbab8-203e-4e16-82c5-9171570181fe"
      },
      "execution_count": null,
      "outputs": [
        {
          "output_type": "stream",
          "name": "stdout",
          "text": [
            "[{'label': 'NEGATIVE', 'score': 0.9988877177238464}]\n"
          ]
        }
      ]
    },
    {
      "cell_type": "code",
      "source": [
        "# Define the input sentence\n",
        "sentence = \"we took to toddlers who jumped and shouted with excitement throughout  the entire place nice job\"\n",
        "sentiment = sentimentAnalysis_pipeline_distilbert(sentence)\n",
        "\n",
        "print(sentiment)\n",
        "scores = sentiment[0].detach().numpy()\n",
        "\n",
        "scores = softmax(scores)"
      ],
      "metadata": {
        "colab": {
          "base_uri": "https://localhost:8080/",
          "height": 252
        },
        "id": "QdE3JdXIvVwr",
        "outputId": "bade60a7-db42-4d65-fcbf-f3cf190bc894"
      },
      "execution_count": null,
      "outputs": [
        {
          "output_type": "stream",
          "name": "stdout",
          "text": [
            "[{'label': 'POSITIVE', 'score': 0.9997140765190125}]\n"
          ]
        },
        {
          "output_type": "error",
          "ename": "AttributeError",
          "evalue": "ignored",
          "traceback": [
            "\u001b[0;31m---------------------------------------------------------------------------\u001b[0m",
            "\u001b[0;31mAttributeError\u001b[0m                            Traceback (most recent call last)",
            "\u001b[0;32m<ipython-input-177-c36081628abe>\u001b[0m in \u001b[0;36m<module>\u001b[0;34m\u001b[0m\n\u001b[1;32m      4\u001b[0m \u001b[0;34m\u001b[0m\u001b[0m\n\u001b[1;32m      5\u001b[0m \u001b[0mprint\u001b[0m\u001b[0;34m(\u001b[0m\u001b[0msentiment\u001b[0m\u001b[0;34m)\u001b[0m\u001b[0;34m\u001b[0m\u001b[0;34m\u001b[0m\u001b[0m\n\u001b[0;32m----> 6\u001b[0;31m \u001b[0mscores\u001b[0m \u001b[0;34m=\u001b[0m \u001b[0msentiment\u001b[0m\u001b[0;34m[\u001b[0m\u001b[0;36m0\u001b[0m\u001b[0;34m]\u001b[0m\u001b[0;34m.\u001b[0m\u001b[0mdetach\u001b[0m\u001b[0;34m(\u001b[0m\u001b[0;34m)\u001b[0m\u001b[0;34m.\u001b[0m\u001b[0mnumpy\u001b[0m\u001b[0;34m(\u001b[0m\u001b[0;34m)\u001b[0m\u001b[0;34m\u001b[0m\u001b[0;34m\u001b[0m\u001b[0m\n\u001b[0m\u001b[1;32m      7\u001b[0m \u001b[0;34m\u001b[0m\u001b[0m\n\u001b[1;32m      8\u001b[0m \u001b[0mscores\u001b[0m \u001b[0;34m=\u001b[0m \u001b[0msoftmax\u001b[0m\u001b[0;34m(\u001b[0m\u001b[0mscores\u001b[0m\u001b[0;34m)\u001b[0m\u001b[0;34m\u001b[0m\u001b[0;34m\u001b[0m\u001b[0m\n",
            "\u001b[0;31mAttributeError\u001b[0m: 'dict' object has no attribute 'detach'"
          ]
        }
      ]
    },
    {
      "cell_type": "code",
      "source": [
        "scores = sentiment[0]\n",
        "scores"
      ],
      "metadata": {
        "colab": {
          "base_uri": "https://localhost:8080/"
        },
        "id": "ZAg6jmjJxMiC",
        "outputId": "e3e469e6-d105-48c8-88db-827d992ff325"
      },
      "execution_count": null,
      "outputs": [
        {
          "output_type": "execute_result",
          "data": {
            "text/plain": [
              "{'label': 'POSITIVE', 'score': 0.9997140765190125}"
            ]
          },
          "metadata": {},
          "execution_count": 175
        }
      ]
    },
    {
      "cell_type": "markdown",
      "source": [
        "## RoBERTa\n",
        "\n",
        "Reference : https://huggingface.co/cardiffnlp/twitter-roberta-base-sentiment-latest"
      ],
      "metadata": {
        "id": "J5ERAv6b80co"
      }
    },
    {
      "cell_type": "code",
      "source": [
        "# Using Roberta\n",
        "model_path = 'cardiffnlp/twitter-roberta-base-sentiment-latest'\n",
        "sentimentAnalysis_pipeline_roberta = pipeline(\"sentiment-analysis\",model = model_path, tokenizer = model_path)"
      ],
      "metadata": {
        "colab": {
          "base_uri": "https://localhost:8080/"
        },
        "id": "THCmdKE3xjWM",
        "outputId": "f7c24fc6-966c-46ff-c6e3-68780c6cdcc0"
      },
      "execution_count": null,
      "outputs": [
        {
          "output_type": "stream",
          "name": "stderr",
          "text": [
            "Some weights of the model checkpoint at cardiffnlp/twitter-roberta-base-sentiment-latest were not used when initializing RobertaForSequenceClassification: ['roberta.pooler.dense.bias', 'roberta.pooler.dense.weight']\n",
            "- This IS expected if you are initializing RobertaForSequenceClassification from the checkpoint of a model trained on another task or with another architecture (e.g. initializing a BertForSequenceClassification model from a BertForPreTraining model).\n",
            "- This IS NOT expected if you are initializing RobertaForSequenceClassification from the checkpoint of a model that you expect to be exactly identical (initializing a BertForSequenceClassification model from a BertForSequenceClassification model).\n"
          ]
        }
      ]
    },
    {
      "cell_type": "code",
      "source": [
        "sentence = \"we took to toddlers who jumped and shouted with excitement throughout  the entire place nice job\"\n",
        "sentiment = sentimentAnalysis_pipeline_roberta(sentence)\n",
        "\n",
        "print(sentiment)"
      ],
      "metadata": {
        "colab": {
          "base_uri": "https://localhost:8080/"
        },
        "id": "gNceJky77nDB",
        "outputId": "76c00649-8f91-41b0-8de3-a01a7d087be5"
      },
      "execution_count": null,
      "outputs": [
        {
          "output_type": "stream",
          "name": "stdout",
          "text": [
            "[{'label': 'positive', 'score': 0.9838672876358032}]\n"
          ]
        }
      ]
    },
    {
      "cell_type": "code",
      "source": [
        "# Testing \n",
        "sentence = \"I am neutral\"\n",
        "sentiment = sentimentAnalysis_pipeline_roberta(sentence)\n",
        "\n",
        "print(sentiment)"
      ],
      "metadata": {
        "colab": {
          "base_uri": "https://localhost:8080/"
        },
        "id": "nydauA-l8tZ2",
        "outputId": "44b27900-65d0-4e53-e8ec-f71a3d96754b"
      },
      "execution_count": null,
      "outputs": [
        {
          "output_type": "stream",
          "name": "stdout",
          "text": [
            "[{'label': 'neutral', 'score': 0.7572426199913025}]\n"
          ]
        }
      ]
    },
    {
      "cell_type": "markdown",
      "source": [
        "# sbcBI/sentiment_analysis"
      ],
      "metadata": {
        "id": "vwlgUHVW9qbU"
      }
    },
    {
      "cell_type": "code",
      "source": [
        "model_path = 'sbcBI/sentiment_analysis'\n",
        "sentimentAnalysis_pipeline_sbcBI = pipeline(\"sentiment-analysis\",model = model_path, tokenizer = model_path)"
      ],
      "metadata": {
        "id": "MjtrPzNlAZbM"
      },
      "execution_count": null,
      "outputs": []
    },
    {
      "cell_type": "code",
      "source": [
        "# Testing \n",
        "sentence = \"I am neutral\"\n",
        "sentiment = sentimentAnalysis_pipeline_sbcBI(sentence)\n",
        "\n",
        "print(sentiment)\n",
        "\n",
        "# haha"
      ],
      "metadata": {
        "colab": {
          "base_uri": "https://localhost:8080/"
        },
        "id": "DpjrEzyqAghp",
        "outputId": "4602faea-d115-486e-8d5e-e9733b7fa248"
      },
      "execution_count": null,
      "outputs": [
        {
          "output_type": "stream",
          "name": "stdout",
          "text": [
            "[{'label': 'LABEL_2', 'score': 0.7955884337425232}]\n"
          ]
        }
      ]
    },
    {
      "cell_type": "markdown",
      "source": [
        "# Bert base \n",
        "fabriceyhc/bert-base-uncased-amazon_polarity\n",
        "\n",
        "reference : https://huggingface.co/fabriceyhc/bert-base-uncased-amazon_polarity"
      ],
      "metadata": {
        "id": "MfuVvPKmBaNy"
      }
    },
    {
      "cell_type": "code",
      "source": [
        "model_path = 'fabriceyhc/bert-base-uncased-amazon_polarity'\n",
        "sentimentAnalysis_pipeline_bertbase = pipeline(\"sentiment-analysis\",model = model_path, tokenizer = model_path)"
      ],
      "metadata": {
        "id": "jmU5778fBckq"
      },
      "execution_count": null,
      "outputs": []
    },
    {
      "cell_type": "code",
      "source": [
        "# Testing \n",
        "sentence = \"I am neutral\"\n",
        "sentiment = sentimentAnalysis_pipeline_bertbase(sentence)\n",
        "\n",
        "print(sentiment)"
      ],
      "metadata": {
        "colab": {
          "base_uri": "https://localhost:8080/"
        },
        "id": "rnlt-xLxBwd_",
        "outputId": "00c9d0c3-d736-4c2c-88f5-2e07b775ad5c"
      },
      "execution_count": null,
      "outputs": [
        {
          "output_type": "stream",
          "name": "stdout",
          "text": [
            "[{'label': 'negative', 'score': 0.9948274493217468}]\n"
          ]
        }
      ]
    },
    {
      "cell_type": "code",
      "source": [
        "# Import libraries\n",
        "import pandas as pd\n",
        "from sklearn.model_selection import GridSearchCV\n",
        "from sklearn.metrics import accuracy_score\n",
        "#from vaderSentiment.vaderSentiment import SentimentIntensityAnalyzer\n",
        "\n",
        "# Define a custom estimator that wraps around SentimentIntensityAnalyzer\n",
        "class VaderSentimentEstimator:\n",
        "\n",
        "  def __init__(self, lexicon=None, threshold=0):\n",
        "    # Initialize the sentiment analyzer with a custom lexicon if given\n",
        "    if lexicon:\n",
        "      self.sia = SentimentIntensityAnalyzer(lexicon_file=lexicon)\n",
        "    else:\n",
        "      self.sia = SentimentIntensityAnalyzer()\n",
        "    # Set the threshold for classifying the sentiment\n",
        "    self.threshold = threshold\n",
        "  \n",
        "  def fit(self, X, y):\n",
        "    # No training is needed, just return self\n",
        "    return self\n",
        "  \n",
        "  def predict(self, X):\n",
        "    # Predict the sentiment labels based on the compound score and the threshold\n",
        "    y_pred = []\n",
        "    for text in X:\n",
        "      score = self.sia.polarity_scores(text)[\"compound\"]\n",
        "      if score > self.threshold:\n",
        "        y_pred.append(\"positive\")\n",
        "      elif score < -self.threshold:\n",
        "        y_pred.append(\"negative\")\n",
        "      else:\n",
        "        y_pred.append(\"neutral\")\n",
        "    return y_pred\n",
        "\n",
        "# Load some sample data (tweets.csv)\n",
        "#df = pd.read_csv(\"tweets.csv\")\n",
        "X = sentences\n",
        "y = ratings\n",
        "\n",
        "# Define the parameter grid for grid search\n",
        "param_grid = {\n",
        "  \"lexicon\": [None, \"custom_lexicon.txt\"], # Try with and without a custom lexicon\n",
        "  \"threshold\": [0, 0.05, 0.1, 0.2] # Try different thresholds for classifying the sentiment\n",
        "}\n",
        "\n",
        "# Create a grid search object with VaderSentimentEstimator and accuracy as the scoring function\n",
        "grid_search = GridSearchCV(VaderSentimentEstimator(), param_grid, scoring=\"accuracy\", cv=5)\n",
        "\n",
        "# Fit the grid search on the data\n",
        "grid_search.fit(X, y)\n",
        "\n",
        "# Print the best parameters and score\n",
        "print(\"Best parameters:\", grid_search.best_params_)\n",
        "print(\"Best score:\", grid_search.best_score_)\n",
        "\n",
        "# Predict on new data using the best estimator\n",
        "X_new = [\"I love this airline\", \"I hate this airline\", \"This airline is okay\"]\n",
        "y_new = grid_search.best_estimator_.predict(X_new)\n",
        "print(\"New predictions:\", y_new)"
      ],
      "metadata": {
        "colab": {
          "base_uri": "https://localhost:8080/",
          "height": 397
        },
        "id": "3GEWXfuxW7FG",
        "outputId": "047ae1f4-d0c4-45ef-de60-e36e566f4838"
      },
      "execution_count": null,
      "outputs": [
        {
          "output_type": "error",
          "ename": "TypeError",
          "evalue": "ignored",
          "traceback": [
            "\u001b[0;31m---------------------------------------------------------------------------\u001b[0m",
            "\u001b[0;31mTypeError\u001b[0m                                 Traceback (most recent call last)",
            "\u001b[0;32m<ipython-input-11-b9bd665df82d>\u001b[0m in \u001b[0;36m<module>\u001b[0;34m\u001b[0m\n\u001b[1;32m     49\u001b[0m \u001b[0;34m\u001b[0m\u001b[0m\n\u001b[1;32m     50\u001b[0m \u001b[0;31m# Fit the grid search on the data\u001b[0m\u001b[0;34m\u001b[0m\u001b[0;34m\u001b[0m\u001b[0m\n\u001b[0;32m---> 51\u001b[0;31m \u001b[0mgrid_search\u001b[0m\u001b[0;34m.\u001b[0m\u001b[0mfit\u001b[0m\u001b[0;34m(\u001b[0m\u001b[0mX\u001b[0m\u001b[0;34m,\u001b[0m \u001b[0my\u001b[0m\u001b[0;34m)\u001b[0m\u001b[0;34m\u001b[0m\u001b[0;34m\u001b[0m\u001b[0m\n\u001b[0m\u001b[1;32m     52\u001b[0m \u001b[0;34m\u001b[0m\u001b[0m\n\u001b[1;32m     53\u001b[0m \u001b[0;31m# Print the best parameters and score\u001b[0m\u001b[0;34m\u001b[0m\u001b[0;34m\u001b[0m\u001b[0m\n",
            "\u001b[0;32m/usr/local/lib/python3.9/dist-packages/sklearn/model_selection/_search.py\u001b[0m in \u001b[0;36mfit\u001b[0;34m(self, X, y, groups, **fit_params)\u001b[0m\n\u001b[1;32m    786\u001b[0m         \u001b[0mn_splits\u001b[0m \u001b[0;34m=\u001b[0m \u001b[0mcv_orig\u001b[0m\u001b[0;34m.\u001b[0m\u001b[0mget_n_splits\u001b[0m\u001b[0;34m(\u001b[0m\u001b[0mX\u001b[0m\u001b[0;34m,\u001b[0m \u001b[0my\u001b[0m\u001b[0;34m,\u001b[0m \u001b[0mgroups\u001b[0m\u001b[0;34m)\u001b[0m\u001b[0;34m\u001b[0m\u001b[0;34m\u001b[0m\u001b[0m\n\u001b[1;32m    787\u001b[0m \u001b[0;34m\u001b[0m\u001b[0m\n\u001b[0;32m--> 788\u001b[0;31m         \u001b[0mbase_estimator\u001b[0m \u001b[0;34m=\u001b[0m \u001b[0mclone\u001b[0m\u001b[0;34m(\u001b[0m\u001b[0mself\u001b[0m\u001b[0;34m.\u001b[0m\u001b[0mestimator\u001b[0m\u001b[0;34m)\u001b[0m\u001b[0;34m\u001b[0m\u001b[0;34m\u001b[0m\u001b[0m\n\u001b[0m\u001b[1;32m    789\u001b[0m \u001b[0;34m\u001b[0m\u001b[0m\n\u001b[1;32m    790\u001b[0m         \u001b[0mparallel\u001b[0m \u001b[0;34m=\u001b[0m \u001b[0mParallel\u001b[0m\u001b[0;34m(\u001b[0m\u001b[0mn_jobs\u001b[0m\u001b[0;34m=\u001b[0m\u001b[0mself\u001b[0m\u001b[0;34m.\u001b[0m\u001b[0mn_jobs\u001b[0m\u001b[0;34m,\u001b[0m \u001b[0mpre_dispatch\u001b[0m\u001b[0;34m=\u001b[0m\u001b[0mself\u001b[0m\u001b[0;34m.\u001b[0m\u001b[0mpre_dispatch\u001b[0m\u001b[0;34m)\u001b[0m\u001b[0;34m\u001b[0m\u001b[0;34m\u001b[0m\u001b[0m\n",
            "\u001b[0;32m/usr/local/lib/python3.9/dist-packages/sklearn/base.py\u001b[0m in \u001b[0;36mclone\u001b[0;34m(estimator, safe)\u001b[0m\n\u001b[1;32m     77\u001b[0m                 )\n\u001b[1;32m     78\u001b[0m             \u001b[0;32melse\u001b[0m\u001b[0;34m:\u001b[0m\u001b[0;34m\u001b[0m\u001b[0;34m\u001b[0m\u001b[0m\n\u001b[0;32m---> 79\u001b[0;31m                 raise TypeError(\n\u001b[0m\u001b[1;32m     80\u001b[0m                     \u001b[0;34m\"Cannot clone object '%s' (type %s): \"\u001b[0m\u001b[0;34m\u001b[0m\u001b[0;34m\u001b[0m\u001b[0m\n\u001b[1;32m     81\u001b[0m                     \u001b[0;34m\"it does not seem to be a scikit-learn \"\u001b[0m\u001b[0;34m\u001b[0m\u001b[0;34m\u001b[0m\u001b[0m\n",
            "\u001b[0;31mTypeError\u001b[0m: Cannot clone object '<__main__.VaderSentimentEstimator object at 0x7f8dd8d9e6a0>' (type <class '__main__.VaderSentimentEstimator'>): it does not seem to be a scikit-learn estimator as it does not implement a 'get_params' method."
          ]
        }
      ]
    }
  ]
}