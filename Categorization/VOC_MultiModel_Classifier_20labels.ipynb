{
  "nbformat": 4,
  "nbformat_minor": 0,
  "metadata": {
    "colab": {
      "provenance": []
    },
    "kernelspec": {
      "name": "python3",
      "display_name": "Python 3"
    },
    "language_info": {
      "name": "python"
    }
  },
  "cells": [
    {
      "cell_type": "markdown",
      "source": [
        "https://medium.com/"
      ],
      "metadata": {
        "id": "kVGx_gKoLptf"
      }
    },
    {
      "cell_type": "code",
      "source": [
        "!pip install tabulate"
      ],
      "metadata": {
        "colab": {
          "base_uri": "https://localhost:8080/"
        },
        "id": "PrqD0i9oRb-5",
        "outputId": "e0c6dcdf-654a-48f6-a332-d77a9275abf9"
      },
      "execution_count": null,
      "outputs": [
        {
          "output_type": "stream",
          "name": "stdout",
          "text": [
            "Requirement already satisfied: tabulate in /usr/local/lib/python3.10/dist-packages (0.8.10)\n"
          ]
        }
      ]
    },
    {
      "cell_type": "code",
      "source": [
        "!pip install scikit-multilearn"
      ],
      "metadata": {
        "colab": {
          "base_uri": "https://localhost:8080/"
        },
        "id": "31cPHFi6L1U9",
        "outputId": "80af4c34-fd50-444c-aeca-c2b1d681f4e5"
      },
      "execution_count": null,
      "outputs": [
        {
          "output_type": "stream",
          "name": "stdout",
          "text": [
            "Collecting scikit-multilearn\n",
            "  Downloading scikit_multilearn-0.2.0-py3-none-any.whl (89 kB)\n",
            "\u001b[?25l     \u001b[90m━━━━━━━━━━━━━━━━━━━━━━━━━━━━━━━━━━━━━━━━\u001b[0m \u001b[32m0.0/89.4 kB\u001b[0m \u001b[31m?\u001b[0m eta \u001b[36m-:--:--\u001b[0m\r\u001b[2K     \u001b[91m━━━━━━━━━━━━━━━━━━━━━━━━━━━━━━━━━━━━\u001b[0m\u001b[91m╸\u001b[0m\u001b[90m━━━\u001b[0m \u001b[32m81.9/89.4 kB\u001b[0m \u001b[31m3.8 MB/s\u001b[0m eta \u001b[36m0:00:01\u001b[0m\r\u001b[2K     \u001b[90m━━━━━━━━━━━━━━━━━━━━━━━━━━━━━━━━━━━━━━━━\u001b[0m \u001b[32m89.4/89.4 kB\u001b[0m \u001b[31m1.5 MB/s\u001b[0m eta \u001b[36m0:00:00\u001b[0m\n",
            "\u001b[?25hInstalling collected packages: scikit-multilearn\n",
            "Successfully installed scikit-multilearn-0.2.0\n"
          ]
        }
      ]
    },
    {
      "cell_type": "code",
      "source": [
        "!pip install umap-learn"
      ],
      "metadata": {
        "colab": {
          "base_uri": "https://localhost:8080/"
        },
        "id": "QtZId_pHKv6I",
        "outputId": "94d3cfdd-7a3d-496f-b939-e0655d75b152"
      },
      "execution_count": null,
      "outputs": [
        {
          "output_type": "stream",
          "name": "stdout",
          "text": [
            "Collecting umap-learn\n",
            "  Downloading umap-learn-0.5.3.tar.gz (88 kB)\n",
            "\u001b[2K     \u001b[90m━━━━━━━━━━━━━━━━━━━━━━━━━━━━━━━━━━━━━━━━\u001b[0m \u001b[32m88.2/88.2 kB\u001b[0m \u001b[31m3.3 MB/s\u001b[0m eta \u001b[36m0:00:00\u001b[0m\n",
            "\u001b[?25h  Preparing metadata (setup.py) ... \u001b[?25l\u001b[?25hdone\n",
            "Requirement already satisfied: numpy>=1.17 in /usr/local/lib/python3.10/dist-packages (from umap-learn) (1.22.4)\n",
            "Requirement already satisfied: scikit-learn>=0.22 in /usr/local/lib/python3.10/dist-packages (from umap-learn) (1.2.2)\n",
            "Requirement already satisfied: scipy>=1.0 in /usr/local/lib/python3.10/dist-packages (from umap-learn) (1.10.1)\n",
            "Requirement already satisfied: numba>=0.49 in /usr/local/lib/python3.10/dist-packages (from umap-learn) (0.56.4)\n",
            "Collecting pynndescent>=0.5 (from umap-learn)\n",
            "  Downloading pynndescent-0.5.10.tar.gz (1.1 MB)\n",
            "\u001b[2K     \u001b[90m━━━━━━━━━━━━━━━━━━━━━━━━━━━━━━━━━━━━━━━━\u001b[0m \u001b[32m1.1/1.1 MB\u001b[0m \u001b[31m21.8 MB/s\u001b[0m eta \u001b[36m0:00:00\u001b[0m\n",
            "\u001b[?25h  Preparing metadata (setup.py) ... \u001b[?25l\u001b[?25hdone\n",
            "Requirement already satisfied: tqdm in /usr/local/lib/python3.10/dist-packages (from umap-learn) (4.65.0)\n",
            "Requirement already satisfied: llvmlite<0.40,>=0.39.0dev0 in /usr/local/lib/python3.10/dist-packages (from numba>=0.49->umap-learn) (0.39.1)\n",
            "Requirement already satisfied: setuptools in /usr/local/lib/python3.10/dist-packages (from numba>=0.49->umap-learn) (67.7.2)\n",
            "Requirement already satisfied: joblib>=0.11 in /usr/local/lib/python3.10/dist-packages (from pynndescent>=0.5->umap-learn) (1.2.0)\n",
            "Requirement already satisfied: threadpoolctl>=2.0.0 in /usr/local/lib/python3.10/dist-packages (from scikit-learn>=0.22->umap-learn) (3.1.0)\n",
            "Building wheels for collected packages: umap-learn, pynndescent\n",
            "  Building wheel for umap-learn (setup.py) ... \u001b[?25l\u001b[?25hdone\n",
            "  Created wheel for umap-learn: filename=umap_learn-0.5.3-py3-none-any.whl size=82816 sha256=76d6e3b48db0e2f1b71d0bb4587294219ff5bf81274e1c3a3784dc89ab0b75a8\n",
            "  Stored in directory: /root/.cache/pip/wheels/a0/e8/c6/a37ea663620bd5200ea1ba0907ab3c217042c1d035ef606acc\n",
            "  Building wheel for pynndescent (setup.py) ... \u001b[?25l\u001b[?25hdone\n",
            "  Created wheel for pynndescent: filename=pynndescent-0.5.10-py3-none-any.whl size=55622 sha256=ae443e7b6f927d5fa6427dc3d5c0c5e430df00cf058437aead443f01a44629bd\n",
            "  Stored in directory: /root/.cache/pip/wheels/4a/38/5d/f60a40a66a9512b7e5e83517ebc2d1b42d857be97d135f1096\n",
            "Successfully built umap-learn pynndescent\n",
            "Installing collected packages: pynndescent, umap-learn\n",
            "Successfully installed pynndescent-0.5.10 umap-learn-0.5.3\n"
          ]
        }
      ]
    },
    {
      "cell_type": "code",
      "source": [
        "!pip install contractions"
      ],
      "metadata": {
        "colab": {
          "base_uri": "https://localhost:8080/"
        },
        "id": "0vsp_kXkG62s",
        "outputId": "badbeeea-1fb9-4cf3-cd42-9f370b9dbf92"
      },
      "execution_count": null,
      "outputs": [
        {
          "output_type": "stream",
          "name": "stdout",
          "text": [
            "Collecting contractions\n",
            "  Downloading contractions-0.1.73-py2.py3-none-any.whl (8.7 kB)\n",
            "Collecting textsearch>=0.0.21 (from contractions)\n",
            "  Downloading textsearch-0.0.24-py2.py3-none-any.whl (7.6 kB)\n",
            "Collecting anyascii (from textsearch>=0.0.21->contractions)\n",
            "  Downloading anyascii-0.3.2-py3-none-any.whl (289 kB)\n",
            "\u001b[2K     \u001b[90m━━━━━━━━━━━━━━━━━━━━━━━━━━━━━━━━━━━━━━━\u001b[0m \u001b[32m289.9/289.9 kB\u001b[0m \u001b[31m5.9 MB/s\u001b[0m eta \u001b[36m0:00:00\u001b[0m\n",
            "\u001b[?25hCollecting pyahocorasick (from textsearch>=0.0.21->contractions)\n",
            "  Downloading pyahocorasick-2.0.0-cp310-cp310-manylinux_2_5_x86_64.manylinux1_x86_64.manylinux_2_12_x86_64.manylinux2010_x86_64.whl (110 kB)\n",
            "\u001b[2K     \u001b[90m━━━━━━━━━━━━━━━━━━━━━━━━━━━━━━━━━━━━━━━\u001b[0m \u001b[32m110.8/110.8 kB\u001b[0m \u001b[31m6.8 MB/s\u001b[0m eta \u001b[36m0:00:00\u001b[0m\n",
            "\u001b[?25hInstalling collected packages: pyahocorasick, anyascii, textsearch, contractions\n",
            "Successfully installed anyascii-0.3.2 contractions-0.1.73 pyahocorasick-2.0.0 textsearch-0.0.24\n"
          ]
        }
      ]
    },
    {
      "cell_type": "code",
      "source": [
        "!pip install pyspellchecker"
      ],
      "metadata": {
        "colab": {
          "base_uri": "https://localhost:8080/"
        },
        "id": "IzW2LrVFHHhL",
        "outputId": "f826dcc7-09ed-4d69-967c-4951fae52645"
      },
      "execution_count": null,
      "outputs": [
        {
          "output_type": "stream",
          "name": "stdout",
          "text": [
            "Collecting pyspellchecker\n",
            "  Downloading pyspellchecker-0.7.2-py3-none-any.whl (3.4 MB)\n",
            "\u001b[?25l     \u001b[90m━━━━━━━━━━━━━━━━━━━━━━━━━━━━━━━━━━━━━━━━\u001b[0m \u001b[32m0.0/3.4 MB\u001b[0m \u001b[31m?\u001b[0m eta \u001b[36m-:--:--\u001b[0m\r\u001b[2K     \u001b[91m━━━\u001b[0m\u001b[90m╺\u001b[0m\u001b[90m━━━━━━━━━━━━━━━━━━━━━━━━━━━━━━━━━━━━\u001b[0m \u001b[32m0.3/3.4 MB\u001b[0m \u001b[31m8.5 MB/s\u001b[0m eta \u001b[36m0:00:01\u001b[0m\r\u001b[2K     \u001b[91m━━━━━━━━━━━━━━━━━━━━━━━━━━\u001b[0m\u001b[90m╺\u001b[0m\u001b[90m━━━━━━━━━━━━━\u001b[0m \u001b[32m2.2/3.4 MB\u001b[0m \u001b[31m32.5 MB/s\u001b[0m eta \u001b[36m0:00:01\u001b[0m\r\u001b[2K     \u001b[91m━━━━━━━━━━━━━━━━━━━━━━━━━━━━━━━━━━━━━━━\u001b[0m\u001b[91m╸\u001b[0m \u001b[32m3.4/3.4 MB\u001b[0m \u001b[31m41.8 MB/s\u001b[0m eta \u001b[36m0:00:01\u001b[0m\r\u001b[2K     \u001b[90m━━━━━━━━━━━━━━━━━━━━━━━━━━━━━━━━━━━━━━━━\u001b[0m \u001b[32m3.4/3.4 MB\u001b[0m \u001b[31m30.9 MB/s\u001b[0m eta \u001b[36m0:00:00\u001b[0m\n",
            "\u001b[?25hInstalling collected packages: pyspellchecker\n",
            "Successfully installed pyspellchecker-0.7.2\n"
          ]
        }
      ]
    },
    {
      "cell_type": "code",
      "execution_count": null,
      "metadata": {
        "id": "pCE-ILqa-YMV"
      },
      "outputs": [],
      "source": [
        "import pandas as pd\n",
        "import numpy as np\n",
        "import pandas as pd\n",
        "import html\n",
        "import contractions\n",
        "import spacy\n",
        "from spellchecker import SpellChecker\n",
        "from sklearn.preprocessing import MultiLabelBinarizer\n",
        "from sklearn.feature_extraction.text import TfidfVectorizer\n",
        "from sklearn.model_selection import train_test_split\n",
        "from sklearn.metrics import classification_report\n",
        "from sklearn.naive_bayes import MultinomialNB\n",
        "import numpy as np\n",
        "\n",
        "from sklearn.multiclass import OneVsRestClassifier\n",
        "from sklearn.pipeline import Pipeline\n",
        "from sklearn.metrics import accuracy_score\n",
        "\n",
        "import nltk\n",
        "from nltk.corpus import stopwords\n",
        "from nltk.tokenize import word_tokenize\n",
        "from nltk.stem import WordNetLemmatizer\n",
        "from nltk.stem import PorterStemmer\n",
        "\n",
        "\n",
        "\n",
        "# Import the warnings module\n",
        "import warnings\n",
        "\n",
        "# Ignore all warnings\n",
        "warnings.filterwarnings(\"ignore\")\n"
      ]
    },
    {
      "cell_type": "code",
      "source": [
        "nltk.download('stopwords')\n",
        "nltk.download('punkt')\n",
        "nltk.download('wordnet')"
      ],
      "metadata": {
        "colab": {
          "base_uri": "https://localhost:8080/"
        },
        "id": "NLlfVd0HIJ0Q",
        "outputId": "5921ef01-6d1f-4e05-e9d7-188aa9d82429"
      },
      "execution_count": null,
      "outputs": [
        {
          "output_type": "stream",
          "name": "stderr",
          "text": [
            "[nltk_data] Downloading package stopwords to /root/nltk_data...\n",
            "[nltk_data]   Unzipping corpora/stopwords.zip.\n",
            "[nltk_data] Downloading package punkt to /root/nltk_data...\n",
            "[nltk_data]   Unzipping tokenizers/punkt.zip.\n",
            "[nltk_data] Downloading package wordnet to /root/nltk_data...\n"
          ]
        },
        {
          "output_type": "execute_result",
          "data": {
            "text/plain": [
              "True"
            ]
          },
          "metadata": {},
          "execution_count": 7
        }
      ]
    },
    {
      "cell_type": "code",
      "source": [
        "df = pd.read_excel('Tatvam_Classifier_20_labels.xlsx')"
      ],
      "metadata": {
        "id": "l_seo4IpAuPL"
      },
      "execution_count": null,
      "outputs": []
    },
    {
      "cell_type": "code",
      "source": [
        "df.head(5)"
      ],
      "metadata": {
        "colab": {
          "base_uri": "https://localhost:8080/",
          "height": 206
        },
        "id": "mfPf2UtlGkpY",
        "outputId": "9408b172-403b-4be2-f5a4-38400965df1a"
      },
      "execution_count": null,
      "outputs": [
        {
          "output_type": "execute_result",
          "data": {
            "text/plain": [
              "                                             comment  \\\n",
              "0  way overpriced with only a few exhibits the wh...   \n",
              "1  if your hungry generic food choices but your n...   \n",
              "2  what is the point of having tsa-precheck if al...   \n",
              "3  for the most part this airport is very clean a...   \n",
              "4  this airport is huge and everything has long l...   \n",
              "\n",
              "                   keyword_list  \n",
              "0                  ['Exhibits']  \n",
              "1                      ['Food']  \n",
              "2  ['Queue', 'TSA', 'Security']  \n",
              "3                   ['Hygiene']  \n",
              "4                       ['TSA']  "
            ],
            "text/html": [
              "\n",
              "  <div id=\"df-ca7672f2-484d-4bb7-b50a-3cfd6621b858\">\n",
              "    <div class=\"colab-df-container\">\n",
              "      <div>\n",
              "<style scoped>\n",
              "    .dataframe tbody tr th:only-of-type {\n",
              "        vertical-align: middle;\n",
              "    }\n",
              "\n",
              "    .dataframe tbody tr th {\n",
              "        vertical-align: top;\n",
              "    }\n",
              "\n",
              "    .dataframe thead th {\n",
              "        text-align: right;\n",
              "    }\n",
              "</style>\n",
              "<table border=\"1\" class=\"dataframe\">\n",
              "  <thead>\n",
              "    <tr style=\"text-align: right;\">\n",
              "      <th></th>\n",
              "      <th>comment</th>\n",
              "      <th>keyword_list</th>\n",
              "    </tr>\n",
              "  </thead>\n",
              "  <tbody>\n",
              "    <tr>\n",
              "      <th>0</th>\n",
              "      <td>way overpriced with only a few exhibits the wh...</td>\n",
              "      <td>['Exhibits']</td>\n",
              "    </tr>\n",
              "    <tr>\n",
              "      <th>1</th>\n",
              "      <td>if your hungry generic food choices but your n...</td>\n",
              "      <td>['Food']</td>\n",
              "    </tr>\n",
              "    <tr>\n",
              "      <th>2</th>\n",
              "      <td>what is the point of having tsa-precheck if al...</td>\n",
              "      <td>['Queue', 'TSA', 'Security']</td>\n",
              "    </tr>\n",
              "    <tr>\n",
              "      <th>3</th>\n",
              "      <td>for the most part this airport is very clean a...</td>\n",
              "      <td>['Hygiene']</td>\n",
              "    </tr>\n",
              "    <tr>\n",
              "      <th>4</th>\n",
              "      <td>this airport is huge and everything has long l...</td>\n",
              "      <td>['TSA']</td>\n",
              "    </tr>\n",
              "  </tbody>\n",
              "</table>\n",
              "</div>\n",
              "      <button class=\"colab-df-convert\" onclick=\"convertToInteractive('df-ca7672f2-484d-4bb7-b50a-3cfd6621b858')\"\n",
              "              title=\"Convert this dataframe to an interactive table.\"\n",
              "              style=\"display:none;\">\n",
              "        \n",
              "  <svg xmlns=\"http://www.w3.org/2000/svg\" height=\"24px\"viewBox=\"0 0 24 24\"\n",
              "       width=\"24px\">\n",
              "    <path d=\"M0 0h24v24H0V0z\" fill=\"none\"/>\n",
              "    <path d=\"M18.56 5.44l.94 2.06.94-2.06 2.06-.94-2.06-.94-.94-2.06-.94 2.06-2.06.94zm-11 1L8.5 8.5l.94-2.06 2.06-.94-2.06-.94L8.5 2.5l-.94 2.06-2.06.94zm10 10l.94 2.06.94-2.06 2.06-.94-2.06-.94-.94-2.06-.94 2.06-2.06.94z\"/><path d=\"M17.41 7.96l-1.37-1.37c-.4-.4-.92-.59-1.43-.59-.52 0-1.04.2-1.43.59L10.3 9.45l-7.72 7.72c-.78.78-.78 2.05 0 2.83L4 21.41c.39.39.9.59 1.41.59.51 0 1.02-.2 1.41-.59l7.78-7.78 2.81-2.81c.8-.78.8-2.07 0-2.86zM5.41 20L4 18.59l7.72-7.72 1.47 1.35L5.41 20z\"/>\n",
              "  </svg>\n",
              "      </button>\n",
              "      \n",
              "  <style>\n",
              "    .colab-df-container {\n",
              "      display:flex;\n",
              "      flex-wrap:wrap;\n",
              "      gap: 12px;\n",
              "    }\n",
              "\n",
              "    .colab-df-convert {\n",
              "      background-color: #E8F0FE;\n",
              "      border: none;\n",
              "      border-radius: 50%;\n",
              "      cursor: pointer;\n",
              "      display: none;\n",
              "      fill: #1967D2;\n",
              "      height: 32px;\n",
              "      padding: 0 0 0 0;\n",
              "      width: 32px;\n",
              "    }\n",
              "\n",
              "    .colab-df-convert:hover {\n",
              "      background-color: #E2EBFA;\n",
              "      box-shadow: 0px 1px 2px rgba(60, 64, 67, 0.3), 0px 1px 3px 1px rgba(60, 64, 67, 0.15);\n",
              "      fill: #174EA6;\n",
              "    }\n",
              "\n",
              "    [theme=dark] .colab-df-convert {\n",
              "      background-color: #3B4455;\n",
              "      fill: #D2E3FC;\n",
              "    }\n",
              "\n",
              "    [theme=dark] .colab-df-convert:hover {\n",
              "      background-color: #434B5C;\n",
              "      box-shadow: 0px 1px 3px 1px rgba(0, 0, 0, 0.15);\n",
              "      filter: drop-shadow(0px 1px 2px rgba(0, 0, 0, 0.3));\n",
              "      fill: #FFFFFF;\n",
              "    }\n",
              "  </style>\n",
              "\n",
              "      <script>\n",
              "        const buttonEl =\n",
              "          document.querySelector('#df-ca7672f2-484d-4bb7-b50a-3cfd6621b858 button.colab-df-convert');\n",
              "        buttonEl.style.display =\n",
              "          google.colab.kernel.accessAllowed ? 'block' : 'none';\n",
              "\n",
              "        async function convertToInteractive(key) {\n",
              "          const element = document.querySelector('#df-ca7672f2-484d-4bb7-b50a-3cfd6621b858');\n",
              "          const dataTable =\n",
              "            await google.colab.kernel.invokeFunction('convertToInteractive',\n",
              "                                                     [key], {});\n",
              "          if (!dataTable) return;\n",
              "\n",
              "          const docLinkHtml = 'Like what you see? Visit the ' +\n",
              "            '<a target=\"_blank\" href=https://colab.research.google.com/notebooks/data_table.ipynb>data table notebook</a>'\n",
              "            + ' to learn more about interactive tables.';\n",
              "          element.innerHTML = '';\n",
              "          dataTable['output_type'] = 'display_data';\n",
              "          await google.colab.output.renderOutput(dataTable, element);\n",
              "          const docLink = document.createElement('div');\n",
              "          docLink.innerHTML = docLinkHtml;\n",
              "          element.appendChild(docLink);\n",
              "        }\n",
              "      </script>\n",
              "    </div>\n",
              "  </div>\n",
              "  "
            ]
          },
          "metadata": {},
          "execution_count": 9
        }
      ]
    },
    {
      "cell_type": "code",
      "source": [
        "# Pre processing\n",
        "\n",
        "# preprocessing\n",
        "#df['comment'] = df.processed_sentence\n",
        "# replace the string \"Translated by google\" with an empty string\n",
        "df['comment'] = df['comment'].str.replace('translated by google', '')\n",
        "\n",
        "# replace the string \"(Original)\" with an empty string\n",
        "df['comment'] = df['comment'].str.replace('original', '')\n",
        "\n",
        "# replace the regular expression pattern with an empty string\n",
        "#df['comment'] = df['comment'].str.replace(r'\\s*\\s*original\\s*\\).*$', '')\n",
        "\n",
        "# replace the regular expression pattern with an empty string\n",
        "df['comment'] = df['comment'].str.replace(r'https://\\S+', '')\n"
      ],
      "metadata": {
        "id": "j07Alif4Gmn6"
      },
      "execution_count": null,
      "outputs": []
    },
    {
      "cell_type": "code",
      "source": [
        "# Replace the HTML character entity with its corresponding symbol\n",
        "df['comment'] =  df['comment'].str.replace(' and # 39; ', \"'\")\n",
        "df['comment'] = df['comment'].apply(html.unescape)\n",
        "\n",
        "# define a function to abbreviate the contractions in each sentence\n",
        "def abbreviate_contractions(sentence):\n",
        "    return contractions.fix(sentence)\n",
        "\n",
        "# apply the function to the 'sentences' column using the apply method\n",
        "df['comment'] = df['comment'].apply(abbreviate_contractions)"
      ],
      "metadata": {
        "id": "pTJgtQ4EGtyM"
      },
      "execution_count": null,
      "outputs": []
    },
    {
      "cell_type": "code",
      "source": [
        "# Define the unwanted symbols using a regular expression\n",
        "unwanted_symbols = r'[^\\w\\s]'\n",
        "\n",
        "# Remove the unwanted symbols from the 'comment' column\n",
        "df['comment'] = df['comment'].str.replace(unwanted_symbols, '', regex=True)"
      ],
      "metadata": {
        "id": "BnIlKBKWG2Sg"
      },
      "execution_count": null,
      "outputs": []
    },
    {
      "cell_type": "code",
      "source": [
        "# Convert to lower case\n",
        "df['comment'] = df['comment'].str.lower()\n"
      ],
      "metadata": {
        "id": "HHPhIRbhHQpI"
      },
      "execution_count": null,
      "outputs": []
    },
    {
      "cell_type": "code",
      "source": [
        "wordnet_lemmatizer = WordNetLemmatizer()\n",
        "stemmer = PorterStemmer()\n",
        "stopwords = set(stopwords.words('english'))\n",
        "\n",
        "def tokenize_lemma_stopwords(text):\n",
        "    text = text.replace(\"\\n\", \" \")\n",
        "    # split string into words (tokens)\n",
        "    tokens = nltk.tokenize.word_tokenize(text.lower())\n",
        "    # keep strings with only alphabets\n",
        "    tokens = [t for t in tokens if t.isalpha()]\n",
        "    # put words into base form\n",
        "    tokens = [wordnet_lemmatizer.lemmatize(t) for t in tokens]\n",
        "    tokens = [stemmer.stem(t) for t in tokens]\n",
        "    # remove short words, they're probably not useful\n",
        "    tokens = [t for t in tokens if len(t) > 2]\n",
        "    tokens = [t for t in tokens if t not in stopwords] # remove stopwords\n",
        "    cleanedText = \" \".join(tokens)\n",
        "    return cleanedText\n",
        "\n",
        "def dataCleaning(df):\n",
        "    data = df.copy()\n",
        "    data[\"comment\"] =data[\"comment\"].apply(tokenize_lemma_stopwords)\n",
        "    return data\n",
        "#cleanedTrainData = dataCleaning(trainDf)\n",
        "#cleanedTestData = dataCleaning(testDf)"
      ],
      "metadata": {
        "id": "0TmziObV-ayW"
      },
      "execution_count": null,
      "outputs": []
    },
    {
      "cell_type": "code",
      "source": [
        "cleaned_df = dataCleaning(df)"
      ],
      "metadata": {
        "id": "cmDemov2IPuA"
      },
      "execution_count": null,
      "outputs": []
    },
    {
      "cell_type": "code",
      "source": [
        "# Split the data into training and testing sets\n",
        "X_train, X_test, y_train, y_test = train_test_split(cleaned_df['comment'], cleaned_df['keyword_list'], test_size=0.2, random_state=42)"
      ],
      "metadata": {
        "id": "jVPhpipCIh7Y"
      },
      "execution_count": null,
      "outputs": []
    },
    {
      "cell_type": "code",
      "source": [
        "from sklearn.feature_extraction.text import TfidfVectorizer\n",
        "from sklearn import metrics\n",
        "\n",
        "vectorizer = TfidfVectorizer()\n",
        "vectorised_train_documents = vectorizer.fit_transform(X_train)\n",
        "vectorised_test_documents = vectorizer.transform(X_test)"
      ],
      "metadata": {
        "id": "9Qt7rAGqArxX"
      },
      "execution_count": null,
      "outputs": []
    },
    {
      "cell_type": "code",
      "source": [
        "from yellowbrick.text import FreqDistVisualizer\n",
        "features = vectorizer.get_feature_names_out()\n",
        "visualizer = FreqDistVisualizer(features=features, orient='v')\n",
        "visualizer.fit(vectorised_train_documents)\n",
        "visualizer.show()"
      ],
      "metadata": {
        "colab": {
          "base_uri": "https://localhost:8080/",
          "height": 565
        },
        "id": "LHqMrnKiA1gL",
        "outputId": "36127965-a702-4f3f-e787-ca70cad20622"
      },
      "execution_count": null,
      "outputs": [
        {
          "output_type": "display_data",
          "data": {
            "text/plain": [
              "<Figure size 800x550 with 1 Axes>"
            ],
            "image/png": "[encoded data removed]"
          },
          "metadata": {}
        },
        {
          "output_type": "execute_result",
          "data": {
            "text/plain": [
              "<Axes: title={'center': 'Frequency Distribution of Top 50 tokens'}>"
            ]
          },
          "metadata": {},
          "execution_count": 18
        }
      ]
    },
    {
      "cell_type": "code",
      "source": [
        "from sklearn.preprocessing import MultiLabelBinarizer\n",
        "\n",
        "mlb = MultiLabelBinarizer()\n",
        "train_labels = mlb.fit_transform(y_train)\n",
        "test_labels = mlb.transform(y_test)"
      ],
      "metadata": {
        "id": "jWkOlcINA67a"
      },
      "execution_count": null,
      "outputs": []
    },
    {
      "cell_type": "code",
      "source": [
        "from sklearn.neighbors import KNeighborsClassifier\n",
        "from sklearn.multiclass import OneVsRestClassifier\n",
        "\n",
        "knnClf = KNeighborsClassifier()\n",
        "\n",
        "knnClf.fit(vectorised_train_documents, train_labels)\n",
        "knnPredictions = knnClf.predict(vectorised_test_documents)"
      ],
      "metadata": {
        "id": "0FZPs8T3A-3c"
      },
      "execution_count": null,
      "outputs": []
    },
    {
      "cell_type": "code",
      "source": [
        "from sklearn.tree import DecisionTreeClassifier\n",
        "\n",
        "dtClassifier = DecisionTreeClassifier()\n",
        "dtClassifier.fit(vectorised_train_documents, train_labels)\n",
        "dtPreds = dtClassifier.predict(vectorised_test_documents)"
      ],
      "metadata": {
        "id": "UUrEF7inBBap"
      },
      "execution_count": null,
      "outputs": []
    },
    {
      "cell_type": "code",
      "source": [
        "from sklearn.ensemble import RandomForestClassifier\n",
        "rfClassifier = RandomForestClassifier(n_jobs=-1)\n",
        "rfClassifier.fit(vectorised_train_documents, train_labels)\n",
        "rfPreds = rfClassifier.predict(vectorised_test_documents)"
      ],
      "metadata": {
        "id": "P4FmfuBrBDWv"
      },
      "execution_count": null,
      "outputs": []
    },
    {
      "cell_type": "code",
      "source": [
        "from sklearn.ensemble import BaggingClassifier\n",
        "\n",
        "bagClassifier = OneVsRestClassifier(BaggingClassifier(n_jobs=-1))\n",
        "bagClassifier.fit(vectorised_train_documents, train_labels)\n",
        "bagPreds = bagClassifier.predict(vectorised_test_documents)"
      ],
      "metadata": {
        "id": "pUF6UCD8BFkm"
      },
      "execution_count": null,
      "outputs": []
    },
    {
      "cell_type": "code",
      "source": [
        "from sklearn.ensemble import GradientBoostingClassifier\n",
        "\n",
        "boostClassifier = OneVsRestClassifier(GradientBoostingClassifier())\n",
        "boostClassifier.fit(vectorised_train_documents, train_labels)\n",
        "boostPreds = boostClassifier.predict(vectorised_test_documents)"
      ],
      "metadata": {
        "id": "HfVf2AQNBHi3"
      },
      "execution_count": null,
      "outputs": []
    },
    {
      "cell_type": "code",
      "source": [
        "from sklearn.naive_bayes import MultinomialNB\n",
        "\n",
        "nbClassifier = OneVsRestClassifier(MultinomialNB())\n",
        "nbClassifier.fit(vectorised_train_documents, train_labels)\n",
        "nbPreds = nbClassifier.predict(vectorised_test_documents)"
      ],
      "metadata": {
        "id": "Q9i17Xf2BJOy"
      },
      "execution_count": null,
      "outputs": []
    },
    {
      "cell_type": "code",
      "source": [
        "from sklearn.svm import LinearSVC\n",
        "\n",
        "svmClassifier = OneVsRestClassifier(LinearSVC(), n_jobs=-1)\n",
        "svmClassifier.fit(vectorised_train_documents, train_labels)\n",
        "\n",
        "svmPreds = svmClassifier.predict(vectorised_test_documents)"
      ],
      "metadata": {
        "id": "ob3o2BY9BLL8"
      },
      "execution_count": null,
      "outputs": []
    },
    {
      "cell_type": "code",
      "source": [
        "train_labels"
      ],
      "metadata": {
        "colab": {
          "base_uri": "https://localhost:8080/"
        },
        "id": "IiZWRnv8MH2y",
        "outputId": "9fee4015-ae73-49a8-ce2f-fe05875daf41"
      },
      "execution_count": null,
      "outputs": [
        {
          "output_type": "execute_result",
          "data": {
            "text/plain": [
              "array([[0, 1, 0, ..., 1, 0, 0],\n",
              "       [0, 1, 0, ..., 0, 0, 0],\n",
              "       [0, 1, 0, ..., 0, 0, 0],\n",
              "       ...,\n",
              "       [1, 1, 1, ..., 1, 0, 0],\n",
              "       [0, 1, 0, ..., 0, 0, 0],\n",
              "       [1, 1, 1, ..., 0, 1, 0]])"
            ]
          },
          "metadata": {},
          "execution_count": 27
        }
      ]
    },
    {
      "cell_type": "code",
      "source": [
        "#from sklearn.svm import LinearSVC\n",
        "#from skmultilearn.problem_transform import BinaryRelevance\n",
        "\n",
        "#BinaryRelSVC = BinaryRelevance(LinearSVC())\n",
        "#BinaryRelSVC.fit(vectorised_train_documents, train_labels)\n",
        "\n",
        "#BinaryRelSVCPreds = BinaryRelSVC.predict(vectorised_test_documents)"
      ],
      "metadata": {
        "id": "uhvYYm-gBNGh"
      },
      "execution_count": null,
      "outputs": []
    },
    {
      "cell_type": "code",
      "source": [
        "from sklearn.svm import LinearSVC\n",
        "\n",
        "svmClassifier = OneVsRestClassifier(LinearSVC(), n_jobs=-1)\n",
        "svmClassifier.fit(vectorised_train_documents, train_labels)\n",
        "\n",
        "svmPreds = svmClassifier.predict(vectorised_test_documents)"
      ],
      "metadata": {
        "id": "33BN_O3HBO6I"
      },
      "execution_count": null,
      "outputs": []
    },
    {
      "cell_type": "code",
      "source": [
        "from skmultilearn.problem_transform import LabelPowerset\n",
        "\n",
        "powerSetSVC = LabelPowerset(LinearSVC())\n",
        "powerSetSVC.fit(vectorised_train_documents, train_labels)\n",
        "\n",
        "powerSetSVCPreds = powerSetSVC.predict(vectorised_test_documents)"
      ],
      "metadata": {
        "id": "9bQDn1HVBRIB"
      },
      "execution_count": null,
      "outputs": []
    },
    {
      "cell_type": "code",
      "source": [
        "from sklearn.metrics import accuracy_score, precision_score, recall_score, f1_score, confusion_matrix, hamming_loss\n",
        "ModelsPerformance = {}\n",
        "\n",
        "def metricsReport(modelName, test_labels, predictions):\n",
        "    macro_f1 = f1_score(test_labels, predictions, average='macro')\n",
        "\n",
        "    micro_f1 = f1_score(test_labels, predictions, average='micro')\n",
        "\n",
        "    hamLoss = hamming_loss(test_labels, predictions)\n",
        "    ModelsPerformance[modelName] = micro_f1"
      ],
      "metadata": {
        "id": "M7hW5NOKBTn0"
      },
      "execution_count": null,
      "outputs": []
    },
    {
      "cell_type": "code",
      "source": [
        "ModelsAccPerformance = {}\n",
        "ModelsPerformance = {}\n",
        "model_name = 'KNeighborsClassifier'\n",
        "metricsReport('KNeighborsClassifier',test_labels,knnPredictions)"
      ],
      "metadata": {
        "id": "s2rO6nrcMQB_"
      },
      "execution_count": null,
      "outputs": []
    },
    {
      "cell_type": "code",
      "source": [
        "ModelsPerformance"
      ],
      "metadata": {
        "colab": {
          "base_uri": "https://localhost:8080/"
        },
        "id": "-qQIYpRmMyNk",
        "outputId": "31210f41-a596-4423-8285-01e8df02ed9f"
      },
      "execution_count": null,
      "outputs": [
        {
          "output_type": "execute_result",
          "data": {
            "text/plain": [
              "{'KNeighborsClassifier': 0.667668351318126}"
            ]
          },
          "metadata": {},
          "execution_count": 33
        }
      ]
    },
    {
      "cell_type": "code",
      "source": [
        "from sklearn import metrics\n",
        "# Compute accuracy\n",
        "accuracy = metrics.accuracy_score(test_labels, knnPredictions)\n",
        "print(f\"Accuracy: {accuracy:.2f}\")\n",
        "ModelsAccPerformance[model_name]=accuracy"
      ],
      "metadata": {
        "id": "4Dee1fTCNBHO",
        "colab": {
          "base_uri": "https://localhost:8080/"
        },
        "outputId": "822c2401-c0ba-409e-f295-a920ebd61481"
      },
      "execution_count": null,
      "outputs": [
        {
          "output_type": "stream",
          "name": "stdout",
          "text": [
            "Accuracy: 0.10\n"
          ]
        }
      ]
    },
    {
      "cell_type": "code",
      "source": [
        "model_name = 'DecisionTreeClassifier'\n",
        "metricsReport('DecisionTreeClassifier',test_labels,dtPreds)\n",
        "ModelsPerformance"
      ],
      "metadata": {
        "id": "Y3pkEv1RNF0G",
        "colab": {
          "base_uri": "https://localhost:8080/"
        },
        "outputId": "dd5de82d-e5a1-4297-9d9c-425aea36e23f"
      },
      "execution_count": null,
      "outputs": [
        {
          "output_type": "execute_result",
          "data": {
            "text/plain": [
              "{'KNeighborsClassifier': 0.667668351318126,\n",
              " 'DecisionTreeClassifier': 0.739414532148458}"
            ]
          },
          "metadata": {},
          "execution_count": 35
        }
      ]
    },
    {
      "cell_type": "code",
      "source": [
        "accuracy = metrics.accuracy_score(test_labels, dtPreds)\n",
        "print(f\"Accuracy: {accuracy:.2f}\")\n",
        "ModelsAccPerformance[model_name]=accuracy"
      ],
      "metadata": {
        "id": "5KKJJ6TWNXUK",
        "colab": {
          "base_uri": "https://localhost:8080/"
        },
        "outputId": "5e91114a-0e7b-4a30-c610-6ba12d350225"
      },
      "execution_count": null,
      "outputs": [
        {
          "output_type": "stream",
          "name": "stdout",
          "text": [
            "Accuracy: 0.37\n"
          ]
        }
      ]
    },
    {
      "cell_type": "code",
      "source": [
        "model_name = 'RandomForestClassifier'\n",
        "\n",
        "metricsReport('RandomForestClassifier',test_labels,rfPreds)\n",
        "ModelsPerformance\n"
      ],
      "metadata": {
        "id": "8MMaQO4HNc_1",
        "colab": {
          "base_uri": "https://localhost:8080/"
        },
        "outputId": "a7d0e6d1-2cd2-4a90-ee7e-e66f940f9a6c"
      },
      "execution_count": null,
      "outputs": [
        {
          "output_type": "execute_result",
          "data": {
            "text/plain": [
              "{'KNeighborsClassifier': 0.667668351318126,\n",
              " 'DecisionTreeClassifier': 0.739414532148458,\n",
              " 'RandomForestClassifier': 0.7189021691013724}"
            ]
          },
          "metadata": {},
          "execution_count": 37
        }
      ]
    },
    {
      "cell_type": "code",
      "source": [
        "accuracy = metrics.accuracy_score(test_labels, rfPreds)\n",
        "print(f\"Accuracy: {accuracy:.2f}\")\n",
        "ModelsAccPerformance[model_name]=accuracy"
      ],
      "metadata": {
        "id": "6ufYFQcfN21g",
        "colab": {
          "base_uri": "https://localhost:8080/"
        },
        "outputId": "ec0157c9-3fc3-4f64-a530-6f7010e4ee5b"
      },
      "execution_count": null,
      "outputs": [
        {
          "output_type": "stream",
          "name": "stdout",
          "text": [
            "Accuracy: 0.24\n"
          ]
        }
      ]
    },
    {
      "cell_type": "code",
      "source": [
        "model_name = 'BaggingClassifier'\n",
        "\n",
        "metricsReport('BaggingClassifier',test_labels,bagPreds)\n",
        "ModelsPerformance"
      ],
      "metadata": {
        "id": "jYM0OhfuN6Tp",
        "colab": {
          "base_uri": "https://localhost:8080/"
        },
        "outputId": "10aaa191-0b05-4949-e61d-4b305faf2c5c"
      },
      "execution_count": null,
      "outputs": [
        {
          "output_type": "execute_result",
          "data": {
            "text/plain": [
              "{'KNeighborsClassifier': 0.667668351318126,\n",
              " 'DecisionTreeClassifier': 0.739414532148458,\n",
              " 'RandomForestClassifier': 0.7189021691013724,\n",
              " 'BaggingClassifier': 0.8031754032258066}"
            ]
          },
          "metadata": {},
          "execution_count": 39
        }
      ]
    },
    {
      "cell_type": "code",
      "source": [
        "accuracy = metrics.accuracy_score(test_labels, bagPreds)\n",
        "print(f\"Accuracy: {accuracy:.2f}\")\n",
        "ModelsAccPerformance[model_name]=accuracy"
      ],
      "metadata": {
        "id": "tJ3TlxlCO8r5",
        "colab": {
          "base_uri": "https://localhost:8080/"
        },
        "outputId": "a5c70f42-1c6b-4b68-fe18-d60fd6203953"
      },
      "execution_count": null,
      "outputs": [
        {
          "output_type": "stream",
          "name": "stdout",
          "text": [
            "Accuracy: 0.20\n"
          ]
        }
      ]
    },
    {
      "cell_type": "code",
      "source": [
        "model_name = 'GradientBoostingClassifier'\n",
        "\n",
        "metricsReport('GradientBoostingClassifier',test_labels,boostPreds)\n",
        "ModelsPerformance"
      ],
      "metadata": {
        "id": "AAJWsLDCO_3z",
        "colab": {
          "base_uri": "https://localhost:8080/"
        },
        "outputId": "a2f5d189-8a26-4cc9-84db-82416ce822df"
      },
      "execution_count": null,
      "outputs": [
        {
          "output_type": "execute_result",
          "data": {
            "text/plain": [
              "{'KNeighborsClassifier': 0.667668351318126,\n",
              " 'DecisionTreeClassifier': 0.739414532148458,\n",
              " 'RandomForestClassifier': 0.7189021691013724,\n",
              " 'BaggingClassifier': 0.8031754032258066,\n",
              " 'GradientBoostingClassifier': 0.8107833163784335}"
            ]
          },
          "metadata": {},
          "execution_count": 41
        }
      ]
    },
    {
      "cell_type": "code",
      "source": [
        "accuracy = metrics.accuracy_score(test_labels, boostPreds)\n",
        "print(f\"Accuracy: {accuracy:.2f}\")\n",
        "ModelsAccPerformance[model_name]=accuracy"
      ],
      "metadata": {
        "id": "Cw_DOMU3OCb8",
        "colab": {
          "base_uri": "https://localhost:8080/"
        },
        "outputId": "ac2bbd98-393b-4b42-be12-f75acdec3c31"
      },
      "execution_count": null,
      "outputs": [
        {
          "output_type": "stream",
          "name": "stdout",
          "text": [
            "Accuracy: 0.22\n"
          ]
        }
      ]
    },
    {
      "cell_type": "code",
      "source": [
        "model_name = 'MultinomialNB'\n",
        "\n",
        "metricsReport('MultinomialNB',test_labels,nbPreds)\n",
        "ModelsPerformance"
      ],
      "metadata": {
        "id": "a6xetpxFOGmJ",
        "colab": {
          "base_uri": "https://localhost:8080/"
        },
        "outputId": "85a52c4b-a212-435d-998f-ea451ea64ca3"
      },
      "execution_count": null,
      "outputs": [
        {
          "output_type": "execute_result",
          "data": {
            "text/plain": [
              "{'KNeighborsClassifier': 0.667668351318126,\n",
              " 'DecisionTreeClassifier': 0.739414532148458,\n",
              " 'RandomForestClassifier': 0.7189021691013724,\n",
              " 'BaggingClassifier': 0.8031754032258066,\n",
              " 'GradientBoostingClassifier': 0.8107833163784335,\n",
              " 'MultinomialNB': 0.5970873786407768}"
            ]
          },
          "metadata": {},
          "execution_count": 43
        }
      ]
    },
    {
      "cell_type": "code",
      "source": [
        "accuracy = metrics.accuracy_score(test_labels, nbPreds)\n",
        "print(f\"Accuracy: {accuracy:.2f}\")\n",
        "ModelsAccPerformance[model_name]=accuracy"
      ],
      "metadata": {
        "id": "LPBNZVXfPTZM",
        "colab": {
          "base_uri": "https://localhost:8080/"
        },
        "outputId": "42802749-ed9b-42b1-d1d7-8a7fa90df8c9"
      },
      "execution_count": null,
      "outputs": [
        {
          "output_type": "stream",
          "name": "stdout",
          "text": [
            "Accuracy: 0.00\n"
          ]
        }
      ]
    },
    {
      "cell_type": "code",
      "source": [
        "model_name = 'LinearSVC'\n",
        "\n",
        "metricsReport('LinearSVC',test_labels,svmPreds)\n",
        "ModelsPerformance"
      ],
      "metadata": {
        "id": "BacjgI1FOIaI",
        "colab": {
          "base_uri": "https://localhost:8080/"
        },
        "outputId": "baef1067-4d56-4d6d-9ebc-aede9a71ac45"
      },
      "execution_count": null,
      "outputs": [
        {
          "output_type": "execute_result",
          "data": {
            "text/plain": [
              "{'KNeighborsClassifier': 0.667668351318126,\n",
              " 'DecisionTreeClassifier': 0.739414532148458,\n",
              " 'RandomForestClassifier': 0.7189021691013724,\n",
              " 'BaggingClassifier': 0.8031754032258066,\n",
              " 'GradientBoostingClassifier': 0.8107833163784335,\n",
              " 'MultinomialNB': 0.5970873786407768,\n",
              " 'LinearSVC': 0.7557813126587355}"
            ]
          },
          "metadata": {},
          "execution_count": 45
        }
      ]
    },
    {
      "cell_type": "code",
      "source": [
        "accuracy = metrics.accuracy_score(test_labels, nbPreds)\n",
        "print(f\"Accuracy: {accuracy:.2f}\")\n",
        "ModelsAccPerformance[model_name]=accuracy"
      ],
      "metadata": {
        "id": "2Crrg4pWPnq8",
        "colab": {
          "base_uri": "https://localhost:8080/"
        },
        "outputId": "96b0ff47-283b-4469-fb6e-9f45f0f16717"
      },
      "execution_count": null,
      "outputs": [
        {
          "output_type": "stream",
          "name": "stdout",
          "text": [
            "Accuracy: 0.00\n"
          ]
        }
      ]
    },
    {
      "cell_type": "code",
      "source": [
        "model_name = 'LabelPowerset'\n",
        "\n",
        "metricsReport('LabelPowerset',test_labels,powerSetSVCPreds)\n",
        "ModelsPerformance"
      ],
      "metadata": {
        "id": "ToVOV1JtOQMn",
        "colab": {
          "base_uri": "https://localhost:8080/"
        },
        "outputId": "d4e5d527-7ade-4e71-bb5c-528f0c09d55a"
      },
      "execution_count": null,
      "outputs": [
        {
          "output_type": "execute_result",
          "data": {
            "text/plain": [
              "{'KNeighborsClassifier': 0.667668351318126,\n",
              " 'DecisionTreeClassifier': 0.739414532148458,\n",
              " 'RandomForestClassifier': 0.7189021691013724,\n",
              " 'BaggingClassifier': 0.8031754032258066,\n",
              " 'GradientBoostingClassifier': 0.8107833163784335,\n",
              " 'MultinomialNB': 0.5970873786407768,\n",
              " 'LinearSVC': 0.7557813126587355,\n",
              " 'LabelPowerset': 0.6992555134148055}"
            ]
          },
          "metadata": {},
          "execution_count": 47
        }
      ]
    },
    {
      "cell_type": "code",
      "source": [
        "accuracy = metrics.accuracy_score(test_labels, powerSetSVCPreds)\n",
        "print(f\"Accuracy: {accuracy:.2f}\")\n",
        "ModelsAccPerformance[model_name]=accuracy"
      ],
      "metadata": {
        "id": "-2TE_jkkRDtt",
        "colab": {
          "base_uri": "https://localhost:8080/"
        },
        "outputId": "f6cf4930-135b-42a4-e4b0-8204c1711a7e"
      },
      "execution_count": null,
      "outputs": [
        {
          "output_type": "stream",
          "name": "stdout",
          "text": [
            "Accuracy: 0.35\n"
          ]
        }
      ]
    },
    {
      "cell_type": "code",
      "source": [
        "print(ModelsPerformance)"
      ],
      "metadata": {
        "id": "Zq2g062VRGWT",
        "colab": {
          "base_uri": "https://localhost:8080/"
        },
        "outputId": "bb4f614e-8c47-4435-f101-00e6356b9820"
      },
      "execution_count": null,
      "outputs": [
        {
          "output_type": "stream",
          "name": "stdout",
          "text": [
            "{'KNeighborsClassifier': 0.667668351318126, 'DecisionTreeClassifier': 0.739414532148458, 'RandomForestClassifier': 0.7189021691013724, 'BaggingClassifier': 0.8031754032258066, 'GradientBoostingClassifier': 0.8107833163784335, 'MultinomialNB': 0.5970873786407768, 'LinearSVC': 0.7557813126587355, 'LabelPowerset': 0.6992555134148055}\n"
          ]
        }
      ]
    },
    {
      "cell_type": "code",
      "source": [
        "from tabulate import tabulate\n",
        "\n",
        "my_dict = {key: [value] for key, value in ModelsPerformance.items()}\n",
        "\n",
        "headers = my_dict.keys()\n",
        "rows = [my_dict[key] for key in headers]\n",
        "table = zip(*rows)\n",
        "\n",
        "print(tabulate(table, headers=headers))\n"
      ],
      "metadata": {
        "id": "kOEdD8GaRSaL",
        "colab": {
          "base_uri": "https://localhost:8080/"
        },
        "outputId": "e53a509e-6f2c-4600-8392-457eb5b30683"
      },
      "execution_count": null,
      "outputs": [
        {
          "output_type": "stream",
          "name": "stdout",
          "text": [
            "  KNeighborsClassifier    DecisionTreeClassifier    RandomForestClassifier    BaggingClassifier    GradientBoostingClassifier    MultinomialNB    LinearSVC    LabelPowerset\n",
            "----------------------  ------------------------  ------------------------  -------------------  ----------------------------  ---------------  -----------  ---------------\n",
            "              0.667668                  0.739415                  0.718902             0.803175                      0.810783         0.597087     0.755781         0.699256\n"
          ]
        }
      ]
    },
    {
      "cell_type": "code",
      "source": [
        "my_dict = {key: [value] for key, value in ModelsAccPerformance.items()}\n",
        "\n",
        "headers = my_dict.keys()\n",
        "rows = [my_dict[key] for key in headers]\n",
        "table = zip(*rows)\n",
        "\n",
        "print(tabulate(table, headers=headers))"
      ],
      "metadata": {
        "id": "8V1X3UKsRjmp",
        "colab": {
          "base_uri": "https://localhost:8080/"
        },
        "outputId": "cb71ee69-1fad-4385-96f5-2a8fd713a77b"
      },
      "execution_count": null,
      "outputs": [
        {
          "output_type": "stream",
          "name": "stdout",
          "text": [
            "  KNeighborsClassifier    DecisionTreeClassifier    RandomForestClassifier    BaggingClassifier    GradientBoostingClassifier    MultinomialNB    LinearSVC    LabelPowerset\n",
            "----------------------  ------------------------  ------------------------  -------------------  ----------------------------  ---------------  -----------  ---------------\n",
            "                   0.1                  0.372727                  0.236364                  0.2                      0.221212                0            0         0.354545\n"
          ]
        }
      ]
    },
    {
      "cell_type": "code",
      "source": [],
      "metadata": {
        "id": "dJ1m3oR-t813"
      },
      "execution_count": null,
      "outputs": []
    }
  ]
}